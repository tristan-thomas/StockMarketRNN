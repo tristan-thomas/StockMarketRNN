{
 "cells": [
  {
   "cell_type": "code",
   "execution_count": 18,
   "metadata": {},
   "outputs": [],
   "source": [
    "import yfinance as yf\n",
    "import numpy as np \n",
    "import pandas as pd\n",
    "import matplotlib\n",
    "import mplfinance as mpf\n",
    "import matplotlib.pylab as plt\n",
    "import matplotlib.dates as mdates\n",
    "import scipy.stats as stats\n",
    "from datetime import datetime, timedelta\n",
    "import math\n",
    "import pickle\n",
    "import gzip\n",
    "%matplotlib inline\n",
    "\n",
    "# Test PyTorch installation\n",
    "import torch \n",
    "import torch.nn as nn\n",
    "import pytorch_lightning as pl\n",
    "from sklearn.preprocessing import MinMaxScaler\n",
    "import seaborn as sns"
   ]
  },
  {
   "cell_type": "markdown",
   "metadata": {},
   "source": [
    "### Basic single-LSTM Layer RNN: "
   ]
  },
  {
   "cell_type": "markdown",
   "metadata": {},
   "source": [
    "Initializes device, enables GPU if available."
   ]
  },
  {
   "cell_type": "code",
   "execution_count": 79,
   "metadata": {},
   "outputs": [
    {
     "name": "stdout",
     "output_type": "stream",
     "text": [
      "GPU not available, CPU used\n"
     ]
    }
   ],
   "source": [
    "# torch.cuda.is_available() checks and returns a Boolean True if a GPU is available, else it'll return False\n",
    "is_cuda = torch.cuda.is_available()\n",
    "\n",
    "# If we have a GPU available, we'll set our device to GPU. We'll use this device variable later in our code.\n",
    "if is_cuda:\n",
    "    device = torch.device(\"cuda\")\n",
    "    print(\"GPU is available\")\n",
    "else:\n",
    "    device = torch.device(\"cpu\")\n",
    "    print(\"GPU not available, CPU used\")"
   ]
  },
  {
   "cell_type": "code",
   "execution_count": 104,
   "metadata": {},
   "outputs": [],
   "source": [
    "# Get data and define price\n",
    "ticker = 'AAPL'\n",
    "startDate = '2015-12-31'\n",
    "endDate = '2016-12-31'\n",
    "\n",
    "df = yf.Ticker(ticker).history(start=startDate, end=endDate)\n",
    "del df['Dividends']\n",
    "del df['Stock Splits']\n"
   ]
  },
  {
   "cell_type": "code",
   "execution_count": 105,
   "metadata": {},
   "outputs": [],
   "source": [
    "price = df[\"Close\"]\n",
    "high_price = df[\"High\"]\n",
    "low_price = df[\"Low\"]"
   ]
  },
  {
   "cell_type": "code",
   "execution_count": 106,
   "metadata": {},
   "outputs": [],
   "source": [
    "# make scaler and normalize data\n",
    "scaler = MinMaxScaler(feature_range=(-1,1))\n",
    "data_normalized = scaler.fit_transform(price.values.reshape(-1,1))\n",
    "data_normalized_high = scaler.fit_transform(high_price.values.reshape(-1,1))"
   ]
  },
  {
   "cell_type": "code",
   "execution_count": 121,
   "metadata": {},
   "outputs": [
    {
     "name": "stdout",
     "output_type": "stream",
     "text": [
      "[-0.03901245]\n",
      "[0.02217217]\n",
      "[-0.03901245  0.02217217]\n"
     ]
    }
   ],
   "source": [
    "data = np.concatenate((data_normalized,data_normalized_high), axis=1)"
   ]
  },
  {
   "cell_type": "code",
   "execution_count": 122,
   "metadata": {},
   "outputs": [],
   "source": [
    "# put data into sliding window format\n",
    "train_window = 20 # 20 days\n",
    "\n",
    "def sliding_window(data, train_window):\n",
    "    \"\"\"\n",
    "    Split Data into sliding window segemnts\n",
    "    \"\"\"\n",
    "    data_window = []\n",
    "    for i in range(len(data) - train_window):\n",
    "        data_window.append(data[i: i+ train_window])\n",
    "    return data_window\n",
    "sliding_data = sliding_window(data, train_window)\n",
    "# sliding_data_high = sliding_window(data_normalized_high, train_window)"
   ]
  },
  {
   "cell_type": "code",
   "execution_count": 123,
   "metadata": {},
   "outputs": [],
   "source": [
    "# take sliding window and split it up into train/test data\n",
    "def split_data(data):\n",
    "    data = np.array(data) # convert to handle data nicer for splitting up training and testing\n",
    "    train_size = int(0.7*len(data))\n",
    "    test_size = int(0.3*len(data))\n",
    "    # print(data[:train_size,:-1])\n",
    "    \n",
    "    x_train = data[:train_size,:-1] # training data and x data\n",
    "    y_train = data[:train_size,-1] # training data and y label\n",
    "    \n",
    "    x_test = data[train_size:,:-1]\n",
    "    y_test = data[train_size:,-1]\n",
    "    \n",
    "    x_train = torch.from_numpy(x_train).type(torch.Tensor)\n",
    "    y_train = torch.from_numpy(y_train).type(torch.Tensor)\n",
    "    x_test = torch.from_numpy(x_test).type(torch.Tensor)\n",
    "    y_test = torch.from_numpy(y_test).type(torch.Tensor)\n",
    "    return x_train, y_train, x_test, y_test\n",
    "\n",
    "x_train, y_train, x_test, y_test = split_data(sliding_data)"
   ]
  },
  {
   "cell_type": "code",
   "execution_count": 133,
   "metadata": {},
   "outputs": [],
   "source": [
    "class LSTM(nn.Module):\n",
    "    ''' input_size: one price at a day\n",
    "        hidden_layer_size: # of hidden layers along w number of neurons in each layer\n",
    "        output_size: number of items in output (price at day)\n",
    "    '''\n",
    "    def __init__(self, input_layer_size = 2, hidden_layer_size = 10, num_layers = 3, output_layer_size = 1):\n",
    "        super(LSTM, self).__init__()\n",
    "        self.input_layer_size = input_layer_size\n",
    "        self.hidden_layer_size = hidden_layer_size\n",
    "        self.num_layers = num_layers\n",
    "        \n",
    "        self.lstm = nn.LSTM(input_layer_size, hidden_layer_size, num_layers,  batch_first = True)\n",
    "\n",
    "        self.linear = nn.Linear(hidden_layer_size, output_layer_size)\n",
    "\n",
    "        self.hidden_cell = (torch.zeros(1,1,self.hidden_layer_size),\n",
    "                            torch.zeros(1,1,self.hidden_layer_size))\n",
    "\n",
    "    def forward(self, input_data):\n",
    "        \"\"\"\n",
    "        h0 = inital hidden state, size of num of layers, a tenor of zeros with gradients\n",
    "        c0 = inital cell state of lstm, size of num of layers, a tensor of zeros with gradients\n",
    "        .requires_grad() = allows gradients and calculation of new gradients using backward()\n",
    "        \"\"\"\n",
    "        hidden_state = torch.zeros(self.num_layers, input_data.size(0), self.hidden_layer_size).requires_grad_()# inital hidden state\n",
    "        cell_state = torch.zeros(self.num_layers, input_data.size(0), self.hidden_layer_size).requires_grad_()# inital cell state\n",
    "        lstm_out, (hidden, cell) = self.lstm(input_data, (hidden_state.detach(), cell_state.detach()))\n",
    "        return self.linear(lstm_out[:, -1, :])\n",
    "#         lstm_out, self.hidden_cell = self.lstm(input_data, self.hidden_cell)\n",
    "#         predicitons = self.linear(lstm_out)\n",
    "#         return predicitons[-1]\n",
    "    \n",
    "    "
   ]
  },
  {
   "cell_type": "code",
   "execution_count": 134,
   "metadata": {},
   "outputs": [],
   "source": [
    "\"\"\"\n",
    "Create model, loss function, optimization function\n",
    "\"\"\"\n",
    "model = LSTM(input_layer_size = 2, hidden_layer_size = 30, output_layer_size = 1,num_layers = 3)\n",
    "loss_function = nn.MSELoss()\n",
    "optimizer = torch.optim.Adam(model.parameters(), lr=0.01)"
   ]
  },
  {
   "cell_type": "code",
   "execution_count": 135,
   "metadata": {},
   "outputs": [
    {
     "name": "stdout",
     "output_type": "stream",
     "text": [
      "LSTM(\n",
      "  (lstm): LSTM(2, 30, num_layers=3, batch_first=True)\n",
      "  (linear): Linear(in_features=30, out_features=1, bias=True)\n",
      ")\n"
     ]
    }
   ],
   "source": [
    "print(model)"
   ]
  },
  {
   "cell_type": "code",
   "execution_count": 136,
   "metadata": {},
   "outputs": [
    {
     "name": "stderr",
     "output_type": "stream",
     "text": [
      "/Users/samghala/anaconda3/lib/python3.7/site-packages/torch/nn/modules/loss.py:445: UserWarning:\n",
      "\n",
      "Using a target size (torch.Size([163, 2])) that is different to the input size (torch.Size([163, 1])). This will likely lead to incorrect results due to broadcasting. Please ensure they have the same size.\n",
      "\n"
     ]
    },
    {
     "name": "stdout",
     "output_type": "stream",
     "text": [
      "epoch: 149 loss: 0.0073285704\n"
     ]
    }
   ],
   "source": [
    "epochs = 150\n",
    "loss_arr = []\n",
    "\n",
    "for i in range(epochs):\n",
    "    # model.hidden_cell = (torch.zeros(1, 1, model.hidden_layer_size), torch.zeros(1, 1, model.hidden_layer_size))\n",
    "    y_pred = model(x_train)\n",
    "\n",
    "    single_loss = loss_function(y_pred, y_train)\n",
    "    loss_arr.append(single_loss.item())\n",
    "    optimizer.zero_grad() # zero out gradients for new backprop \n",
    "    single_loss.backward()\n",
    "    optimizer.step()\n",
    "\n",
    "    #print(f'epoch: {i:3} loss: {single_loss.item():10.8f}')\n",
    "loss_arr = np.array(loss_arr)\n",
    "#print(loss_arr)\n",
    "print(f'epoch: {i:3} loss: {single_loss.item():10.10f}')"
   ]
  },
  {
   "cell_type": "code",
   "execution_count": 128,
   "metadata": {},
   "outputs": [
    {
     "ename": "ValueError",
     "evalue": "Shape of passed values is (163, 2), indices imply (163, 1)",
     "output_type": "error",
     "traceback": [
      "\u001b[0;31m---------------------------------------------------------------------------\u001b[0m",
      "\u001b[0;31mValueError\u001b[0m                                Traceback (most recent call last)",
      "\u001b[0;32m~/anaconda3/lib/python3.7/site-packages/pandas/core/internals/managers.py\u001b[0m in \u001b[0;36mcreate_block_manager_from_blocks\u001b[0;34m(blocks, axes)\u001b[0m\n\u001b[1;32m   1677\u001b[0m                 blocks = [\n\u001b[0;32m-> 1678\u001b[0;31m                     \u001b[0mmake_block\u001b[0m\u001b[0;34m(\u001b[0m\u001b[0mvalues\u001b[0m\u001b[0;34m=\u001b[0m\u001b[0mblocks\u001b[0m\u001b[0;34m[\u001b[0m\u001b[0;36m0\u001b[0m\u001b[0;34m]\u001b[0m\u001b[0;34m,\u001b[0m \u001b[0mplacement\u001b[0m\u001b[0;34m=\u001b[0m\u001b[0mslice\u001b[0m\u001b[0;34m(\u001b[0m\u001b[0;36m0\u001b[0m\u001b[0;34m,\u001b[0m \u001b[0mlen\u001b[0m\u001b[0;34m(\u001b[0m\u001b[0maxes\u001b[0m\u001b[0;34m[\u001b[0m\u001b[0;36m0\u001b[0m\u001b[0;34m]\u001b[0m\u001b[0;34m)\u001b[0m\u001b[0;34m)\u001b[0m\u001b[0;34m)\u001b[0m\u001b[0;34m\u001b[0m\u001b[0;34m\u001b[0m\u001b[0m\n\u001b[0m\u001b[1;32m   1679\u001b[0m                 ]\n",
      "\u001b[0;32m~/anaconda3/lib/python3.7/site-packages/pandas/core/internals/blocks.py\u001b[0m in \u001b[0;36mmake_block\u001b[0;34m(values, placement, klass, ndim, dtype, fastpath)\u001b[0m\n\u001b[1;32m   3266\u001b[0m \u001b[0;34m\u001b[0m\u001b[0m\n\u001b[0;32m-> 3267\u001b[0;31m     \u001b[0;32mreturn\u001b[0m \u001b[0mklass\u001b[0m\u001b[0;34m(\u001b[0m\u001b[0mvalues\u001b[0m\u001b[0;34m,\u001b[0m \u001b[0mndim\u001b[0m\u001b[0;34m=\u001b[0m\u001b[0mndim\u001b[0m\u001b[0;34m,\u001b[0m \u001b[0mplacement\u001b[0m\u001b[0;34m=\u001b[0m\u001b[0mplacement\u001b[0m\u001b[0;34m)\u001b[0m\u001b[0;34m\u001b[0m\u001b[0;34m\u001b[0m\u001b[0m\n\u001b[0m\u001b[1;32m   3268\u001b[0m \u001b[0;34m\u001b[0m\u001b[0m\n",
      "\u001b[0;32m~/anaconda3/lib/python3.7/site-packages/pandas/core/internals/blocks.py\u001b[0m in \u001b[0;36m__init__\u001b[0;34m(self, values, placement, ndim)\u001b[0m\n\u001b[1;32m    127\u001b[0m                 \u001b[0;34m\"Wrong number of items passed {val}, placement implies \"\u001b[0m\u001b[0;34m\u001b[0m\u001b[0;34m\u001b[0m\u001b[0m\n\u001b[0;32m--> 128\u001b[0;31m                 \u001b[0;34m\"{mgr}\"\u001b[0m\u001b[0;34m.\u001b[0m\u001b[0mformat\u001b[0m\u001b[0;34m(\u001b[0m\u001b[0mval\u001b[0m\u001b[0;34m=\u001b[0m\u001b[0mlen\u001b[0m\u001b[0;34m(\u001b[0m\u001b[0mself\u001b[0m\u001b[0;34m.\u001b[0m\u001b[0mvalues\u001b[0m\u001b[0;34m)\u001b[0m\u001b[0;34m,\u001b[0m \u001b[0mmgr\u001b[0m\u001b[0;34m=\u001b[0m\u001b[0mlen\u001b[0m\u001b[0;34m(\u001b[0m\u001b[0mself\u001b[0m\u001b[0;34m.\u001b[0m\u001b[0mmgr_locs\u001b[0m\u001b[0;34m)\u001b[0m\u001b[0;34m)\u001b[0m\u001b[0;34m\u001b[0m\u001b[0;34m\u001b[0m\u001b[0m\n\u001b[0m\u001b[1;32m    129\u001b[0m             )\n",
      "\u001b[0;31mValueError\u001b[0m: Wrong number of items passed 2, placement implies 1",
      "\nDuring handling of the above exception, another exception occurred:\n",
      "\u001b[0;31mValueError\u001b[0m                                Traceback (most recent call last)",
      "\u001b[0;32m<ipython-input-128-a7980bf42b9e>\u001b[0m in \u001b[0;36m<module>\u001b[0;34m\u001b[0m\n\u001b[1;32m      1\u001b[0m \u001b[0mpredict\u001b[0m \u001b[0;34m=\u001b[0m \u001b[0mpd\u001b[0m\u001b[0;34m.\u001b[0m\u001b[0mDataFrame\u001b[0m\u001b[0;34m(\u001b[0m\u001b[0mscaler\u001b[0m\u001b[0;34m.\u001b[0m\u001b[0minverse_transform\u001b[0m\u001b[0;34m(\u001b[0m\u001b[0my_pred\u001b[0m\u001b[0;34m.\u001b[0m\u001b[0mdetach\u001b[0m\u001b[0;34m(\u001b[0m\u001b[0;34m)\u001b[0m\u001b[0;34m.\u001b[0m\u001b[0mnumpy\u001b[0m\u001b[0;34m(\u001b[0m\u001b[0;34m)\u001b[0m\u001b[0;34m)\u001b[0m\u001b[0;34m,\u001b[0m \u001b[0mcolumns\u001b[0m\u001b[0;34m=\u001b[0m\u001b[0;34m[\u001b[0m\u001b[0;34m'Predict'\u001b[0m\u001b[0;34m]\u001b[0m\u001b[0;34m)\u001b[0m\u001b[0;34m\u001b[0m\u001b[0;34m\u001b[0m\u001b[0m\n\u001b[0;32m----> 2\u001b[0;31m \u001b[0moriginal\u001b[0m \u001b[0;34m=\u001b[0m \u001b[0mpd\u001b[0m\u001b[0;34m.\u001b[0m\u001b[0mDataFrame\u001b[0m\u001b[0;34m(\u001b[0m\u001b[0mscaler\u001b[0m\u001b[0;34m.\u001b[0m\u001b[0minverse_transform\u001b[0m\u001b[0;34m(\u001b[0m\u001b[0my_train\u001b[0m\u001b[0;34m.\u001b[0m\u001b[0mdetach\u001b[0m\u001b[0;34m(\u001b[0m\u001b[0;34m)\u001b[0m\u001b[0;34m.\u001b[0m\u001b[0mnumpy\u001b[0m\u001b[0;34m(\u001b[0m\u001b[0;34m)\u001b[0m\u001b[0;34m)\u001b[0m\u001b[0;34m,\u001b[0m \u001b[0mcolumns\u001b[0m\u001b[0;34m=\u001b[0m\u001b[0;34m[\u001b[0m\u001b[0;34m'Original'\u001b[0m\u001b[0;34m]\u001b[0m\u001b[0;34m)\u001b[0m\u001b[0;34m\u001b[0m\u001b[0;34m\u001b[0m\u001b[0m\n\u001b[0m",
      "\u001b[0;32m~/anaconda3/lib/python3.7/site-packages/pandas/core/frame.py\u001b[0m in \u001b[0;36m__init__\u001b[0;34m(self, data, index, columns, dtype, copy)\u001b[0m\n\u001b[1;32m    438\u001b[0m                 \u001b[0mmgr\u001b[0m \u001b[0;34m=\u001b[0m \u001b[0minit_dict\u001b[0m\u001b[0;34m(\u001b[0m\u001b[0;34m{\u001b[0m\u001b[0mdata\u001b[0m\u001b[0;34m.\u001b[0m\u001b[0mname\u001b[0m\u001b[0;34m:\u001b[0m \u001b[0mdata\u001b[0m\u001b[0;34m}\u001b[0m\u001b[0;34m,\u001b[0m \u001b[0mindex\u001b[0m\u001b[0;34m,\u001b[0m \u001b[0mcolumns\u001b[0m\u001b[0;34m,\u001b[0m \u001b[0mdtype\u001b[0m\u001b[0;34m=\u001b[0m\u001b[0mdtype\u001b[0m\u001b[0;34m)\u001b[0m\u001b[0;34m\u001b[0m\u001b[0;34m\u001b[0m\u001b[0m\n\u001b[1;32m    439\u001b[0m             \u001b[0;32melse\u001b[0m\u001b[0;34m:\u001b[0m\u001b[0;34m\u001b[0m\u001b[0;34m\u001b[0m\u001b[0m\n\u001b[0;32m--> 440\u001b[0;31m                 \u001b[0mmgr\u001b[0m \u001b[0;34m=\u001b[0m \u001b[0minit_ndarray\u001b[0m\u001b[0;34m(\u001b[0m\u001b[0mdata\u001b[0m\u001b[0;34m,\u001b[0m \u001b[0mindex\u001b[0m\u001b[0;34m,\u001b[0m \u001b[0mcolumns\u001b[0m\u001b[0;34m,\u001b[0m \u001b[0mdtype\u001b[0m\u001b[0;34m=\u001b[0m\u001b[0mdtype\u001b[0m\u001b[0;34m,\u001b[0m \u001b[0mcopy\u001b[0m\u001b[0;34m=\u001b[0m\u001b[0mcopy\u001b[0m\u001b[0;34m)\u001b[0m\u001b[0;34m\u001b[0m\u001b[0;34m\u001b[0m\u001b[0m\n\u001b[0m\u001b[1;32m    441\u001b[0m \u001b[0;34m\u001b[0m\u001b[0m\n\u001b[1;32m    442\u001b[0m         \u001b[0;31m# For data is list-like, or Iterable (will consume into list)\u001b[0m\u001b[0;34m\u001b[0m\u001b[0;34m\u001b[0m\u001b[0;34m\u001b[0m\u001b[0m\n",
      "\u001b[0;32m~/anaconda3/lib/python3.7/site-packages/pandas/core/internals/construction.py\u001b[0m in \u001b[0;36minit_ndarray\u001b[0;34m(values, index, columns, dtype, copy)\u001b[0m\n\u001b[1;32m    211\u001b[0m         \u001b[0mblock_values\u001b[0m \u001b[0;34m=\u001b[0m \u001b[0;34m[\u001b[0m\u001b[0mvalues\u001b[0m\u001b[0;34m]\u001b[0m\u001b[0;34m\u001b[0m\u001b[0;34m\u001b[0m\u001b[0m\n\u001b[1;32m    212\u001b[0m \u001b[0;34m\u001b[0m\u001b[0m\n\u001b[0;32m--> 213\u001b[0;31m     \u001b[0;32mreturn\u001b[0m \u001b[0mcreate_block_manager_from_blocks\u001b[0m\u001b[0;34m(\u001b[0m\u001b[0mblock_values\u001b[0m\u001b[0;34m,\u001b[0m \u001b[0;34m[\u001b[0m\u001b[0mcolumns\u001b[0m\u001b[0;34m,\u001b[0m \u001b[0mindex\u001b[0m\u001b[0;34m]\u001b[0m\u001b[0;34m)\u001b[0m\u001b[0;34m\u001b[0m\u001b[0;34m\u001b[0m\u001b[0m\n\u001b[0m\u001b[1;32m    214\u001b[0m \u001b[0;34m\u001b[0m\u001b[0m\n\u001b[1;32m    215\u001b[0m \u001b[0;34m\u001b[0m\u001b[0m\n",
      "\u001b[0;32m~/anaconda3/lib/python3.7/site-packages/pandas/core/internals/managers.py\u001b[0m in \u001b[0;36mcreate_block_manager_from_blocks\u001b[0;34m(blocks, axes)\u001b[0m\n\u001b[1;32m   1686\u001b[0m         \u001b[0mblocks\u001b[0m \u001b[0;34m=\u001b[0m \u001b[0;34m[\u001b[0m\u001b[0mgetattr\u001b[0m\u001b[0;34m(\u001b[0m\u001b[0mb\u001b[0m\u001b[0;34m,\u001b[0m \u001b[0;34m\"values\"\u001b[0m\u001b[0;34m,\u001b[0m \u001b[0mb\u001b[0m\u001b[0;34m)\u001b[0m \u001b[0;32mfor\u001b[0m \u001b[0mb\u001b[0m \u001b[0;32min\u001b[0m \u001b[0mblocks\u001b[0m\u001b[0;34m]\u001b[0m\u001b[0;34m\u001b[0m\u001b[0;34m\u001b[0m\u001b[0m\n\u001b[1;32m   1687\u001b[0m         \u001b[0mtot_items\u001b[0m \u001b[0;34m=\u001b[0m \u001b[0msum\u001b[0m\u001b[0;34m(\u001b[0m\u001b[0mb\u001b[0m\u001b[0;34m.\u001b[0m\u001b[0mshape\u001b[0m\u001b[0;34m[\u001b[0m\u001b[0;36m0\u001b[0m\u001b[0;34m]\u001b[0m \u001b[0;32mfor\u001b[0m \u001b[0mb\u001b[0m \u001b[0;32min\u001b[0m \u001b[0mblocks\u001b[0m\u001b[0;34m)\u001b[0m\u001b[0;34m\u001b[0m\u001b[0;34m\u001b[0m\u001b[0m\n\u001b[0;32m-> 1688\u001b[0;31m         \u001b[0mconstruction_error\u001b[0m\u001b[0;34m(\u001b[0m\u001b[0mtot_items\u001b[0m\u001b[0;34m,\u001b[0m \u001b[0mblocks\u001b[0m\u001b[0;34m[\u001b[0m\u001b[0;36m0\u001b[0m\u001b[0;34m]\u001b[0m\u001b[0;34m.\u001b[0m\u001b[0mshape\u001b[0m\u001b[0;34m[\u001b[0m\u001b[0;36m1\u001b[0m\u001b[0;34m:\u001b[0m\u001b[0;34m]\u001b[0m\u001b[0;34m,\u001b[0m \u001b[0maxes\u001b[0m\u001b[0;34m,\u001b[0m \u001b[0me\u001b[0m\u001b[0;34m)\u001b[0m\u001b[0;34m\u001b[0m\u001b[0;34m\u001b[0m\u001b[0m\n\u001b[0m\u001b[1;32m   1689\u001b[0m \u001b[0;34m\u001b[0m\u001b[0m\n\u001b[1;32m   1690\u001b[0m \u001b[0;34m\u001b[0m\u001b[0m\n",
      "\u001b[0;32m~/anaconda3/lib/python3.7/site-packages/pandas/core/internals/managers.py\u001b[0m in \u001b[0;36mconstruction_error\u001b[0;34m(tot_items, block_shape, axes, e)\u001b[0m\n\u001b[1;32m   1717\u001b[0m         \u001b[0;32mraise\u001b[0m \u001b[0mValueError\u001b[0m\u001b[0;34m(\u001b[0m\u001b[0;34m\"Empty data passed with indices specified.\"\u001b[0m\u001b[0;34m)\u001b[0m\u001b[0;34m\u001b[0m\u001b[0;34m\u001b[0m\u001b[0m\n\u001b[1;32m   1718\u001b[0m     raise ValueError(\n\u001b[0;32m-> 1719\u001b[0;31m         \u001b[0;34m\"Shape of passed values is {0}, indices imply {1}\"\u001b[0m\u001b[0;34m.\u001b[0m\u001b[0mformat\u001b[0m\u001b[0;34m(\u001b[0m\u001b[0mpassed\u001b[0m\u001b[0;34m,\u001b[0m \u001b[0mimplied\u001b[0m\u001b[0;34m)\u001b[0m\u001b[0;34m\u001b[0m\u001b[0;34m\u001b[0m\u001b[0m\n\u001b[0m\u001b[1;32m   1720\u001b[0m     )\n\u001b[1;32m   1721\u001b[0m \u001b[0;34m\u001b[0m\u001b[0m\n",
      "\u001b[0;31mValueError\u001b[0m: Shape of passed values is (163, 2), indices imply (163, 1)"
     ]
    }
   ],
   "source": [
    "predict = pd.DataFrame(scaler.inverse_transform(y_pred.detach().numpy()), columns=['Predict'])\n",
    "original = pd.DataFrame(scaler.inverse_transform(y_train.detach().numpy()), columns=['Original'])"
   ]
  },
  {
   "cell_type": "code",
   "execution_count": 62,
   "metadata": {},
   "outputs": [
    {
     "data": {
      "application/vnd.plotly.v1+json": {
       "config": {
        "plotlyServerURL": "https://plotly.com"
       },
       "data": [
        {
         "hovertemplate": "index=%{x}<br>y=%{y}<extra></extra>",
         "legendgroup": "",
         "line": {
          "color": "#636efa",
          "dash": "solid"
         },
         "mode": "lines",
         "name": "",
         "orientation": "v",
         "showlegend": false,
         "type": "scatter",
         "x": [
          0,
          1,
          2,
          3,
          4,
          5,
          6,
          7,
          8,
          9,
          10,
          11,
          12,
          13,
          14,
          15,
          16,
          17,
          18,
          19,
          20,
          21,
          22,
          23,
          24,
          25,
          26,
          27,
          28,
          29,
          30,
          31,
          32,
          33,
          34,
          35,
          36,
          37,
          38,
          39,
          40,
          41,
          42,
          43,
          44,
          45,
          46,
          47,
          48,
          49,
          50,
          51,
          52,
          53,
          54,
          55,
          56,
          57,
          58,
          59,
          60,
          61,
          62,
          63,
          64,
          65,
          66,
          67,
          68,
          69,
          70,
          71,
          72,
          73,
          74,
          75,
          76,
          77,
          78,
          79,
          80,
          81,
          82,
          83,
          84,
          85,
          86,
          87,
          88,
          89,
          90,
          91,
          92,
          93,
          94,
          95,
          96,
          97,
          98,
          99,
          100,
          101,
          102,
          103,
          104,
          105,
          106,
          107,
          108,
          109,
          110,
          111,
          112,
          113,
          114,
          115,
          116,
          117,
          118,
          119,
          120,
          121,
          122,
          123,
          124,
          125,
          126,
          127,
          128,
          129,
          130,
          131,
          132,
          133,
          134,
          135,
          136,
          137,
          138,
          139,
          140,
          141,
          142,
          143,
          144,
          145,
          146,
          147,
          148,
          149,
          150,
          151,
          152,
          153,
          154,
          155,
          156,
          157,
          158,
          159,
          160,
          161,
          162,
          163,
          164,
          165,
          166,
          167,
          168,
          169,
          170,
          171,
          172,
          173,
          174,
          175,
          176,
          177,
          178,
          179,
          180,
          181,
          182,
          183,
          184,
          185,
          186,
          187,
          188,
          189,
          190,
          191,
          192,
          193,
          194,
          195,
          196,
          197,
          198,
          199,
          200,
          201,
          202,
          203,
          204,
          205,
          206,
          207,
          208,
          209,
          210,
          211,
          212,
          213,
          214,
          215,
          216,
          217,
          218,
          219,
          220,
          221,
          222,
          223,
          224,
          225,
          226,
          227,
          228,
          229,
          230,
          231,
          232,
          233,
          234,
          235,
          236,
          237,
          238,
          239,
          240,
          241,
          242,
          243,
          244,
          245,
          246,
          247,
          248,
          249,
          250,
          251,
          252,
          253,
          254,
          255,
          256,
          257,
          258,
          259,
          260,
          261,
          262,
          263,
          264,
          265,
          266,
          267,
          268,
          269,
          270,
          271,
          272,
          273,
          274,
          275,
          276,
          277,
          278,
          279,
          280,
          281,
          282,
          283,
          284,
          285,
          286,
          287,
          288,
          289,
          290,
          291,
          292,
          293,
          294,
          295,
          296,
          297,
          298,
          299
         ],
         "xaxis": "x",
         "y": [
          0.20815129578113556,
          0.18598569929599762,
          0.18759889900684357,
          0.17073987424373627,
          0.15731792151927948,
          0.1233668401837349,
          0.12599003314971924,
          0.07860299944877625,
          0.10180473327636719,
          0.08126083016395569,
          0.067682646214962,
          0.07301344722509384,
          0.06291759759187698,
          0.05590411275625229,
          0.056703247129917145,
          0.055617813020944595,
          0.048792511224746704,
          0.04007672518491745,
          0.036562662571668625,
          0.03762999176979065,
          0.03378664329648018,
          0.02811126969754696,
          0.028163418173789978,
          0.02882576920092106,
          0.027645988389849663,
          0.02790043316781521,
          0.027493398636579514,
          0.02512182667851448,
          0.02575034089386463,
          0.02704775705933571,
          0.024654127657413483,
          0.0229580570012331,
          0.023607969284057617,
          0.02368118055164814,
          0.022594135254621506,
          0.02179112285375595,
          0.02154681645333767,
          0.02125668339431286,
          0.02091272547841072,
          0.020772229880094528,
          0.02046378143131733,
          0.019815830513834953,
          0.01942584477365017,
          0.01943962275981903,
          0.019242089241743088,
          0.01861647330224514,
          0.018089840188622475,
          0.0179030429571867,
          0.017621943727135658,
          0.017184767872095108,
          0.016901250928640366,
          0.016591543331742287,
          0.016139278188347816,
          0.015873409807682037,
          0.015731249004602432,
          0.015358521603047848,
          0.014942853711545467,
          0.014684109948575497,
          0.014379150234162807,
          0.014020761474967003,
          0.013710642233490944,
          0.013342396356165409,
          0.012984163127839565,
          0.012740363366901875,
          0.012440196238458157,
          0.012045924551784992,
          0.01171079371124506,
          0.011392052285373211,
          0.01103060320019722,
          0.0106910839676857,
          0.01035297755151987,
          0.010049931704998016,
          0.009775165468454361,
          0.009456343948841095,
          0.00921914167702198,
          0.009022806771099567,
          0.00881793163716793,
          0.008690575137734413,
          0.008585460484027863,
          0.008539576083421707,
          0.008509919978678226,
          0.008558990433812141,
          0.00858819019049406,
          0.00863808672875166,
          0.008655032142996788,
          0.00864554475992918,
          0.008608754724264145,
          0.008553404361009598,
          0.008465048857033253,
          0.00839834101498127,
          0.008325721137225628,
          0.008278095163404942,
          0.008226477541029453,
          0.008175177499651909,
          0.008131175301969051,
          0.008102554827928543,
          0.008072390221059322,
          0.008055771701037884,
          0.008036945946514606,
          0.008014288730919361,
          0.007987303659319878,
          0.007964471355080605,
          0.00793613214045763,
          0.007907525636255741,
          0.007880191318690777,
          0.007842893712222576,
          0.007803569547832012,
          0.007761015556752682,
          0.0077196271158754826,
          0.007682599127292633,
          0.007645460776984692,
          0.007606433238834143,
          0.007569754030555487,
          0.007533790078014135,
          0.007498895283788443,
          0.007467256858944893,
          0.00743594765663147,
          0.00740803824737668,
          0.007382172159850597,
          0.007358762435615063,
          0.007350435946136713,
          0.0074274567887187,
          0.007614689413458109,
          0.008283582516014576,
          0.007434503640979528,
          0.009243093430995941,
          0.009392399340867996,
          0.00930938869714737,
          0.009649037383496761,
          0.008268987759947777,
          0.007700725458562374,
          0.008095122873783112,
          0.008350154384970665,
          0.007788875140249729,
          0.0074120862409472466,
          0.007795552723109722,
          0.008040675893425941,
          0.007624961901456118,
          0.007578273303806782,
          0.007518022321164608,
          0.007392925210297108,
          0.007519974838942289,
          0.007502209395170212,
          0.0072148265317082405,
          0.007251991890370846,
          0.007242285180836916,
          0.007076763082295656,
          0.007109222933650017,
          0.007051212713122368,
          0.006931648124009371,
          0.006866818759590387,
          0.0068596419878304005,
          0.006728132255375385,
          0.0067168306559324265,
          0.006681078113615513,
          0.00659051351249218,
          0.006504544522613287,
          0.006495508830994368,
          0.006440304685384035,
          0.00639747641980648,
          0.006319880485534668,
          0.006292529404163361,
          0.006253242492675781,
          0.0061966730281710625,
          0.006169998552650213,
          0.00612291693687439,
          0.006080372724682093,
          0.006050487048923969,
          0.006014083977788687,
          0.00597007991746068,
          0.005920455791056156,
          0.0058969771489501,
          0.00584694929420948,
          0.005803775042295456,
          0.0057664671912789345,
          0.005732686724513769,
          0.005686230957508087,
          0.00564536964520812,
          0.005603013094514608,
          0.005556708201766014,
          0.00551234744489193,
          0.005466599948704243,
          0.005424846429377794,
          0.0053832754492759705,
          0.0053384206257760525,
          0.005291721783578396,
          0.005248391069471836,
          0.005198854953050613,
          0.00515076844021678,
          0.005100079346448183,
          0.005047034937888384,
          0.004996273200958967,
          0.004943517502397299,
          0.004893431905657053,
          0.004844724200665951,
          0.004790781531482935,
          0.004736625123769045,
          0.004683547653257847,
          0.004628398455679417,
          0.00457271933555603,
          0.004515416920185089,
          0.0044675180688500404,
          0.004468975588679314,
          0.004747407510876656,
          0.0062210713513195515,
          0.00977436825633049,
          0.008405360393226147,
          0.004434892907738686,
          0.006973677780479193,
          0.004505646415054798,
          0.005984016694128513,
          0.0048765684477984905,
          0.005695517640560865,
          0.004556585103273392,
          0.005302385427057743,
          0.004447527229785919,
          0.005145466420799494,
          0.004305443726480007,
          0.004820207133889198,
          0.004151840694248676,
          0.004680329468101263,
          0.004088733810931444,
          0.004435880575329065,
          0.0040362183935940266,
          0.004201602656394243,
          0.004082040395587683,
          0.003986440133303404,
          0.004025117959827185,
          0.0037993250880390406,
          0.0039208028465509415,
          0.0037644999101758003,
          0.0037702706176787615,
          0.003709621960297227,
          0.003623832482844591,
          0.0036672179121524096,
          0.0035629405174404383,
          0.0036074488889425993,
          0.003468349575996399,
          0.0035453950986266136,
          0.003426783252507448,
          0.003385398304089904,
          0.0034119044430553913,
          0.0034483817871659994,
          0.003497754456475377,
          0.003414401551708579,
          0.003378194523975253,
          0.003342029871419072,
          0.0034469335805624723,
          0.003497496247291565,
          0.0033289610873907804,
          0.0034535217564553022,
          0.003301527351140976,
          0.0033483749721199274,
          0.0032791977282613516,
          0.003426524344831705,
          0.0033513044472783804,
          0.0032408307306468487,
          0.0032540475949645042,
          0.003331623272970319,
          0.0031683386769145727,
          0.0032772324047982693,
          0.0032095613423734903,
          0.0030980915762484074,
          0.0032254783436656,
          0.003151141107082367,
          0.0032013431191444397,
          0.0031019053421914577,
          0.003043856704607606,
          0.003069267375394702,
          0.00299564516171813,
          0.003105681389570236,
          0.0029722789768129587,
          0.00290341442450881,
          0.003066002856940031,
          0.002977442927658558,
          0.0030416063964366913,
          0.0029376810416579247,
          0.002955143805593252,
          0.00287247309461236,
          0.002896297723054886,
          0.002808480989187956,
          0.0028238336089998484,
          0.0028315302915871143,
          0.0028145485557615757,
          0.0028612182941287756,
          0.002707745647057891,
          0.002751727122813463,
          0.0026733872946351767,
          0.0028116614557802677,
          0.0027552396059036255,
          0.002751674735918641,
          0.002695636125281453,
          0.0025015315040946007,
          0.0026994943618774414,
          0.002626685192808509,
          0.0027158416341990232,
          0.0025156354531645775,
          0.0026952186599373817,
          0.0029815086163580418,
          0.0028437268920242786
         ],
         "yaxis": "y"
        }
       ],
       "layout": {
        "legend": {
         "tracegroupgap": 0
        },
        "template": {
         "data": {
          "bar": [
           {
            "error_x": {
             "color": "#2a3f5f"
            },
            "error_y": {
             "color": "#2a3f5f"
            },
            "marker": {
             "line": {
              "color": "#E5ECF6",
              "width": 0.5
             }
            },
            "type": "bar"
           }
          ],
          "barpolar": [
           {
            "marker": {
             "line": {
              "color": "#E5ECF6",
              "width": 0.5
             }
            },
            "type": "barpolar"
           }
          ],
          "carpet": [
           {
            "aaxis": {
             "endlinecolor": "#2a3f5f",
             "gridcolor": "white",
             "linecolor": "white",
             "minorgridcolor": "white",
             "startlinecolor": "#2a3f5f"
            },
            "baxis": {
             "endlinecolor": "#2a3f5f",
             "gridcolor": "white",
             "linecolor": "white",
             "minorgridcolor": "white",
             "startlinecolor": "#2a3f5f"
            },
            "type": "carpet"
           }
          ],
          "choropleth": [
           {
            "colorbar": {
             "outlinewidth": 0,
             "ticks": ""
            },
            "type": "choropleth"
           }
          ],
          "contour": [
           {
            "colorbar": {
             "outlinewidth": 0,
             "ticks": ""
            },
            "colorscale": [
             [
              0,
              "#0d0887"
             ],
             [
              0.1111111111111111,
              "#46039f"
             ],
             [
              0.2222222222222222,
              "#7201a8"
             ],
             [
              0.3333333333333333,
              "#9c179e"
             ],
             [
              0.4444444444444444,
              "#bd3786"
             ],
             [
              0.5555555555555556,
              "#d8576b"
             ],
             [
              0.6666666666666666,
              "#ed7953"
             ],
             [
              0.7777777777777778,
              "#fb9f3a"
             ],
             [
              0.8888888888888888,
              "#fdca26"
             ],
             [
              1,
              "#f0f921"
             ]
            ],
            "type": "contour"
           }
          ],
          "contourcarpet": [
           {
            "colorbar": {
             "outlinewidth": 0,
             "ticks": ""
            },
            "type": "contourcarpet"
           }
          ],
          "heatmap": [
           {
            "colorbar": {
             "outlinewidth": 0,
             "ticks": ""
            },
            "colorscale": [
             [
              0,
              "#0d0887"
             ],
             [
              0.1111111111111111,
              "#46039f"
             ],
             [
              0.2222222222222222,
              "#7201a8"
             ],
             [
              0.3333333333333333,
              "#9c179e"
             ],
             [
              0.4444444444444444,
              "#bd3786"
             ],
             [
              0.5555555555555556,
              "#d8576b"
             ],
             [
              0.6666666666666666,
              "#ed7953"
             ],
             [
              0.7777777777777778,
              "#fb9f3a"
             ],
             [
              0.8888888888888888,
              "#fdca26"
             ],
             [
              1,
              "#f0f921"
             ]
            ],
            "type": "heatmap"
           }
          ],
          "heatmapgl": [
           {
            "colorbar": {
             "outlinewidth": 0,
             "ticks": ""
            },
            "colorscale": [
             [
              0,
              "#0d0887"
             ],
             [
              0.1111111111111111,
              "#46039f"
             ],
             [
              0.2222222222222222,
              "#7201a8"
             ],
             [
              0.3333333333333333,
              "#9c179e"
             ],
             [
              0.4444444444444444,
              "#bd3786"
             ],
             [
              0.5555555555555556,
              "#d8576b"
             ],
             [
              0.6666666666666666,
              "#ed7953"
             ],
             [
              0.7777777777777778,
              "#fb9f3a"
             ],
             [
              0.8888888888888888,
              "#fdca26"
             ],
             [
              1,
              "#f0f921"
             ]
            ],
            "type": "heatmapgl"
           }
          ],
          "histogram": [
           {
            "marker": {
             "colorbar": {
              "outlinewidth": 0,
              "ticks": ""
             }
            },
            "type": "histogram"
           }
          ],
          "histogram2d": [
           {
            "colorbar": {
             "outlinewidth": 0,
             "ticks": ""
            },
            "colorscale": [
             [
              0,
              "#0d0887"
             ],
             [
              0.1111111111111111,
              "#46039f"
             ],
             [
              0.2222222222222222,
              "#7201a8"
             ],
             [
              0.3333333333333333,
              "#9c179e"
             ],
             [
              0.4444444444444444,
              "#bd3786"
             ],
             [
              0.5555555555555556,
              "#d8576b"
             ],
             [
              0.6666666666666666,
              "#ed7953"
             ],
             [
              0.7777777777777778,
              "#fb9f3a"
             ],
             [
              0.8888888888888888,
              "#fdca26"
             ],
             [
              1,
              "#f0f921"
             ]
            ],
            "type": "histogram2d"
           }
          ],
          "histogram2dcontour": [
           {
            "colorbar": {
             "outlinewidth": 0,
             "ticks": ""
            },
            "colorscale": [
             [
              0,
              "#0d0887"
             ],
             [
              0.1111111111111111,
              "#46039f"
             ],
             [
              0.2222222222222222,
              "#7201a8"
             ],
             [
              0.3333333333333333,
              "#9c179e"
             ],
             [
              0.4444444444444444,
              "#bd3786"
             ],
             [
              0.5555555555555556,
              "#d8576b"
             ],
             [
              0.6666666666666666,
              "#ed7953"
             ],
             [
              0.7777777777777778,
              "#fb9f3a"
             ],
             [
              0.8888888888888888,
              "#fdca26"
             ],
             [
              1,
              "#f0f921"
             ]
            ],
            "type": "histogram2dcontour"
           }
          ],
          "mesh3d": [
           {
            "colorbar": {
             "outlinewidth": 0,
             "ticks": ""
            },
            "type": "mesh3d"
           }
          ],
          "parcoords": [
           {
            "line": {
             "colorbar": {
              "outlinewidth": 0,
              "ticks": ""
             }
            },
            "type": "parcoords"
           }
          ],
          "pie": [
           {
            "automargin": true,
            "type": "pie"
           }
          ],
          "scatter": [
           {
            "marker": {
             "colorbar": {
              "outlinewidth": 0,
              "ticks": ""
             }
            },
            "type": "scatter"
           }
          ],
          "scatter3d": [
           {
            "line": {
             "colorbar": {
              "outlinewidth": 0,
              "ticks": ""
             }
            },
            "marker": {
             "colorbar": {
              "outlinewidth": 0,
              "ticks": ""
             }
            },
            "type": "scatter3d"
           }
          ],
          "scattercarpet": [
           {
            "marker": {
             "colorbar": {
              "outlinewidth": 0,
              "ticks": ""
             }
            },
            "type": "scattercarpet"
           }
          ],
          "scattergeo": [
           {
            "marker": {
             "colorbar": {
              "outlinewidth": 0,
              "ticks": ""
             }
            },
            "type": "scattergeo"
           }
          ],
          "scattergl": [
           {
            "marker": {
             "colorbar": {
              "outlinewidth": 0,
              "ticks": ""
             }
            },
            "type": "scattergl"
           }
          ],
          "scattermapbox": [
           {
            "marker": {
             "colorbar": {
              "outlinewidth": 0,
              "ticks": ""
             }
            },
            "type": "scattermapbox"
           }
          ],
          "scatterpolar": [
           {
            "marker": {
             "colorbar": {
              "outlinewidth": 0,
              "ticks": ""
             }
            },
            "type": "scatterpolar"
           }
          ],
          "scatterpolargl": [
           {
            "marker": {
             "colorbar": {
              "outlinewidth": 0,
              "ticks": ""
             }
            },
            "type": "scatterpolargl"
           }
          ],
          "scatterternary": [
           {
            "marker": {
             "colorbar": {
              "outlinewidth": 0,
              "ticks": ""
             }
            },
            "type": "scatterternary"
           }
          ],
          "surface": [
           {
            "colorbar": {
             "outlinewidth": 0,
             "ticks": ""
            },
            "colorscale": [
             [
              0,
              "#0d0887"
             ],
             [
              0.1111111111111111,
              "#46039f"
             ],
             [
              0.2222222222222222,
              "#7201a8"
             ],
             [
              0.3333333333333333,
              "#9c179e"
             ],
             [
              0.4444444444444444,
              "#bd3786"
             ],
             [
              0.5555555555555556,
              "#d8576b"
             ],
             [
              0.6666666666666666,
              "#ed7953"
             ],
             [
              0.7777777777777778,
              "#fb9f3a"
             ],
             [
              0.8888888888888888,
              "#fdca26"
             ],
             [
              1,
              "#f0f921"
             ]
            ],
            "type": "surface"
           }
          ],
          "table": [
           {
            "cells": {
             "fill": {
              "color": "#EBF0F8"
             },
             "line": {
              "color": "white"
             }
            },
            "header": {
             "fill": {
              "color": "#C8D4E3"
             },
             "line": {
              "color": "white"
             }
            },
            "type": "table"
           }
          ]
         },
         "layout": {
          "annotationdefaults": {
           "arrowcolor": "#2a3f5f",
           "arrowhead": 0,
           "arrowwidth": 1
          },
          "coloraxis": {
           "colorbar": {
            "outlinewidth": 0,
            "ticks": ""
           }
          },
          "colorscale": {
           "diverging": [
            [
             0,
             "#8e0152"
            ],
            [
             0.1,
             "#c51b7d"
            ],
            [
             0.2,
             "#de77ae"
            ],
            [
             0.3,
             "#f1b6da"
            ],
            [
             0.4,
             "#fde0ef"
            ],
            [
             0.5,
             "#f7f7f7"
            ],
            [
             0.6,
             "#e6f5d0"
            ],
            [
             0.7,
             "#b8e186"
            ],
            [
             0.8,
             "#7fbc41"
            ],
            [
             0.9,
             "#4d9221"
            ],
            [
             1,
             "#276419"
            ]
           ],
           "sequential": [
            [
             0,
             "#0d0887"
            ],
            [
             0.1111111111111111,
             "#46039f"
            ],
            [
             0.2222222222222222,
             "#7201a8"
            ],
            [
             0.3333333333333333,
             "#9c179e"
            ],
            [
             0.4444444444444444,
             "#bd3786"
            ],
            [
             0.5555555555555556,
             "#d8576b"
            ],
            [
             0.6666666666666666,
             "#ed7953"
            ],
            [
             0.7777777777777778,
             "#fb9f3a"
            ],
            [
             0.8888888888888888,
             "#fdca26"
            ],
            [
             1,
             "#f0f921"
            ]
           ],
           "sequentialminus": [
            [
             0,
             "#0d0887"
            ],
            [
             0.1111111111111111,
             "#46039f"
            ],
            [
             0.2222222222222222,
             "#7201a8"
            ],
            [
             0.3333333333333333,
             "#9c179e"
            ],
            [
             0.4444444444444444,
             "#bd3786"
            ],
            [
             0.5555555555555556,
             "#d8576b"
            ],
            [
             0.6666666666666666,
             "#ed7953"
            ],
            [
             0.7777777777777778,
             "#fb9f3a"
            ],
            [
             0.8888888888888888,
             "#fdca26"
            ],
            [
             1,
             "#f0f921"
            ]
           ]
          },
          "colorway": [
           "#636efa",
           "#EF553B",
           "#00cc96",
           "#ab63fa",
           "#FFA15A",
           "#19d3f3",
           "#FF6692",
           "#B6E880",
           "#FF97FF",
           "#FECB52"
          ],
          "font": {
           "color": "#2a3f5f"
          },
          "geo": {
           "bgcolor": "white",
           "lakecolor": "white",
           "landcolor": "#E5ECF6",
           "showlakes": true,
           "showland": true,
           "subunitcolor": "white"
          },
          "hoverlabel": {
           "align": "left"
          },
          "hovermode": "closest",
          "mapbox": {
           "style": "light"
          },
          "paper_bgcolor": "white",
          "plot_bgcolor": "#E5ECF6",
          "polar": {
           "angularaxis": {
            "gridcolor": "white",
            "linecolor": "white",
            "ticks": ""
           },
           "bgcolor": "#E5ECF6",
           "radialaxis": {
            "gridcolor": "white",
            "linecolor": "white",
            "ticks": ""
           }
          },
          "scene": {
           "xaxis": {
            "backgroundcolor": "#E5ECF6",
            "gridcolor": "white",
            "gridwidth": 2,
            "linecolor": "white",
            "showbackground": true,
            "ticks": "",
            "zerolinecolor": "white"
           },
           "yaxis": {
            "backgroundcolor": "#E5ECF6",
            "gridcolor": "white",
            "gridwidth": 2,
            "linecolor": "white",
            "showbackground": true,
            "ticks": "",
            "zerolinecolor": "white"
           },
           "zaxis": {
            "backgroundcolor": "#E5ECF6",
            "gridcolor": "white",
            "gridwidth": 2,
            "linecolor": "white",
            "showbackground": true,
            "ticks": "",
            "zerolinecolor": "white"
           }
          },
          "shapedefaults": {
           "line": {
            "color": "#2a3f5f"
           }
          },
          "ternary": {
           "aaxis": {
            "gridcolor": "white",
            "linecolor": "white",
            "ticks": ""
           },
           "baxis": {
            "gridcolor": "white",
            "linecolor": "white",
            "ticks": ""
           },
           "bgcolor": "#E5ECF6",
           "caxis": {
            "gridcolor": "white",
            "linecolor": "white",
            "ticks": ""
           }
          },
          "title": {
           "x": 0.05
          },
          "xaxis": {
           "automargin": true,
           "gridcolor": "white",
           "linecolor": "white",
           "ticks": "",
           "title": {
            "standoff": 15
           },
           "zerolinecolor": "white",
           "zerolinewidth": 2
          },
          "yaxis": {
           "automargin": true,
           "gridcolor": "white",
           "linecolor": "white",
           "ticks": "",
           "title": {
            "standoff": 15
           },
           "zerolinecolor": "white",
           "zerolinewidth": 2
          }
         }
        },
        "title": {
         "text": "Loss"
        },
        "xaxis": {
         "anchor": "y",
         "domain": [
          0,
          1
         ],
         "title": {
          "text": "Epoch"
         }
        },
        "yaxis": {
         "anchor": "x",
         "domain": [
          0,
          1
         ],
         "title": {
          "text": "Loss"
         }
        }
       }
      },
      "text/html": [
       "<div>                            <div id=\"772d934b-523c-4c76-ba28-838dc37672f4\" class=\"plotly-graph-div\" style=\"height:525px; width:100%;\"></div>            <script type=\"text/javascript\">                require([\"plotly\"], function(Plotly) {                    window.PLOTLYENV=window.PLOTLYENV || {};                                    if (document.getElementById(\"772d934b-523c-4c76-ba28-838dc37672f4\")) {                    Plotly.newPlot(                        \"772d934b-523c-4c76-ba28-838dc37672f4\",                        [{\"hovertemplate\": \"index=%{x}<br>y=%{y}<extra></extra>\", \"legendgroup\": \"\", \"line\": {\"color\": \"#636efa\", \"dash\": \"solid\"}, \"mode\": \"lines\", \"name\": \"\", \"orientation\": \"v\", \"showlegend\": false, \"type\": \"scatter\", \"x\": [0, 1, 2, 3, 4, 5, 6, 7, 8, 9, 10, 11, 12, 13, 14, 15, 16, 17, 18, 19, 20, 21, 22, 23, 24, 25, 26, 27, 28, 29, 30, 31, 32, 33, 34, 35, 36, 37, 38, 39, 40, 41, 42, 43, 44, 45, 46, 47, 48, 49, 50, 51, 52, 53, 54, 55, 56, 57, 58, 59, 60, 61, 62, 63, 64, 65, 66, 67, 68, 69, 70, 71, 72, 73, 74, 75, 76, 77, 78, 79, 80, 81, 82, 83, 84, 85, 86, 87, 88, 89, 90, 91, 92, 93, 94, 95, 96, 97, 98, 99, 100, 101, 102, 103, 104, 105, 106, 107, 108, 109, 110, 111, 112, 113, 114, 115, 116, 117, 118, 119, 120, 121, 122, 123, 124, 125, 126, 127, 128, 129, 130, 131, 132, 133, 134, 135, 136, 137, 138, 139, 140, 141, 142, 143, 144, 145, 146, 147, 148, 149, 150, 151, 152, 153, 154, 155, 156, 157, 158, 159, 160, 161, 162, 163, 164, 165, 166, 167, 168, 169, 170, 171, 172, 173, 174, 175, 176, 177, 178, 179, 180, 181, 182, 183, 184, 185, 186, 187, 188, 189, 190, 191, 192, 193, 194, 195, 196, 197, 198, 199, 200, 201, 202, 203, 204, 205, 206, 207, 208, 209, 210, 211, 212, 213, 214, 215, 216, 217, 218, 219, 220, 221, 222, 223, 224, 225, 226, 227, 228, 229, 230, 231, 232, 233, 234, 235, 236, 237, 238, 239, 240, 241, 242, 243, 244, 245, 246, 247, 248, 249, 250, 251, 252, 253, 254, 255, 256, 257, 258, 259, 260, 261, 262, 263, 264, 265, 266, 267, 268, 269, 270, 271, 272, 273, 274, 275, 276, 277, 278, 279, 280, 281, 282, 283, 284, 285, 286, 287, 288, 289, 290, 291, 292, 293, 294, 295, 296, 297, 298, 299], \"xaxis\": \"x\", \"y\": [0.20815129578113556, 0.18598569929599762, 0.18759889900684357, 0.17073987424373627, 0.15731792151927948, 0.1233668401837349, 0.12599003314971924, 0.07860299944877625, 0.10180473327636719, 0.08126083016395569, 0.067682646214962, 0.07301344722509384, 0.06291759759187698, 0.05590411275625229, 0.056703247129917145, 0.055617813020944595, 0.048792511224746704, 0.04007672518491745, 0.036562662571668625, 0.03762999176979065, 0.03378664329648018, 0.02811126969754696, 0.028163418173789978, 0.02882576920092106, 0.027645988389849663, 0.02790043316781521, 0.027493398636579514, 0.02512182667851448, 0.02575034089386463, 0.02704775705933571, 0.024654127657413483, 0.0229580570012331, 0.023607969284057617, 0.02368118055164814, 0.022594135254621506, 0.02179112285375595, 0.02154681645333767, 0.02125668339431286, 0.02091272547841072, 0.020772229880094528, 0.02046378143131733, 0.019815830513834953, 0.01942584477365017, 0.01943962275981903, 0.019242089241743088, 0.01861647330224514, 0.018089840188622475, 0.0179030429571867, 0.017621943727135658, 0.017184767872095108, 0.016901250928640366, 0.016591543331742287, 0.016139278188347816, 0.015873409807682037, 0.015731249004602432, 0.015358521603047848, 0.014942853711545467, 0.014684109948575497, 0.014379150234162807, 0.014020761474967003, 0.013710642233490944, 0.013342396356165409, 0.012984163127839565, 0.012740363366901875, 0.012440196238458157, 0.012045924551784992, 0.01171079371124506, 0.011392052285373211, 0.01103060320019722, 0.0106910839676857, 0.01035297755151987, 0.010049931704998016, 0.009775165468454361, 0.009456343948841095, 0.00921914167702198, 0.009022806771099567, 0.00881793163716793, 0.008690575137734413, 0.008585460484027863, 0.008539576083421707, 0.008509919978678226, 0.008558990433812141, 0.00858819019049406, 0.00863808672875166, 0.008655032142996788, 0.00864554475992918, 0.008608754724264145, 0.008553404361009598, 0.008465048857033253, 0.00839834101498127, 0.008325721137225628, 0.008278095163404942, 0.008226477541029453, 0.008175177499651909, 0.008131175301969051, 0.008102554827928543, 0.008072390221059322, 0.008055771701037884, 0.008036945946514606, 0.008014288730919361, 0.007987303659319878, 0.007964471355080605, 0.00793613214045763, 0.007907525636255741, 0.007880191318690777, 0.007842893712222576, 0.007803569547832012, 0.007761015556752682, 0.0077196271158754826, 0.007682599127292633, 0.007645460776984692, 0.007606433238834143, 0.007569754030555487, 0.007533790078014135, 0.007498895283788443, 0.007467256858944893, 0.00743594765663147, 0.00740803824737668, 0.007382172159850597, 0.007358762435615063, 0.007350435946136713, 0.0074274567887187, 0.007614689413458109, 0.008283582516014576, 0.007434503640979528, 0.009243093430995941, 0.009392399340867996, 0.00930938869714737, 0.009649037383496761, 0.008268987759947777, 0.007700725458562374, 0.008095122873783112, 0.008350154384970665, 0.007788875140249729, 0.0074120862409472466, 0.007795552723109722, 0.008040675893425941, 0.007624961901456118, 0.007578273303806782, 0.007518022321164608, 0.007392925210297108, 0.007519974838942289, 0.007502209395170212, 0.0072148265317082405, 0.007251991890370846, 0.007242285180836916, 0.007076763082295656, 0.007109222933650017, 0.007051212713122368, 0.006931648124009371, 0.006866818759590387, 0.0068596419878304005, 0.006728132255375385, 0.0067168306559324265, 0.006681078113615513, 0.00659051351249218, 0.006504544522613287, 0.006495508830994368, 0.006440304685384035, 0.00639747641980648, 0.006319880485534668, 0.006292529404163361, 0.006253242492675781, 0.0061966730281710625, 0.006169998552650213, 0.00612291693687439, 0.006080372724682093, 0.006050487048923969, 0.006014083977788687, 0.00597007991746068, 0.005920455791056156, 0.0058969771489501, 0.00584694929420948, 0.005803775042295456, 0.0057664671912789345, 0.005732686724513769, 0.005686230957508087, 0.00564536964520812, 0.005603013094514608, 0.005556708201766014, 0.00551234744489193, 0.005466599948704243, 0.005424846429377794, 0.0053832754492759705, 0.0053384206257760525, 0.005291721783578396, 0.005248391069471836, 0.005198854953050613, 0.00515076844021678, 0.005100079346448183, 0.005047034937888384, 0.004996273200958967, 0.004943517502397299, 0.004893431905657053, 0.004844724200665951, 0.004790781531482935, 0.004736625123769045, 0.004683547653257847, 0.004628398455679417, 0.00457271933555603, 0.004515416920185089, 0.0044675180688500404, 0.004468975588679314, 0.004747407510876656, 0.0062210713513195515, 0.00977436825633049, 0.008405360393226147, 0.004434892907738686, 0.006973677780479193, 0.004505646415054798, 0.005984016694128513, 0.0048765684477984905, 0.005695517640560865, 0.004556585103273392, 0.005302385427057743, 0.004447527229785919, 0.005145466420799494, 0.004305443726480007, 0.004820207133889198, 0.004151840694248676, 0.004680329468101263, 0.004088733810931444, 0.004435880575329065, 0.0040362183935940266, 0.004201602656394243, 0.004082040395587683, 0.003986440133303404, 0.004025117959827185, 0.0037993250880390406, 0.0039208028465509415, 0.0037644999101758003, 0.0037702706176787615, 0.003709621960297227, 0.003623832482844591, 0.0036672179121524096, 0.0035629405174404383, 0.0036074488889425993, 0.003468349575996399, 0.0035453950986266136, 0.003426783252507448, 0.003385398304089904, 0.0034119044430553913, 0.0034483817871659994, 0.003497754456475377, 0.003414401551708579, 0.003378194523975253, 0.003342029871419072, 0.0034469335805624723, 0.003497496247291565, 0.0033289610873907804, 0.0034535217564553022, 0.003301527351140976, 0.0033483749721199274, 0.0032791977282613516, 0.003426524344831705, 0.0033513044472783804, 0.0032408307306468487, 0.0032540475949645042, 0.003331623272970319, 0.0031683386769145727, 0.0032772324047982693, 0.0032095613423734903, 0.0030980915762484074, 0.0032254783436656, 0.003151141107082367, 0.0032013431191444397, 0.0031019053421914577, 0.003043856704607606, 0.003069267375394702, 0.00299564516171813, 0.003105681389570236, 0.0029722789768129587, 0.00290341442450881, 0.003066002856940031, 0.002977442927658558, 0.0030416063964366913, 0.0029376810416579247, 0.002955143805593252, 0.00287247309461236, 0.002896297723054886, 0.002808480989187956, 0.0028238336089998484, 0.0028315302915871143, 0.0028145485557615757, 0.0028612182941287756, 0.002707745647057891, 0.002751727122813463, 0.0026733872946351767, 0.0028116614557802677, 0.0027552396059036255, 0.002751674735918641, 0.002695636125281453, 0.0025015315040946007, 0.0026994943618774414, 0.002626685192808509, 0.0027158416341990232, 0.0025156354531645775, 0.0026952186599373817, 0.0029815086163580418, 0.0028437268920242786], \"yaxis\": \"y\"}],                        {\"legend\": {\"tracegroupgap\": 0}, \"template\": {\"data\": {\"bar\": [{\"error_x\": {\"color\": \"#2a3f5f\"}, \"error_y\": {\"color\": \"#2a3f5f\"}, \"marker\": {\"line\": {\"color\": \"#E5ECF6\", \"width\": 0.5}}, \"type\": \"bar\"}], \"barpolar\": [{\"marker\": {\"line\": {\"color\": \"#E5ECF6\", \"width\": 0.5}}, \"type\": \"barpolar\"}], \"carpet\": [{\"aaxis\": {\"endlinecolor\": \"#2a3f5f\", \"gridcolor\": \"white\", \"linecolor\": \"white\", \"minorgridcolor\": \"white\", \"startlinecolor\": \"#2a3f5f\"}, \"baxis\": {\"endlinecolor\": \"#2a3f5f\", \"gridcolor\": \"white\", \"linecolor\": \"white\", \"minorgridcolor\": \"white\", \"startlinecolor\": \"#2a3f5f\"}, \"type\": \"carpet\"}], \"choropleth\": [{\"colorbar\": {\"outlinewidth\": 0, \"ticks\": \"\"}, \"type\": \"choropleth\"}], \"contour\": [{\"colorbar\": {\"outlinewidth\": 0, \"ticks\": \"\"}, \"colorscale\": [[0.0, \"#0d0887\"], [0.1111111111111111, \"#46039f\"], [0.2222222222222222, \"#7201a8\"], [0.3333333333333333, \"#9c179e\"], [0.4444444444444444, \"#bd3786\"], [0.5555555555555556, \"#d8576b\"], [0.6666666666666666, \"#ed7953\"], [0.7777777777777778, \"#fb9f3a\"], [0.8888888888888888, \"#fdca26\"], [1.0, \"#f0f921\"]], \"type\": \"contour\"}], \"contourcarpet\": [{\"colorbar\": {\"outlinewidth\": 0, \"ticks\": \"\"}, \"type\": \"contourcarpet\"}], \"heatmap\": [{\"colorbar\": {\"outlinewidth\": 0, \"ticks\": \"\"}, \"colorscale\": [[0.0, \"#0d0887\"], [0.1111111111111111, \"#46039f\"], [0.2222222222222222, \"#7201a8\"], [0.3333333333333333, \"#9c179e\"], [0.4444444444444444, \"#bd3786\"], [0.5555555555555556, \"#d8576b\"], [0.6666666666666666, \"#ed7953\"], [0.7777777777777778, \"#fb9f3a\"], [0.8888888888888888, \"#fdca26\"], [1.0, \"#f0f921\"]], \"type\": \"heatmap\"}], \"heatmapgl\": [{\"colorbar\": {\"outlinewidth\": 0, \"ticks\": \"\"}, \"colorscale\": [[0.0, \"#0d0887\"], [0.1111111111111111, \"#46039f\"], [0.2222222222222222, \"#7201a8\"], [0.3333333333333333, \"#9c179e\"], [0.4444444444444444, \"#bd3786\"], [0.5555555555555556, \"#d8576b\"], [0.6666666666666666, \"#ed7953\"], [0.7777777777777778, \"#fb9f3a\"], [0.8888888888888888, \"#fdca26\"], [1.0, \"#f0f921\"]], \"type\": \"heatmapgl\"}], \"histogram\": [{\"marker\": {\"colorbar\": {\"outlinewidth\": 0, \"ticks\": \"\"}}, \"type\": \"histogram\"}], \"histogram2d\": [{\"colorbar\": {\"outlinewidth\": 0, \"ticks\": \"\"}, \"colorscale\": [[0.0, \"#0d0887\"], [0.1111111111111111, \"#46039f\"], [0.2222222222222222, \"#7201a8\"], [0.3333333333333333, \"#9c179e\"], [0.4444444444444444, \"#bd3786\"], [0.5555555555555556, \"#d8576b\"], [0.6666666666666666, \"#ed7953\"], [0.7777777777777778, \"#fb9f3a\"], [0.8888888888888888, \"#fdca26\"], [1.0, \"#f0f921\"]], \"type\": \"histogram2d\"}], \"histogram2dcontour\": [{\"colorbar\": {\"outlinewidth\": 0, \"ticks\": \"\"}, \"colorscale\": [[0.0, \"#0d0887\"], [0.1111111111111111, \"#46039f\"], [0.2222222222222222, \"#7201a8\"], [0.3333333333333333, \"#9c179e\"], [0.4444444444444444, \"#bd3786\"], [0.5555555555555556, \"#d8576b\"], [0.6666666666666666, \"#ed7953\"], [0.7777777777777778, \"#fb9f3a\"], [0.8888888888888888, \"#fdca26\"], [1.0, \"#f0f921\"]], \"type\": \"histogram2dcontour\"}], \"mesh3d\": [{\"colorbar\": {\"outlinewidth\": 0, \"ticks\": \"\"}, \"type\": \"mesh3d\"}], \"parcoords\": [{\"line\": {\"colorbar\": {\"outlinewidth\": 0, \"ticks\": \"\"}}, \"type\": \"parcoords\"}], \"pie\": [{\"automargin\": true, \"type\": \"pie\"}], \"scatter\": [{\"marker\": {\"colorbar\": {\"outlinewidth\": 0, \"ticks\": \"\"}}, \"type\": \"scatter\"}], \"scatter3d\": [{\"line\": {\"colorbar\": {\"outlinewidth\": 0, \"ticks\": \"\"}}, \"marker\": {\"colorbar\": {\"outlinewidth\": 0, \"ticks\": \"\"}}, \"type\": \"scatter3d\"}], \"scattercarpet\": [{\"marker\": {\"colorbar\": {\"outlinewidth\": 0, \"ticks\": \"\"}}, \"type\": \"scattercarpet\"}], \"scattergeo\": [{\"marker\": {\"colorbar\": {\"outlinewidth\": 0, \"ticks\": \"\"}}, \"type\": \"scattergeo\"}], \"scattergl\": [{\"marker\": {\"colorbar\": {\"outlinewidth\": 0, \"ticks\": \"\"}}, \"type\": \"scattergl\"}], \"scattermapbox\": [{\"marker\": {\"colorbar\": {\"outlinewidth\": 0, \"ticks\": \"\"}}, \"type\": \"scattermapbox\"}], \"scatterpolar\": [{\"marker\": {\"colorbar\": {\"outlinewidth\": 0, \"ticks\": \"\"}}, \"type\": \"scatterpolar\"}], \"scatterpolargl\": [{\"marker\": {\"colorbar\": {\"outlinewidth\": 0, \"ticks\": \"\"}}, \"type\": \"scatterpolargl\"}], \"scatterternary\": [{\"marker\": {\"colorbar\": {\"outlinewidth\": 0, \"ticks\": \"\"}}, \"type\": \"scatterternary\"}], \"surface\": [{\"colorbar\": {\"outlinewidth\": 0, \"ticks\": \"\"}, \"colorscale\": [[0.0, \"#0d0887\"], [0.1111111111111111, \"#46039f\"], [0.2222222222222222, \"#7201a8\"], [0.3333333333333333, \"#9c179e\"], [0.4444444444444444, \"#bd3786\"], [0.5555555555555556, \"#d8576b\"], [0.6666666666666666, \"#ed7953\"], [0.7777777777777778, \"#fb9f3a\"], [0.8888888888888888, \"#fdca26\"], [1.0, \"#f0f921\"]], \"type\": \"surface\"}], \"table\": [{\"cells\": {\"fill\": {\"color\": \"#EBF0F8\"}, \"line\": {\"color\": \"white\"}}, \"header\": {\"fill\": {\"color\": \"#C8D4E3\"}, \"line\": {\"color\": \"white\"}}, \"type\": \"table\"}]}, \"layout\": {\"annotationdefaults\": {\"arrowcolor\": \"#2a3f5f\", \"arrowhead\": 0, \"arrowwidth\": 1}, \"coloraxis\": {\"colorbar\": {\"outlinewidth\": 0, \"ticks\": \"\"}}, \"colorscale\": {\"diverging\": [[0, \"#8e0152\"], [0.1, \"#c51b7d\"], [0.2, \"#de77ae\"], [0.3, \"#f1b6da\"], [0.4, \"#fde0ef\"], [0.5, \"#f7f7f7\"], [0.6, \"#e6f5d0\"], [0.7, \"#b8e186\"], [0.8, \"#7fbc41\"], [0.9, \"#4d9221\"], [1, \"#276419\"]], \"sequential\": [[0.0, \"#0d0887\"], [0.1111111111111111, \"#46039f\"], [0.2222222222222222, \"#7201a8\"], [0.3333333333333333, \"#9c179e\"], [0.4444444444444444, \"#bd3786\"], [0.5555555555555556, \"#d8576b\"], [0.6666666666666666, \"#ed7953\"], [0.7777777777777778, \"#fb9f3a\"], [0.8888888888888888, \"#fdca26\"], [1.0, \"#f0f921\"]], \"sequentialminus\": [[0.0, \"#0d0887\"], [0.1111111111111111, \"#46039f\"], [0.2222222222222222, \"#7201a8\"], [0.3333333333333333, \"#9c179e\"], [0.4444444444444444, \"#bd3786\"], [0.5555555555555556, \"#d8576b\"], [0.6666666666666666, \"#ed7953\"], [0.7777777777777778, \"#fb9f3a\"], [0.8888888888888888, \"#fdca26\"], [1.0, \"#f0f921\"]]}, \"colorway\": [\"#636efa\", \"#EF553B\", \"#00cc96\", \"#ab63fa\", \"#FFA15A\", \"#19d3f3\", \"#FF6692\", \"#B6E880\", \"#FF97FF\", \"#FECB52\"], \"font\": {\"color\": \"#2a3f5f\"}, \"geo\": {\"bgcolor\": \"white\", \"lakecolor\": \"white\", \"landcolor\": \"#E5ECF6\", \"showlakes\": true, \"showland\": true, \"subunitcolor\": \"white\"}, \"hoverlabel\": {\"align\": \"left\"}, \"hovermode\": \"closest\", \"mapbox\": {\"style\": \"light\"}, \"paper_bgcolor\": \"white\", \"plot_bgcolor\": \"#E5ECF6\", \"polar\": {\"angularaxis\": {\"gridcolor\": \"white\", \"linecolor\": \"white\", \"ticks\": \"\"}, \"bgcolor\": \"#E5ECF6\", \"radialaxis\": {\"gridcolor\": \"white\", \"linecolor\": \"white\", \"ticks\": \"\"}}, \"scene\": {\"xaxis\": {\"backgroundcolor\": \"#E5ECF6\", \"gridcolor\": \"white\", \"gridwidth\": 2, \"linecolor\": \"white\", \"showbackground\": true, \"ticks\": \"\", \"zerolinecolor\": \"white\"}, \"yaxis\": {\"backgroundcolor\": \"#E5ECF6\", \"gridcolor\": \"white\", \"gridwidth\": 2, \"linecolor\": \"white\", \"showbackground\": true, \"ticks\": \"\", \"zerolinecolor\": \"white\"}, \"zaxis\": {\"backgroundcolor\": \"#E5ECF6\", \"gridcolor\": \"white\", \"gridwidth\": 2, \"linecolor\": \"white\", \"showbackground\": true, \"ticks\": \"\", \"zerolinecolor\": \"white\"}}, \"shapedefaults\": {\"line\": {\"color\": \"#2a3f5f\"}}, \"ternary\": {\"aaxis\": {\"gridcolor\": \"white\", \"linecolor\": \"white\", \"ticks\": \"\"}, \"baxis\": {\"gridcolor\": \"white\", \"linecolor\": \"white\", \"ticks\": \"\"}, \"bgcolor\": \"#E5ECF6\", \"caxis\": {\"gridcolor\": \"white\", \"linecolor\": \"white\", \"ticks\": \"\"}}, \"title\": {\"x\": 0.05}, \"xaxis\": {\"automargin\": true, \"gridcolor\": \"white\", \"linecolor\": \"white\", \"ticks\": \"\", \"title\": {\"standoff\": 15}, \"zerolinecolor\": \"white\", \"zerolinewidth\": 2}, \"yaxis\": {\"automargin\": true, \"gridcolor\": \"white\", \"linecolor\": \"white\", \"ticks\": \"\", \"title\": {\"standoff\": 15}, \"zerolinecolor\": \"white\", \"zerolinewidth\": 2}}}, \"title\": {\"text\": \"Loss\"}, \"xaxis\": {\"anchor\": \"y\", \"domain\": [0.0, 1.0], \"title\": {\"text\": \"Epoch\"}}, \"yaxis\": {\"anchor\": \"x\", \"domain\": [0.0, 1.0], \"title\": {\"text\": \"Loss\"}}},                        {\"responsive\": true}                    ).then(function(){\n",
       "                            \n",
       "var gd = document.getElementById('772d934b-523c-4c76-ba28-838dc37672f4');\n",
       "var x = new MutationObserver(function (mutations, observer) {{\n",
       "        var display = window.getComputedStyle(gd).display;\n",
       "        if (!display || display === 'none') {{\n",
       "            console.log([gd, 'removed!']);\n",
       "            Plotly.purge(gd);\n",
       "            observer.disconnect();\n",
       "        }}\n",
       "}});\n",
       "\n",
       "// Listen for the removal of the full notebook cells\n",
       "var notebookContainer = gd.closest('#notebook-container');\n",
       "if (notebookContainer) {{\n",
       "    x.observe(notebookContainer, {childList: true});\n",
       "}}\n",
       "\n",
       "// Listen for the clearing of the current output cell\n",
       "var outputEl = gd.closest('.output');\n",
       "if (outputEl) {{\n",
       "    x.observe(outputEl, {childList: true});\n",
       "}}\n",
       "\n",
       "                        })                };                });            </script>        </div>"
      ]
     },
     "metadata": {},
     "output_type": "display_data"
    }
   ],
   "source": [
    "# Plot regular data and training data over epochs\n",
    "# plt.figure(1)\n",
    "# plt.plot(original.index, original.values, color = \"blue\", linewidth = 0.7)\n",
    "# plt.plot(predict.index, predict.values, color = \"red\", linewidth = 0.7)\n",
    "# plt.title(\"Stock vs Epochs\")\n",
    "\n",
    "# # Plot loss over epochs \n",
    "# plt.figure(2)\n",
    "# plt.plot(loss_arr)\n",
    "# plt.title(\"Loss\")\n",
    "\n",
    "# Interactive Plots\n",
    "import plotly.express as px\n",
    "import plotly.graph_objects as go\n",
    "#print(original)\n",
    "df = original\n",
    "df1 = predict\n",
    "new_df = pd.concat([df, df1], axis=1, sort=False)\n",
    "#print(new_df)\n",
    "loss_df = pd.DataFrame(loss_arr, columns=['Loss'])\n",
    "fig = px.line(loss_df, y=loss_arr, title = \"Loss\")\n",
    "fig.update_layout(title='Loss',\n",
    "                   xaxis_title='Epoch',\n",
    "                   yaxis_title='Loss')\n",
    "fig.show()\n"
   ]
  },
  {
   "cell_type": "code",
   "execution_count": 63,
   "metadata": {},
   "outputs": [
    {
     "data": {
      "application/vnd.plotly.v1+json": {
       "config": {
        "plotlyServerURL": "https://plotly.com"
       },
       "data": [
        {
         "mode": "lines",
         "name": "Original",
         "type": "scatter",
         "x": [
          0,
          1,
          2,
          3,
          4,
          5,
          6,
          7,
          8,
          9,
          10,
          11,
          12,
          13,
          14,
          15,
          16,
          17,
          18,
          19,
          20,
          21,
          22,
          23,
          24,
          25,
          26,
          27,
          28,
          29,
          30,
          31,
          32,
          33,
          34,
          35,
          36,
          37,
          38,
          39,
          40,
          41,
          42,
          43,
          44,
          45,
          46,
          47,
          48,
          49,
          50,
          51,
          52,
          53,
          54,
          55,
          56,
          57,
          58,
          59,
          60,
          61,
          62,
          63,
          64,
          65,
          66,
          67,
          68,
          69,
          70,
          71,
          72,
          73,
          74,
          75,
          76,
          77,
          78,
          79,
          80,
          81,
          82,
          83,
          84,
          85,
          86,
          87,
          88,
          89,
          90,
          91,
          92,
          93,
          94,
          95,
          96,
          97,
          98,
          99,
          100,
          101,
          102,
          103,
          104,
          105,
          106,
          107,
          108,
          109,
          110,
          111,
          112,
          113,
          114,
          115,
          116,
          117,
          118,
          119,
          120,
          121,
          122,
          123,
          124,
          125,
          126,
          127,
          128,
          129,
          130,
          131,
          132,
          133,
          134,
          135,
          136,
          137,
          138,
          139,
          140,
          141,
          142,
          143,
          144,
          145,
          146,
          147,
          148,
          149,
          150,
          151,
          152,
          153,
          154,
          155,
          156,
          157,
          158,
          159,
          160,
          161,
          162
         ],
         "y": [
          22.36258888244629,
          22.15353012084961,
          21.70554542541504,
          22.135150909423828,
          22.313005447387695,
          21.71706771850586,
          21.945741653442383,
          21.941125869750977,
          21.774816513061523,
          21.643157958984375,
          21.71014404296875,
          22.322242736816406,
          22.664104461669922,
          22.23447036743164,
          22.18365478515625,
          22.377683639526367,
          21.871828079223633,
          22.1975154876709,
          22.349964141845703,
          22.38460922241211,
          22.333799362182617,
          23.22077751159668,
          23.271589279174805,
          23.44482421875,
          23.793609619140625,
          23.53029441833496,
          23.33626365661621,
          23.357053756713867,
          23.368602752685547,
          23.62037467956543,
          23.68042755126953,
          24.1562557220459,
          24.477323532104492,
          24.438053131103516,
          24.465770721435547,
          24.46346664428711,
          24.65056037902832,
          24.514280319213867,
          24.40802764892578,
          24.297149658203125,
          24.87230110168457,
          25.306554794311523,
          25.174894332885742,
          25.405874252319336,
          25.666887283325195,
          25.364299774169922,
          25.629934310913086,
          25.07094955444336,
          25.09866714477539,
          25.181821823120117,
          25.509822845458984,
          25.87939453125,
          25.89324951171875,
          25.3735408782959,
          24.826107025146484,
          24.694446563720703,
          24.74526023864746,
          24.477323532104492,
          24.410341262817383,
          24.271747589111328,
          24.103124618530273,
          22.594804763793945,
          21.90416717529297,
          21.652395248413086,
          21.629297256469727,
          21.985010147094727,
          21.756336212158203,
          21.668031692504883,
          21.547183990478516,
          21.563451766967773,
          21.709856033325195,
          21.498384475708008,
          20.99409294128418,
          21.035926818847656,
          21.816757202148438,
          21.72612762451172,
          21.974781036376953,
          21.8911190032959,
          22.128158569335938,
          22.409351348876953,
          22.750967025756836,
          23.150678634643555,
          23.33426284790039,
          23.32032012939453,
          23.206449508666992,
          22.881107330322266,
          22.709138870239258,
          22.755613327026367,
          22.92060661315918,
          23.013566970825195,
          22.99264907836914,
          23.157649993896484,
          22.967090606689453,
          22.620824813842773,
          22.648712158203125,
          22.574350357055664,
          22.669633865356445,
          22.153724670410156,
          22.10027503967285,
          22.28850746154785,
          22.204853057861328,
          22.332664489746094,
          21.70521354675293,
          21.38916015625,
          21.74936294555664,
          21.93759536743164,
          22.216468811035156,
          22.28386116027832,
          22.0747127532959,
          22.200197219848633,
          22.295480728149414,
          22.467453002929688,
          22.53717041015625,
          22.63941764831543,
          22.511608123779297,
          22.95779800415039,
          22.955469131469727,
          23.199478149414062,
          23.208770751953125,
          23.229690551757812,
          23.106523513793945,
          22.927587509155273,
          22.620824813842773,
          22.46512794494629,
          23.924531936645508,
          24.247554779052734,
          24.217342376708984,
          24.644941329956055,
          24.28009033203125,
          24.584516525268555,
          24.73639488220215,
          25.112567901611328,
          25.320512771606445,
          25.423316955566406,
          25.234066009521484,
          25.217708587646484,
          25.276123046875,
          25.57986831665039,
          25.556501388549805,
          25.519113540649414,
          25.486406326293945,
          25.55183219909668,
          25.353221893310547,
          25.432661056518555,
          25.241073608398438,
          25.133596420288086,
          24.986398696899414,
          24.95836067199707,
          24.766765594482422,
          24.79012680053711,
          24.93733024597168,
          25.17098045349121,
          25.163969039916992,
          25.318174362182617,
          24.654617309570312,
          24.096193313598633,
          24.635927200317383,
          25.222381591796875,
          26.114919662475586,
          27.00278663635254,
          26.850914001464844,
          26.537826538085938,
          26.53548240661621
         ]
        },
        {
         "mode": "lines",
         "name": "RNN",
         "type": "scatter",
         "x": [
          0,
          1,
          2,
          3,
          4,
          5,
          6,
          7,
          8,
          9,
          10,
          11,
          12,
          13,
          14,
          15,
          16,
          17,
          18,
          19,
          20,
          21,
          22,
          23,
          24,
          25,
          26,
          27,
          28,
          29,
          30,
          31,
          32,
          33,
          34,
          35,
          36,
          37,
          38,
          39,
          40,
          41,
          42,
          43,
          44,
          45,
          46,
          47,
          48,
          49,
          50,
          51,
          52,
          53,
          54,
          55,
          56,
          57,
          58,
          59,
          60,
          61,
          62,
          63,
          64,
          65,
          66,
          67,
          68,
          69,
          70,
          71,
          72,
          73,
          74,
          75,
          76,
          77,
          78,
          79,
          80,
          81,
          82,
          83,
          84,
          85,
          86,
          87,
          88,
          89,
          90,
          91,
          92,
          93,
          94,
          95,
          96,
          97,
          98,
          99,
          100,
          101,
          102,
          103,
          104,
          105,
          106,
          107,
          108,
          109,
          110,
          111,
          112,
          113,
          114,
          115,
          116,
          117,
          118,
          119,
          120,
          121,
          122,
          123,
          124,
          125,
          126,
          127,
          128,
          129,
          130,
          131,
          132,
          133,
          134,
          135,
          136,
          137,
          138,
          139,
          140,
          141,
          142,
          143,
          144,
          145,
          146,
          147,
          148,
          149,
          150,
          151,
          152,
          153,
          154,
          155,
          156,
          157,
          158,
          159,
          160,
          161,
          162
         ],
         "y": [
          22.253021240234375,
          22.068559646606445,
          22.062030792236328,
          22.31136131286621,
          22.52129364013672,
          22.084501266479492,
          21.938213348388672,
          22.041400909423828,
          21.82712173461914,
          21.93675422668457,
          21.980510711669922,
          22.23641586303711,
          22.45808982849121,
          22.613697052001953,
          22.423065185546875,
          22.497819900512695,
          22.44512176513672,
          22.052873611450195,
          22.292831420898438,
          22.431734085083008,
          22.720882415771484,
          22.77408218383789,
          23.60704803466797,
          23.363744735717773,
          23.683055877685547,
          23.564451217651367,
          23.32255744934082,
          23.34528350830078,
          23.34461784362793,
          23.315372467041016,
          23.735069274902344,
          24.204036712646484,
          24.66249656677246,
          24.50220489501953,
          24.406925201416016,
          24.554540634155273,
          24.579692840576172,
          24.643733978271484,
          24.478059768676758,
          24.343034744262695,
          24.666736602783203,
          25.353988647460938,
          25.29660415649414,
          25.41922378540039,
          25.472177505493164,
          25.53618621826172,
          25.394350051879883,
          25.316322326660156,
          25.04355239868164,
          25.0971736907959,
          25.51329803466797,
          25.778722763061523,
          25.84685516357422,
          25.406457901000977,
          24.72367286682129,
          24.63883399963379,
          24.769163131713867,
          24.486751556396484,
          24.402830123901367,
          24.329296112060547,
          24.139955520629883,
          22.527292251586914,
          21.867996215820312,
          21.694293975830078,
          21.66938018798828,
          21.941368103027344,
          21.699899673461914,
          21.77450942993164,
          21.566898345947266,
          21.42745018005371,
          21.606369018554688,
          21.469335556030273,
          21.472454071044922,
          21.45638084411621,
          21.683103561401367,
          21.90267562866211,
          21.74862289428711,
          22.18328285217285,
          22.035324096679688,
          22.48707389831543,
          22.619972229003906,
          23.102378845214844,
          23.46392250061035,
          23.535737991333008,
          23.065868377685547,
          22.96440887451172,
          22.87978744506836,
          22.634002685546875,
          23.177797317504883,
          23.519182205200195,
          23.15123748779297,
          23.153833389282227,
          22.990764617919922,
          22.7169246673584,
          22.54534912109375,
          22.555091857910156,
          22.282062530517578,
          22.312177658081055,
          22.286306381225586,
          22.50506019592285,
          22.422494888305664,
          22.05966567993164,
          22.073457717895508,
          21.604921340942383,
          21.635927200317383,
          22.13322639465332,
          22.288503646850586,
          22.311853408813477,
          22.313230514526367,
          22.2088623046875,
          22.365495681762695,
          22.365903854370117,
          22.56589126586914,
          22.630353927612305,
          22.762962341308594,
          22.727153778076172,
          23.021448135375977,
          23.087787628173828,
          23.197561264038086,
          23.13480567932129,
          23.091527938842773,
          23.02102279663086,
          22.913148880004883,
          23.067996978759766,
          23.40932273864746,
          23.989721298217773,
          24.191234588623047,
          24.611764907836914,
          24.369632720947266,
          24.56501007080078,
          24.856414794921875,
          25.076265335083008,
          25.345260620117188,
          25.498817443847656,
          25.36992645263672,
          25.23870277404785,
          25.272829055786133,
          25.420806884765625,
          25.577512741088867,
          25.58682632446289,
          25.481813430786133,
          25.466386795043945,
          25.317636489868164,
          25.236064910888672,
          25.230958938598633,
          25.087432861328125,
          24.967857360839844,
          24.893638610839844,
          24.867385864257812,
          24.739267349243164,
          24.981599807739258,
          25.164112091064453,
          25.121477127075195,
          25.168968200683594,
          24.66918182373047,
          24.06557273864746,
          24.657323837280273,
          25.127885818481445,
          26.156639099121094,
          27.07496452331543,
          26.86130142211914,
          26.475963592529297,
          26.459060668945312
         ]
        }
       ],
       "layout": {
        "template": {
         "data": {
          "bar": [
           {
            "error_x": {
             "color": "#2a3f5f"
            },
            "error_y": {
             "color": "#2a3f5f"
            },
            "marker": {
             "line": {
              "color": "#E5ECF6",
              "width": 0.5
             }
            },
            "type": "bar"
           }
          ],
          "barpolar": [
           {
            "marker": {
             "line": {
              "color": "#E5ECF6",
              "width": 0.5
             }
            },
            "type": "barpolar"
           }
          ],
          "carpet": [
           {
            "aaxis": {
             "endlinecolor": "#2a3f5f",
             "gridcolor": "white",
             "linecolor": "white",
             "minorgridcolor": "white",
             "startlinecolor": "#2a3f5f"
            },
            "baxis": {
             "endlinecolor": "#2a3f5f",
             "gridcolor": "white",
             "linecolor": "white",
             "minorgridcolor": "white",
             "startlinecolor": "#2a3f5f"
            },
            "type": "carpet"
           }
          ],
          "choropleth": [
           {
            "colorbar": {
             "outlinewidth": 0,
             "ticks": ""
            },
            "type": "choropleth"
           }
          ],
          "contour": [
           {
            "colorbar": {
             "outlinewidth": 0,
             "ticks": ""
            },
            "colorscale": [
             [
              0,
              "#0d0887"
             ],
             [
              0.1111111111111111,
              "#46039f"
             ],
             [
              0.2222222222222222,
              "#7201a8"
             ],
             [
              0.3333333333333333,
              "#9c179e"
             ],
             [
              0.4444444444444444,
              "#bd3786"
             ],
             [
              0.5555555555555556,
              "#d8576b"
             ],
             [
              0.6666666666666666,
              "#ed7953"
             ],
             [
              0.7777777777777778,
              "#fb9f3a"
             ],
             [
              0.8888888888888888,
              "#fdca26"
             ],
             [
              1,
              "#f0f921"
             ]
            ],
            "type": "contour"
           }
          ],
          "contourcarpet": [
           {
            "colorbar": {
             "outlinewidth": 0,
             "ticks": ""
            },
            "type": "contourcarpet"
           }
          ],
          "heatmap": [
           {
            "colorbar": {
             "outlinewidth": 0,
             "ticks": ""
            },
            "colorscale": [
             [
              0,
              "#0d0887"
             ],
             [
              0.1111111111111111,
              "#46039f"
             ],
             [
              0.2222222222222222,
              "#7201a8"
             ],
             [
              0.3333333333333333,
              "#9c179e"
             ],
             [
              0.4444444444444444,
              "#bd3786"
             ],
             [
              0.5555555555555556,
              "#d8576b"
             ],
             [
              0.6666666666666666,
              "#ed7953"
             ],
             [
              0.7777777777777778,
              "#fb9f3a"
             ],
             [
              0.8888888888888888,
              "#fdca26"
             ],
             [
              1,
              "#f0f921"
             ]
            ],
            "type": "heatmap"
           }
          ],
          "heatmapgl": [
           {
            "colorbar": {
             "outlinewidth": 0,
             "ticks": ""
            },
            "colorscale": [
             [
              0,
              "#0d0887"
             ],
             [
              0.1111111111111111,
              "#46039f"
             ],
             [
              0.2222222222222222,
              "#7201a8"
             ],
             [
              0.3333333333333333,
              "#9c179e"
             ],
             [
              0.4444444444444444,
              "#bd3786"
             ],
             [
              0.5555555555555556,
              "#d8576b"
             ],
             [
              0.6666666666666666,
              "#ed7953"
             ],
             [
              0.7777777777777778,
              "#fb9f3a"
             ],
             [
              0.8888888888888888,
              "#fdca26"
             ],
             [
              1,
              "#f0f921"
             ]
            ],
            "type": "heatmapgl"
           }
          ],
          "histogram": [
           {
            "marker": {
             "colorbar": {
              "outlinewidth": 0,
              "ticks": ""
             }
            },
            "type": "histogram"
           }
          ],
          "histogram2d": [
           {
            "colorbar": {
             "outlinewidth": 0,
             "ticks": ""
            },
            "colorscale": [
             [
              0,
              "#0d0887"
             ],
             [
              0.1111111111111111,
              "#46039f"
             ],
             [
              0.2222222222222222,
              "#7201a8"
             ],
             [
              0.3333333333333333,
              "#9c179e"
             ],
             [
              0.4444444444444444,
              "#bd3786"
             ],
             [
              0.5555555555555556,
              "#d8576b"
             ],
             [
              0.6666666666666666,
              "#ed7953"
             ],
             [
              0.7777777777777778,
              "#fb9f3a"
             ],
             [
              0.8888888888888888,
              "#fdca26"
             ],
             [
              1,
              "#f0f921"
             ]
            ],
            "type": "histogram2d"
           }
          ],
          "histogram2dcontour": [
           {
            "colorbar": {
             "outlinewidth": 0,
             "ticks": ""
            },
            "colorscale": [
             [
              0,
              "#0d0887"
             ],
             [
              0.1111111111111111,
              "#46039f"
             ],
             [
              0.2222222222222222,
              "#7201a8"
             ],
             [
              0.3333333333333333,
              "#9c179e"
             ],
             [
              0.4444444444444444,
              "#bd3786"
             ],
             [
              0.5555555555555556,
              "#d8576b"
             ],
             [
              0.6666666666666666,
              "#ed7953"
             ],
             [
              0.7777777777777778,
              "#fb9f3a"
             ],
             [
              0.8888888888888888,
              "#fdca26"
             ],
             [
              1,
              "#f0f921"
             ]
            ],
            "type": "histogram2dcontour"
           }
          ],
          "mesh3d": [
           {
            "colorbar": {
             "outlinewidth": 0,
             "ticks": ""
            },
            "type": "mesh3d"
           }
          ],
          "parcoords": [
           {
            "line": {
             "colorbar": {
              "outlinewidth": 0,
              "ticks": ""
             }
            },
            "type": "parcoords"
           }
          ],
          "pie": [
           {
            "automargin": true,
            "type": "pie"
           }
          ],
          "scatter": [
           {
            "marker": {
             "colorbar": {
              "outlinewidth": 0,
              "ticks": ""
             }
            },
            "type": "scatter"
           }
          ],
          "scatter3d": [
           {
            "line": {
             "colorbar": {
              "outlinewidth": 0,
              "ticks": ""
             }
            },
            "marker": {
             "colorbar": {
              "outlinewidth": 0,
              "ticks": ""
             }
            },
            "type": "scatter3d"
           }
          ],
          "scattercarpet": [
           {
            "marker": {
             "colorbar": {
              "outlinewidth": 0,
              "ticks": ""
             }
            },
            "type": "scattercarpet"
           }
          ],
          "scattergeo": [
           {
            "marker": {
             "colorbar": {
              "outlinewidth": 0,
              "ticks": ""
             }
            },
            "type": "scattergeo"
           }
          ],
          "scattergl": [
           {
            "marker": {
             "colorbar": {
              "outlinewidth": 0,
              "ticks": ""
             }
            },
            "type": "scattergl"
           }
          ],
          "scattermapbox": [
           {
            "marker": {
             "colorbar": {
              "outlinewidth": 0,
              "ticks": ""
             }
            },
            "type": "scattermapbox"
           }
          ],
          "scatterpolar": [
           {
            "marker": {
             "colorbar": {
              "outlinewidth": 0,
              "ticks": ""
             }
            },
            "type": "scatterpolar"
           }
          ],
          "scatterpolargl": [
           {
            "marker": {
             "colorbar": {
              "outlinewidth": 0,
              "ticks": ""
             }
            },
            "type": "scatterpolargl"
           }
          ],
          "scatterternary": [
           {
            "marker": {
             "colorbar": {
              "outlinewidth": 0,
              "ticks": ""
             }
            },
            "type": "scatterternary"
           }
          ],
          "surface": [
           {
            "colorbar": {
             "outlinewidth": 0,
             "ticks": ""
            },
            "colorscale": [
             [
              0,
              "#0d0887"
             ],
             [
              0.1111111111111111,
              "#46039f"
             ],
             [
              0.2222222222222222,
              "#7201a8"
             ],
             [
              0.3333333333333333,
              "#9c179e"
             ],
             [
              0.4444444444444444,
              "#bd3786"
             ],
             [
              0.5555555555555556,
              "#d8576b"
             ],
             [
              0.6666666666666666,
              "#ed7953"
             ],
             [
              0.7777777777777778,
              "#fb9f3a"
             ],
             [
              0.8888888888888888,
              "#fdca26"
             ],
             [
              1,
              "#f0f921"
             ]
            ],
            "type": "surface"
           }
          ],
          "table": [
           {
            "cells": {
             "fill": {
              "color": "#EBF0F8"
             },
             "line": {
              "color": "white"
             }
            },
            "header": {
             "fill": {
              "color": "#C8D4E3"
             },
             "line": {
              "color": "white"
             }
            },
            "type": "table"
           }
          ]
         },
         "layout": {
          "annotationdefaults": {
           "arrowcolor": "#2a3f5f",
           "arrowhead": 0,
           "arrowwidth": 1
          },
          "coloraxis": {
           "colorbar": {
            "outlinewidth": 0,
            "ticks": ""
           }
          },
          "colorscale": {
           "diverging": [
            [
             0,
             "#8e0152"
            ],
            [
             0.1,
             "#c51b7d"
            ],
            [
             0.2,
             "#de77ae"
            ],
            [
             0.3,
             "#f1b6da"
            ],
            [
             0.4,
             "#fde0ef"
            ],
            [
             0.5,
             "#f7f7f7"
            ],
            [
             0.6,
             "#e6f5d0"
            ],
            [
             0.7,
             "#b8e186"
            ],
            [
             0.8,
             "#7fbc41"
            ],
            [
             0.9,
             "#4d9221"
            ],
            [
             1,
             "#276419"
            ]
           ],
           "sequential": [
            [
             0,
             "#0d0887"
            ],
            [
             0.1111111111111111,
             "#46039f"
            ],
            [
             0.2222222222222222,
             "#7201a8"
            ],
            [
             0.3333333333333333,
             "#9c179e"
            ],
            [
             0.4444444444444444,
             "#bd3786"
            ],
            [
             0.5555555555555556,
             "#d8576b"
            ],
            [
             0.6666666666666666,
             "#ed7953"
            ],
            [
             0.7777777777777778,
             "#fb9f3a"
            ],
            [
             0.8888888888888888,
             "#fdca26"
            ],
            [
             1,
             "#f0f921"
            ]
           ],
           "sequentialminus": [
            [
             0,
             "#0d0887"
            ],
            [
             0.1111111111111111,
             "#46039f"
            ],
            [
             0.2222222222222222,
             "#7201a8"
            ],
            [
             0.3333333333333333,
             "#9c179e"
            ],
            [
             0.4444444444444444,
             "#bd3786"
            ],
            [
             0.5555555555555556,
             "#d8576b"
            ],
            [
             0.6666666666666666,
             "#ed7953"
            ],
            [
             0.7777777777777778,
             "#fb9f3a"
            ],
            [
             0.8888888888888888,
             "#fdca26"
            ],
            [
             1,
             "#f0f921"
            ]
           ]
          },
          "colorway": [
           "#636efa",
           "#EF553B",
           "#00cc96",
           "#ab63fa",
           "#FFA15A",
           "#19d3f3",
           "#FF6692",
           "#B6E880",
           "#FF97FF",
           "#FECB52"
          ],
          "font": {
           "color": "#2a3f5f"
          },
          "geo": {
           "bgcolor": "white",
           "lakecolor": "white",
           "landcolor": "#E5ECF6",
           "showlakes": true,
           "showland": true,
           "subunitcolor": "white"
          },
          "hoverlabel": {
           "align": "left"
          },
          "hovermode": "closest",
          "mapbox": {
           "style": "light"
          },
          "paper_bgcolor": "white",
          "plot_bgcolor": "#E5ECF6",
          "polar": {
           "angularaxis": {
            "gridcolor": "white",
            "linecolor": "white",
            "ticks": ""
           },
           "bgcolor": "#E5ECF6",
           "radialaxis": {
            "gridcolor": "white",
            "linecolor": "white",
            "ticks": ""
           }
          },
          "scene": {
           "xaxis": {
            "backgroundcolor": "#E5ECF6",
            "gridcolor": "white",
            "gridwidth": 2,
            "linecolor": "white",
            "showbackground": true,
            "ticks": "",
            "zerolinecolor": "white"
           },
           "yaxis": {
            "backgroundcolor": "#E5ECF6",
            "gridcolor": "white",
            "gridwidth": 2,
            "linecolor": "white",
            "showbackground": true,
            "ticks": "",
            "zerolinecolor": "white"
           },
           "zaxis": {
            "backgroundcolor": "#E5ECF6",
            "gridcolor": "white",
            "gridwidth": 2,
            "linecolor": "white",
            "showbackground": true,
            "ticks": "",
            "zerolinecolor": "white"
           }
          },
          "shapedefaults": {
           "line": {
            "color": "#2a3f5f"
           }
          },
          "ternary": {
           "aaxis": {
            "gridcolor": "white",
            "linecolor": "white",
            "ticks": ""
           },
           "baxis": {
            "gridcolor": "white",
            "linecolor": "white",
            "ticks": ""
           },
           "bgcolor": "#E5ECF6",
           "caxis": {
            "gridcolor": "white",
            "linecolor": "white",
            "ticks": ""
           }
          },
          "title": {
           "x": 0.05
          },
          "xaxis": {
           "automargin": true,
           "gridcolor": "white",
           "linecolor": "white",
           "ticks": "",
           "title": {
            "standoff": 15
           },
           "zerolinecolor": "white",
           "zerolinewidth": 2
          },
          "yaxis": {
           "automargin": true,
           "gridcolor": "white",
           "linecolor": "white",
           "ticks": "",
           "title": {
            "standoff": 15
           },
           "zerolinecolor": "white",
           "zerolinewidth": 2
          }
         }
        },
        "title": {
         "text": "Original Data vs. RNN"
        },
        "xaxis": {
         "title": {
          "text": "Epoch"
         }
        },
        "yaxis": {
         "title": {
          "text": "Stock"
         }
        }
       }
      },
      "text/html": [
       "<div>                            <div id=\"f1f7553c-6c41-400c-a682-6a463023cc03\" class=\"plotly-graph-div\" style=\"height:525px; width:100%;\"></div>            <script type=\"text/javascript\">                require([\"plotly\"], function(Plotly) {                    window.PLOTLYENV=window.PLOTLYENV || {};                                    if (document.getElementById(\"f1f7553c-6c41-400c-a682-6a463023cc03\")) {                    Plotly.newPlot(                        \"f1f7553c-6c41-400c-a682-6a463023cc03\",                        [{\"mode\": \"lines\", \"name\": \"Original\", \"type\": \"scatter\", \"x\": [0, 1, 2, 3, 4, 5, 6, 7, 8, 9, 10, 11, 12, 13, 14, 15, 16, 17, 18, 19, 20, 21, 22, 23, 24, 25, 26, 27, 28, 29, 30, 31, 32, 33, 34, 35, 36, 37, 38, 39, 40, 41, 42, 43, 44, 45, 46, 47, 48, 49, 50, 51, 52, 53, 54, 55, 56, 57, 58, 59, 60, 61, 62, 63, 64, 65, 66, 67, 68, 69, 70, 71, 72, 73, 74, 75, 76, 77, 78, 79, 80, 81, 82, 83, 84, 85, 86, 87, 88, 89, 90, 91, 92, 93, 94, 95, 96, 97, 98, 99, 100, 101, 102, 103, 104, 105, 106, 107, 108, 109, 110, 111, 112, 113, 114, 115, 116, 117, 118, 119, 120, 121, 122, 123, 124, 125, 126, 127, 128, 129, 130, 131, 132, 133, 134, 135, 136, 137, 138, 139, 140, 141, 142, 143, 144, 145, 146, 147, 148, 149, 150, 151, 152, 153, 154, 155, 156, 157, 158, 159, 160, 161, 162], \"y\": [22.36258888244629, 22.15353012084961, 21.70554542541504, 22.135150909423828, 22.313005447387695, 21.71706771850586, 21.945741653442383, 21.941125869750977, 21.774816513061523, 21.643157958984375, 21.71014404296875, 22.322242736816406, 22.664104461669922, 22.23447036743164, 22.18365478515625, 22.377683639526367, 21.871828079223633, 22.1975154876709, 22.349964141845703, 22.38460922241211, 22.333799362182617, 23.22077751159668, 23.271589279174805, 23.44482421875, 23.793609619140625, 23.53029441833496, 23.33626365661621, 23.357053756713867, 23.368602752685547, 23.62037467956543, 23.68042755126953, 24.1562557220459, 24.477323532104492, 24.438053131103516, 24.465770721435547, 24.46346664428711, 24.65056037902832, 24.514280319213867, 24.40802764892578, 24.297149658203125, 24.87230110168457, 25.306554794311523, 25.174894332885742, 25.405874252319336, 25.666887283325195, 25.364299774169922, 25.629934310913086, 25.07094955444336, 25.09866714477539, 25.181821823120117, 25.509822845458984, 25.87939453125, 25.89324951171875, 25.3735408782959, 24.826107025146484, 24.694446563720703, 24.74526023864746, 24.477323532104492, 24.410341262817383, 24.271747589111328, 24.103124618530273, 22.594804763793945, 21.90416717529297, 21.652395248413086, 21.629297256469727, 21.985010147094727, 21.756336212158203, 21.668031692504883, 21.547183990478516, 21.563451766967773, 21.709856033325195, 21.498384475708008, 20.99409294128418, 21.035926818847656, 21.816757202148438, 21.72612762451172, 21.974781036376953, 21.8911190032959, 22.128158569335938, 22.409351348876953, 22.750967025756836, 23.150678634643555, 23.33426284790039, 23.32032012939453, 23.206449508666992, 22.881107330322266, 22.709138870239258, 22.755613327026367, 22.92060661315918, 23.013566970825195, 22.99264907836914, 23.157649993896484, 22.967090606689453, 22.620824813842773, 22.648712158203125, 22.574350357055664, 22.669633865356445, 22.153724670410156, 22.10027503967285, 22.28850746154785, 22.204853057861328, 22.332664489746094, 21.70521354675293, 21.38916015625, 21.74936294555664, 21.93759536743164, 22.216468811035156, 22.28386116027832, 22.0747127532959, 22.200197219848633, 22.295480728149414, 22.467453002929688, 22.53717041015625, 22.63941764831543, 22.511608123779297, 22.95779800415039, 22.955469131469727, 23.199478149414062, 23.208770751953125, 23.229690551757812, 23.106523513793945, 22.927587509155273, 22.620824813842773, 22.46512794494629, 23.924531936645508, 24.247554779052734, 24.217342376708984, 24.644941329956055, 24.28009033203125, 24.584516525268555, 24.73639488220215, 25.112567901611328, 25.320512771606445, 25.423316955566406, 25.234066009521484, 25.217708587646484, 25.276123046875, 25.57986831665039, 25.556501388549805, 25.519113540649414, 25.486406326293945, 25.55183219909668, 25.353221893310547, 25.432661056518555, 25.241073608398438, 25.133596420288086, 24.986398696899414, 24.95836067199707, 24.766765594482422, 24.79012680053711, 24.93733024597168, 25.17098045349121, 25.163969039916992, 25.318174362182617, 24.654617309570312, 24.096193313598633, 24.635927200317383, 25.222381591796875, 26.114919662475586, 27.00278663635254, 26.850914001464844, 26.537826538085938, 26.53548240661621]}, {\"mode\": \"lines\", \"name\": \"RNN\", \"type\": \"scatter\", \"x\": [0, 1, 2, 3, 4, 5, 6, 7, 8, 9, 10, 11, 12, 13, 14, 15, 16, 17, 18, 19, 20, 21, 22, 23, 24, 25, 26, 27, 28, 29, 30, 31, 32, 33, 34, 35, 36, 37, 38, 39, 40, 41, 42, 43, 44, 45, 46, 47, 48, 49, 50, 51, 52, 53, 54, 55, 56, 57, 58, 59, 60, 61, 62, 63, 64, 65, 66, 67, 68, 69, 70, 71, 72, 73, 74, 75, 76, 77, 78, 79, 80, 81, 82, 83, 84, 85, 86, 87, 88, 89, 90, 91, 92, 93, 94, 95, 96, 97, 98, 99, 100, 101, 102, 103, 104, 105, 106, 107, 108, 109, 110, 111, 112, 113, 114, 115, 116, 117, 118, 119, 120, 121, 122, 123, 124, 125, 126, 127, 128, 129, 130, 131, 132, 133, 134, 135, 136, 137, 138, 139, 140, 141, 142, 143, 144, 145, 146, 147, 148, 149, 150, 151, 152, 153, 154, 155, 156, 157, 158, 159, 160, 161, 162], \"y\": [22.253021240234375, 22.068559646606445, 22.062030792236328, 22.31136131286621, 22.52129364013672, 22.084501266479492, 21.938213348388672, 22.041400909423828, 21.82712173461914, 21.93675422668457, 21.980510711669922, 22.23641586303711, 22.45808982849121, 22.613697052001953, 22.423065185546875, 22.497819900512695, 22.44512176513672, 22.052873611450195, 22.292831420898438, 22.431734085083008, 22.720882415771484, 22.77408218383789, 23.60704803466797, 23.363744735717773, 23.683055877685547, 23.564451217651367, 23.32255744934082, 23.34528350830078, 23.34461784362793, 23.315372467041016, 23.735069274902344, 24.204036712646484, 24.66249656677246, 24.50220489501953, 24.406925201416016, 24.554540634155273, 24.579692840576172, 24.643733978271484, 24.478059768676758, 24.343034744262695, 24.666736602783203, 25.353988647460938, 25.29660415649414, 25.41922378540039, 25.472177505493164, 25.53618621826172, 25.394350051879883, 25.316322326660156, 25.04355239868164, 25.0971736907959, 25.51329803466797, 25.778722763061523, 25.84685516357422, 25.406457901000977, 24.72367286682129, 24.63883399963379, 24.769163131713867, 24.486751556396484, 24.402830123901367, 24.329296112060547, 24.139955520629883, 22.527292251586914, 21.867996215820312, 21.694293975830078, 21.66938018798828, 21.941368103027344, 21.699899673461914, 21.77450942993164, 21.566898345947266, 21.42745018005371, 21.606369018554688, 21.469335556030273, 21.472454071044922, 21.45638084411621, 21.683103561401367, 21.90267562866211, 21.74862289428711, 22.18328285217285, 22.035324096679688, 22.48707389831543, 22.619972229003906, 23.102378845214844, 23.46392250061035, 23.535737991333008, 23.065868377685547, 22.96440887451172, 22.87978744506836, 22.634002685546875, 23.177797317504883, 23.519182205200195, 23.15123748779297, 23.153833389282227, 22.990764617919922, 22.7169246673584, 22.54534912109375, 22.555091857910156, 22.282062530517578, 22.312177658081055, 22.286306381225586, 22.50506019592285, 22.422494888305664, 22.05966567993164, 22.073457717895508, 21.604921340942383, 21.635927200317383, 22.13322639465332, 22.288503646850586, 22.311853408813477, 22.313230514526367, 22.2088623046875, 22.365495681762695, 22.365903854370117, 22.56589126586914, 22.630353927612305, 22.762962341308594, 22.727153778076172, 23.021448135375977, 23.087787628173828, 23.197561264038086, 23.13480567932129, 23.091527938842773, 23.02102279663086, 22.913148880004883, 23.067996978759766, 23.40932273864746, 23.989721298217773, 24.191234588623047, 24.611764907836914, 24.369632720947266, 24.56501007080078, 24.856414794921875, 25.076265335083008, 25.345260620117188, 25.498817443847656, 25.36992645263672, 25.23870277404785, 25.272829055786133, 25.420806884765625, 25.577512741088867, 25.58682632446289, 25.481813430786133, 25.466386795043945, 25.317636489868164, 25.236064910888672, 25.230958938598633, 25.087432861328125, 24.967857360839844, 24.893638610839844, 24.867385864257812, 24.739267349243164, 24.981599807739258, 25.164112091064453, 25.121477127075195, 25.168968200683594, 24.66918182373047, 24.06557273864746, 24.657323837280273, 25.127885818481445, 26.156639099121094, 27.07496452331543, 26.86130142211914, 26.475963592529297, 26.459060668945312]}],                        {\"template\": {\"data\": {\"bar\": [{\"error_x\": {\"color\": \"#2a3f5f\"}, \"error_y\": {\"color\": \"#2a3f5f\"}, \"marker\": {\"line\": {\"color\": \"#E5ECF6\", \"width\": 0.5}}, \"type\": \"bar\"}], \"barpolar\": [{\"marker\": {\"line\": {\"color\": \"#E5ECF6\", \"width\": 0.5}}, \"type\": \"barpolar\"}], \"carpet\": [{\"aaxis\": {\"endlinecolor\": \"#2a3f5f\", \"gridcolor\": \"white\", \"linecolor\": \"white\", \"minorgridcolor\": \"white\", \"startlinecolor\": \"#2a3f5f\"}, \"baxis\": {\"endlinecolor\": \"#2a3f5f\", \"gridcolor\": \"white\", \"linecolor\": \"white\", \"minorgridcolor\": \"white\", \"startlinecolor\": \"#2a3f5f\"}, \"type\": \"carpet\"}], \"choropleth\": [{\"colorbar\": {\"outlinewidth\": 0, \"ticks\": \"\"}, \"type\": \"choropleth\"}], \"contour\": [{\"colorbar\": {\"outlinewidth\": 0, \"ticks\": \"\"}, \"colorscale\": [[0.0, \"#0d0887\"], [0.1111111111111111, \"#46039f\"], [0.2222222222222222, \"#7201a8\"], [0.3333333333333333, \"#9c179e\"], [0.4444444444444444, \"#bd3786\"], [0.5555555555555556, \"#d8576b\"], [0.6666666666666666, \"#ed7953\"], [0.7777777777777778, \"#fb9f3a\"], [0.8888888888888888, \"#fdca26\"], [1.0, \"#f0f921\"]], \"type\": \"contour\"}], \"contourcarpet\": [{\"colorbar\": {\"outlinewidth\": 0, \"ticks\": \"\"}, \"type\": \"contourcarpet\"}], \"heatmap\": [{\"colorbar\": {\"outlinewidth\": 0, \"ticks\": \"\"}, \"colorscale\": [[0.0, \"#0d0887\"], [0.1111111111111111, \"#46039f\"], [0.2222222222222222, \"#7201a8\"], [0.3333333333333333, \"#9c179e\"], [0.4444444444444444, \"#bd3786\"], [0.5555555555555556, \"#d8576b\"], [0.6666666666666666, \"#ed7953\"], [0.7777777777777778, \"#fb9f3a\"], [0.8888888888888888, \"#fdca26\"], [1.0, \"#f0f921\"]], \"type\": \"heatmap\"}], \"heatmapgl\": [{\"colorbar\": {\"outlinewidth\": 0, \"ticks\": \"\"}, \"colorscale\": [[0.0, \"#0d0887\"], [0.1111111111111111, \"#46039f\"], [0.2222222222222222, \"#7201a8\"], [0.3333333333333333, \"#9c179e\"], [0.4444444444444444, \"#bd3786\"], [0.5555555555555556, \"#d8576b\"], [0.6666666666666666, \"#ed7953\"], [0.7777777777777778, \"#fb9f3a\"], [0.8888888888888888, \"#fdca26\"], [1.0, \"#f0f921\"]], \"type\": \"heatmapgl\"}], \"histogram\": [{\"marker\": {\"colorbar\": {\"outlinewidth\": 0, \"ticks\": \"\"}}, \"type\": \"histogram\"}], \"histogram2d\": [{\"colorbar\": {\"outlinewidth\": 0, \"ticks\": \"\"}, \"colorscale\": [[0.0, \"#0d0887\"], [0.1111111111111111, \"#46039f\"], [0.2222222222222222, \"#7201a8\"], [0.3333333333333333, \"#9c179e\"], [0.4444444444444444, \"#bd3786\"], [0.5555555555555556, \"#d8576b\"], [0.6666666666666666, \"#ed7953\"], [0.7777777777777778, \"#fb9f3a\"], [0.8888888888888888, \"#fdca26\"], [1.0, \"#f0f921\"]], \"type\": \"histogram2d\"}], \"histogram2dcontour\": [{\"colorbar\": {\"outlinewidth\": 0, \"ticks\": \"\"}, \"colorscale\": [[0.0, \"#0d0887\"], [0.1111111111111111, \"#46039f\"], [0.2222222222222222, \"#7201a8\"], [0.3333333333333333, \"#9c179e\"], [0.4444444444444444, \"#bd3786\"], [0.5555555555555556, \"#d8576b\"], [0.6666666666666666, \"#ed7953\"], [0.7777777777777778, \"#fb9f3a\"], [0.8888888888888888, \"#fdca26\"], [1.0, \"#f0f921\"]], \"type\": \"histogram2dcontour\"}], \"mesh3d\": [{\"colorbar\": {\"outlinewidth\": 0, \"ticks\": \"\"}, \"type\": \"mesh3d\"}], \"parcoords\": [{\"line\": {\"colorbar\": {\"outlinewidth\": 0, \"ticks\": \"\"}}, \"type\": \"parcoords\"}], \"pie\": [{\"automargin\": true, \"type\": \"pie\"}], \"scatter\": [{\"marker\": {\"colorbar\": {\"outlinewidth\": 0, \"ticks\": \"\"}}, \"type\": \"scatter\"}], \"scatter3d\": [{\"line\": {\"colorbar\": {\"outlinewidth\": 0, \"ticks\": \"\"}}, \"marker\": {\"colorbar\": {\"outlinewidth\": 0, \"ticks\": \"\"}}, \"type\": \"scatter3d\"}], \"scattercarpet\": [{\"marker\": {\"colorbar\": {\"outlinewidth\": 0, \"ticks\": \"\"}}, \"type\": \"scattercarpet\"}], \"scattergeo\": [{\"marker\": {\"colorbar\": {\"outlinewidth\": 0, \"ticks\": \"\"}}, \"type\": \"scattergeo\"}], \"scattergl\": [{\"marker\": {\"colorbar\": {\"outlinewidth\": 0, \"ticks\": \"\"}}, \"type\": \"scattergl\"}], \"scattermapbox\": [{\"marker\": {\"colorbar\": {\"outlinewidth\": 0, \"ticks\": \"\"}}, \"type\": \"scattermapbox\"}], \"scatterpolar\": [{\"marker\": {\"colorbar\": {\"outlinewidth\": 0, \"ticks\": \"\"}}, \"type\": \"scatterpolar\"}], \"scatterpolargl\": [{\"marker\": {\"colorbar\": {\"outlinewidth\": 0, \"ticks\": \"\"}}, \"type\": \"scatterpolargl\"}], \"scatterternary\": [{\"marker\": {\"colorbar\": {\"outlinewidth\": 0, \"ticks\": \"\"}}, \"type\": \"scatterternary\"}], \"surface\": [{\"colorbar\": {\"outlinewidth\": 0, \"ticks\": \"\"}, \"colorscale\": [[0.0, \"#0d0887\"], [0.1111111111111111, \"#46039f\"], [0.2222222222222222, \"#7201a8\"], [0.3333333333333333, \"#9c179e\"], [0.4444444444444444, \"#bd3786\"], [0.5555555555555556, \"#d8576b\"], [0.6666666666666666, \"#ed7953\"], [0.7777777777777778, \"#fb9f3a\"], [0.8888888888888888, \"#fdca26\"], [1.0, \"#f0f921\"]], \"type\": \"surface\"}], \"table\": [{\"cells\": {\"fill\": {\"color\": \"#EBF0F8\"}, \"line\": {\"color\": \"white\"}}, \"header\": {\"fill\": {\"color\": \"#C8D4E3\"}, \"line\": {\"color\": \"white\"}}, \"type\": \"table\"}]}, \"layout\": {\"annotationdefaults\": {\"arrowcolor\": \"#2a3f5f\", \"arrowhead\": 0, \"arrowwidth\": 1}, \"coloraxis\": {\"colorbar\": {\"outlinewidth\": 0, \"ticks\": \"\"}}, \"colorscale\": {\"diverging\": [[0, \"#8e0152\"], [0.1, \"#c51b7d\"], [0.2, \"#de77ae\"], [0.3, \"#f1b6da\"], [0.4, \"#fde0ef\"], [0.5, \"#f7f7f7\"], [0.6, \"#e6f5d0\"], [0.7, \"#b8e186\"], [0.8, \"#7fbc41\"], [0.9, \"#4d9221\"], [1, \"#276419\"]], \"sequential\": [[0.0, \"#0d0887\"], [0.1111111111111111, \"#46039f\"], [0.2222222222222222, \"#7201a8\"], [0.3333333333333333, \"#9c179e\"], [0.4444444444444444, \"#bd3786\"], [0.5555555555555556, \"#d8576b\"], [0.6666666666666666, \"#ed7953\"], [0.7777777777777778, \"#fb9f3a\"], [0.8888888888888888, \"#fdca26\"], [1.0, \"#f0f921\"]], \"sequentialminus\": [[0.0, \"#0d0887\"], [0.1111111111111111, \"#46039f\"], [0.2222222222222222, \"#7201a8\"], [0.3333333333333333, \"#9c179e\"], [0.4444444444444444, \"#bd3786\"], [0.5555555555555556, \"#d8576b\"], [0.6666666666666666, \"#ed7953\"], [0.7777777777777778, \"#fb9f3a\"], [0.8888888888888888, \"#fdca26\"], [1.0, \"#f0f921\"]]}, \"colorway\": [\"#636efa\", \"#EF553B\", \"#00cc96\", \"#ab63fa\", \"#FFA15A\", \"#19d3f3\", \"#FF6692\", \"#B6E880\", \"#FF97FF\", \"#FECB52\"], \"font\": {\"color\": \"#2a3f5f\"}, \"geo\": {\"bgcolor\": \"white\", \"lakecolor\": \"white\", \"landcolor\": \"#E5ECF6\", \"showlakes\": true, \"showland\": true, \"subunitcolor\": \"white\"}, \"hoverlabel\": {\"align\": \"left\"}, \"hovermode\": \"closest\", \"mapbox\": {\"style\": \"light\"}, \"paper_bgcolor\": \"white\", \"plot_bgcolor\": \"#E5ECF6\", \"polar\": {\"angularaxis\": {\"gridcolor\": \"white\", \"linecolor\": \"white\", \"ticks\": \"\"}, \"bgcolor\": \"#E5ECF6\", \"radialaxis\": {\"gridcolor\": \"white\", \"linecolor\": \"white\", \"ticks\": \"\"}}, \"scene\": {\"xaxis\": {\"backgroundcolor\": \"#E5ECF6\", \"gridcolor\": \"white\", \"gridwidth\": 2, \"linecolor\": \"white\", \"showbackground\": true, \"ticks\": \"\", \"zerolinecolor\": \"white\"}, \"yaxis\": {\"backgroundcolor\": \"#E5ECF6\", \"gridcolor\": \"white\", \"gridwidth\": 2, \"linecolor\": \"white\", \"showbackground\": true, \"ticks\": \"\", \"zerolinecolor\": \"white\"}, \"zaxis\": {\"backgroundcolor\": \"#E5ECF6\", \"gridcolor\": \"white\", \"gridwidth\": 2, \"linecolor\": \"white\", \"showbackground\": true, \"ticks\": \"\", \"zerolinecolor\": \"white\"}}, \"shapedefaults\": {\"line\": {\"color\": \"#2a3f5f\"}}, \"ternary\": {\"aaxis\": {\"gridcolor\": \"white\", \"linecolor\": \"white\", \"ticks\": \"\"}, \"baxis\": {\"gridcolor\": \"white\", \"linecolor\": \"white\", \"ticks\": \"\"}, \"bgcolor\": \"#E5ECF6\", \"caxis\": {\"gridcolor\": \"white\", \"linecolor\": \"white\", \"ticks\": \"\"}}, \"title\": {\"x\": 0.05}, \"xaxis\": {\"automargin\": true, \"gridcolor\": \"white\", \"linecolor\": \"white\", \"ticks\": \"\", \"title\": {\"standoff\": 15}, \"zerolinecolor\": \"white\", \"zerolinewidth\": 2}, \"yaxis\": {\"automargin\": true, \"gridcolor\": \"white\", \"linecolor\": \"white\", \"ticks\": \"\", \"title\": {\"standoff\": 15}, \"zerolinecolor\": \"white\", \"zerolinewidth\": 2}}}, \"title\": {\"text\": \"Original Data vs. RNN\"}, \"xaxis\": {\"title\": {\"text\": \"Epoch\"}}, \"yaxis\": {\"title\": {\"text\": \"Stock\"}}},                        {\"responsive\": true}                    ).then(function(){\n",
       "                            \n",
       "var gd = document.getElementById('f1f7553c-6c41-400c-a682-6a463023cc03');\n",
       "var x = new MutationObserver(function (mutations, observer) {{\n",
       "        var display = window.getComputedStyle(gd).display;\n",
       "        if (!display || display === 'none') {{\n",
       "            console.log([gd, 'removed!']);\n",
       "            Plotly.purge(gd);\n",
       "            observer.disconnect();\n",
       "        }}\n",
       "}});\n",
       "\n",
       "// Listen for the removal of the full notebook cells\n",
       "var notebookContainer = gd.closest('#notebook-container');\n",
       "if (notebookContainer) {{\n",
       "    x.observe(notebookContainer, {childList: true});\n",
       "}}\n",
       "\n",
       "// Listen for the clearing of the current output cell\n",
       "var outputEl = gd.closest('.output');\n",
       "if (outputEl) {{\n",
       "    x.observe(outputEl, {childList: true});\n",
       "}}\n",
       "\n",
       "                        })                };                });            </script>        </div>"
      ]
     },
     "metadata": {},
     "output_type": "display_data"
    }
   ],
   "source": [
    "import plotly.graph_objects as go\n",
    "\n",
    "# Create random data with numpy\n",
    "import numpy as np\n",
    "np.random.seed(1)\n",
    "\n",
    "new_original = []\n",
    "new_pred = []\n",
    "for i in range(len(original.values)):\n",
    "    new_original.append(original.values[i][0])\n",
    "for i in range(len(original.values)):\n",
    "    new_pred.append(predict.values[i][0])\n",
    "new_original = np.array(new_original)\n",
    "new_pred = np.array(new_pred)\n",
    "\n",
    "# Create traces\n",
    "fig = go.Figure()\n",
    "fig.add_trace(go.Scatter(x=original.index, y=new_original,\n",
    "                    mode='lines',\n",
    "                    name='Original'))\n",
    "fig.add_trace(go.Scatter(x=original.index, y=new_pred,\n",
    "                    mode='lines',\n",
    "                    name='RNN'))\n",
    "fig.update_layout(title='Original Data vs. RNN',\n",
    "                   xaxis_title='Epoch',\n",
    "                   yaxis_title='Stock')\n",
    "\n",
    "fig.show()"
   ]
  },
  {
   "cell_type": "code",
   "execution_count": 44,
   "metadata": {},
   "outputs": [
    {
     "name": "stdout",
     "output_type": "stream",
     "text": [
      "<class 'torch.Tensor'>\n"
     ]
    }
   ],
   "source": [
    "from sklearn.metrics import mean_squared_error\n",
    "import plotly.express as px\n",
    "import plotly.graph_objects as go\n",
    "\n",
    "# make predictions\n",
    "y_test_pred = model(x_test)\n",
    "#\n",
    "print(type(y_train))\n",
    "#\n",
    "# invert predictions\n",
    "y_train_pred = scaler.inverse_transform(y_pred.detach().numpy())\n",
    "y_train = scaler.inverse_transform(y_train.detach().numpy())\n",
    "y_test_pred = scaler.inverse_transform(y_test_pred.detach().numpy())\n",
    "y_test = scaler.inverse_transform(y_test.detach().numpy())"
   ]
  },
  {
   "cell_type": "code",
   "execution_count": 45,
   "metadata": {},
   "outputs": [
    {
     "ename": "NameError",
     "evalue": "name 'fut_pred' is not defined",
     "output_type": "error",
     "traceback": [
      "\u001b[0;31m---------------------------------------------------------------------------\u001b[0m",
      "\u001b[0;31mNameError\u001b[0m                                 Traceback (most recent call last)",
      "\u001b[0;32m<ipython-input-45-c2671238dd4c>\u001b[0m in \u001b[0;36m<module>\u001b[0;34m\u001b[0m\n\u001b[1;32m      1\u001b[0m \u001b[0mmodel\u001b[0m\u001b[0;34m.\u001b[0m\u001b[0meval\u001b[0m\u001b[0;34m(\u001b[0m\u001b[0;34m)\u001b[0m\u001b[0;34m\u001b[0m\u001b[0;34m\u001b[0m\u001b[0m\n\u001b[1;32m      2\u001b[0m \u001b[0;34m\u001b[0m\u001b[0m\n\u001b[0;32m----> 3\u001b[0;31m \u001b[0;32mfor\u001b[0m \u001b[0mi\u001b[0m \u001b[0;32min\u001b[0m \u001b[0mrange\u001b[0m\u001b[0;34m(\u001b[0m\u001b[0mfut_pred\u001b[0m\u001b[0;34m)\u001b[0m\u001b[0;34m:\u001b[0m\u001b[0;34m\u001b[0m\u001b[0;34m\u001b[0m\u001b[0m\n\u001b[0m\u001b[1;32m      4\u001b[0m     \u001b[0mseq\u001b[0m \u001b[0;34m=\u001b[0m \u001b[0mtorch\u001b[0m\u001b[0;34m.\u001b[0m\u001b[0mFloatTensor\u001b[0m\u001b[0;34m(\u001b[0m\u001b[0mtest_inputs\u001b[0m\u001b[0;34m[\u001b[0m\u001b[0;34m-\u001b[0m\u001b[0mtrain_window\u001b[0m\u001b[0;34m:\u001b[0m\u001b[0;34m]\u001b[0m\u001b[0;34m)\u001b[0m\u001b[0;34m\u001b[0m\u001b[0;34m\u001b[0m\u001b[0m\n\u001b[1;32m      5\u001b[0m     \u001b[0;32mwith\u001b[0m \u001b[0mtorch\u001b[0m\u001b[0;34m.\u001b[0m\u001b[0mno_grad\u001b[0m\u001b[0;34m(\u001b[0m\u001b[0;34m)\u001b[0m\u001b[0;34m:\u001b[0m\u001b[0;34m\u001b[0m\u001b[0;34m\u001b[0m\u001b[0m\n",
      "\u001b[0;31mNameError\u001b[0m: name 'fut_pred' is not defined"
     ]
    }
   ],
   "source": [
    "model.eval()\n",
    "\n",
    "for i in range(fut_pred):\n",
    "    seq = torch.FloatTensor(test_inputs[-train_window:])\n",
    "    with torch.no_grad():\n",
    "        model.hidden = (torch.zeros(1, 1, model.hidden_layer_size),\n",
    "                        torch.zeros(1, 1, model.hidden_layer_size))\n",
    "        test_inputs.append(model(seq).item())"
   ]
  },
  {
   "cell_type": "code",
   "execution_count": null,
   "metadata": {},
   "outputs": [],
   "source": [
    "actual_predictions = scaler.inverse_transform(np.array(test_inputs).reshape(-1, 1))"
   ]
  },
  {
   "cell_type": "code",
   "execution_count": 16,
   "metadata": {},
   "outputs": [
    {
     "ename": "NameError",
     "evalue": "name 'split' is not defined",
     "output_type": "error",
     "traceback": [
      "\u001b[0;31m---------------------------------------------------------------------------\u001b[0m",
      "\u001b[0;31mNameError\u001b[0m                                 Traceback (most recent call last)",
      "\u001b[0;32m<ipython-input-16-30bb060a79f7>\u001b[0m in \u001b[0;36m<module>\u001b[0;34m\u001b[0m\n\u001b[0;32m----> 1\u001b[0;31m \u001b[0mx\u001b[0m \u001b[0;34m=\u001b[0m \u001b[0mnp\u001b[0m\u001b[0;34m.\u001b[0m\u001b[0marange\u001b[0m\u001b[0;34m(\u001b[0m\u001b[0msplit\u001b[0m\u001b[0;34m-\u001b[0m\u001b[0mtrain_window\u001b[0m\u001b[0;34m,\u001b[0m \u001b[0msplit\u001b[0m\u001b[0;34m+\u001b[0m\u001b[0mtrain_window\u001b[0m\u001b[0;34m,\u001b[0m \u001b[0;36m1\u001b[0m\u001b[0;34m)\u001b[0m\u001b[0;34m\u001b[0m\u001b[0;34m\u001b[0m\u001b[0m\n\u001b[0m\u001b[1;32m      2\u001b[0m \u001b[0;34m\u001b[0m\u001b[0m\n\u001b[1;32m      3\u001b[0m \u001b[0mfig\u001b[0m\u001b[0;34m,\u001b[0m \u001b[0max\u001b[0m \u001b[0;34m=\u001b[0m \u001b[0mplt\u001b[0m\u001b[0;34m.\u001b[0m\u001b[0msubplots\u001b[0m\u001b[0;34m(\u001b[0m\u001b[0mfigsize\u001b[0m\u001b[0;34m=\u001b[0m\u001b[0;34m[\u001b[0m\u001b[0;36m20\u001b[0m\u001b[0;34m,\u001b[0m\u001b[0;36m12\u001b[0m\u001b[0;34m]\u001b[0m\u001b[0;34m)\u001b[0m\u001b[0;34m\u001b[0m\u001b[0;34m\u001b[0m\u001b[0m\n\u001b[1;32m      4\u001b[0m \u001b[0mplt\u001b[0m\u001b[0;34m.\u001b[0m\u001b[0mplot\u001b[0m\u001b[0;34m(\u001b[0m\u001b[0mmid_prices\u001b[0m\u001b[0;34m)\u001b[0m\u001b[0;34m\u001b[0m\u001b[0;34m\u001b[0m\u001b[0m\n\u001b[1;32m      5\u001b[0m \u001b[0mplt\u001b[0m\u001b[0;34m.\u001b[0m\u001b[0mplot\u001b[0m\u001b[0;34m(\u001b[0m\u001b[0mx\u001b[0m\u001b[0;34m,\u001b[0m\u001b[0mactual_predictions\u001b[0m\u001b[0;34m,\u001b[0m \u001b[0mls\u001b[0m\u001b[0;34m=\u001b[0m\u001b[0;34m'--'\u001b[0m\u001b[0;34m)\u001b[0m\u001b[0;34m\u001b[0m\u001b[0;34m\u001b[0m\u001b[0m\n",
      "\u001b[0;31mNameError\u001b[0m: name 'split' is not defined"
     ]
    }
   ],
   "source": [
    "x = np.arange(split-train_window, split+train_window, 1)\n",
    "\n",
    "fig, ax = plt.subplots(figsize=[20,12])\n",
    "plt.plot(mid_prices)\n",
    "plt.plot(x,actual_predictions, ls='--')"
   ]
  },
  {
   "cell_type": "code",
   "execution_count": 17,
   "metadata": {},
   "outputs": [
    {
     "name": "stdout",
     "output_type": "stream",
     "text": [
      "(253,)\n",
      "(253,)\n",
      "[[104.53407547]\n",
      " [104.60267194]\n",
      " [102.5906333 ]\n",
      " [101.0587383 ]\n",
      " [ 97.81963848]\n",
      " [ 98.20835603]\n",
      " [ 99.40489965]\n",
      " [100.4947489 ]\n",
      " [ 98.53605112]\n",
      " [100.15939753]\n",
      " [ 98.33788636]\n",
      " [ 97.97970535]\n",
      " [ 98.0787814 ]\n",
      " [ 97.70533213]\n",
      " [101.60747208]\n",
      " [100.09844468]\n",
      " [100.51761017]\n",
      " [ 95.51036535]\n",
      " [ 96.02100757]\n",
      " [ 98.49794689]\n",
      " [ 97.80440818]\n",
      " [ 96.31824838]\n",
      " [ 97.74343636]\n",
      " [ 98.3334571 ]\n",
      " [ 96.35647283]\n",
      " [ 97.11508359]\n",
      " [ 97.09977103]\n",
      " [ 96.54805067]\n",
      " [ 96.11128206]\n",
      " [ 96.333504  ]\n",
      " [ 98.3641012 ]\n",
      " [ 99.49820502]\n",
      " [ 98.07292213]\n",
      " [ 97.90434478]\n",
      " [ 98.54802276]\n",
      " [ 96.86988016]\n",
      " [ 97.95032675]\n",
      " [ 98.45606514]\n",
      " [ 98.57099792]\n",
      " [ 98.40243955]\n",
      " [101.3449313 ]\n",
      " [101.513496  ]\n",
      " [102.08819153]\n",
      " [103.24526418]\n",
      " [102.3717333 ]\n",
      " [101.728049  ]\n",
      " [101.79701879]\n",
      " [101.83533182]\n",
      " [102.67056865]\n",
      " [102.86979011]\n",
      " [104.44831881]\n",
      " [105.51344018]\n",
      " [105.3831632 ]\n",
      " [105.47511449]\n",
      " [105.46747086]\n",
      " [106.08814204]\n",
      " [105.63604189]\n",
      " [105.28355564]\n",
      " [104.91572519]\n",
      " [106.82375232]\n",
      " [108.26436042]\n",
      " [107.82758549]\n",
      " [108.5938462 ]\n",
      " [109.45973978]\n",
      " [108.4559256 ]\n",
      " [109.33715072]\n",
      " [107.48275551]\n",
      " [107.5747068 ]\n",
      " [107.85056698]\n",
      " [108.93868883]\n",
      " [110.16471862]\n",
      " [110.2106816 ]\n",
      " [108.48658235]\n",
      " [106.6705065 ]\n",
      " [106.23373157]\n",
      " [106.4023026 ]\n",
      " [105.51344018]\n",
      " [105.2912309 ]\n",
      " [104.83145549]\n",
      " [104.27205986]\n",
      " [ 99.26830782]\n",
      " [ 96.97716299]\n",
      " [ 96.14192616]\n",
      " [ 96.06530009]\n",
      " [ 97.24535424]\n",
      " [ 96.48674348]\n",
      " [ 96.19379904]\n",
      " [ 95.79289473]\n",
      " [ 95.84686201]\n",
      " [ 96.33254854]\n",
      " [ 95.63100554]\n",
      " [ 93.9580515 ]\n",
      " [ 94.09683264]\n",
      " [ 96.68718615]\n",
      " [ 96.38652848]\n",
      " [ 97.21141984]\n",
      " [ 96.93387654]\n",
      " [ 97.72023973]\n",
      " [ 98.6530783 ]\n",
      " [ 99.78636587]\n",
      " [101.11238288]\n",
      " [101.72141144]\n",
      " [101.67515739]\n",
      " [101.29739909]\n",
      " [100.21809778]\n",
      " [ 99.64760371]\n",
      " [ 99.80177967]\n",
      " [100.34913406]\n",
      " [100.65752394]\n",
      " [100.5881302 ]\n",
      " [101.1355099 ]\n",
      " [100.50334165]\n",
      " [ 99.35462763]\n",
      " [ 99.44714206]\n",
      " [ 99.20045167]\n",
      " [ 99.51654845]\n",
      " [ 97.80505359]\n",
      " [ 97.62773795]\n",
      " [ 98.25218664]\n",
      " [ 97.97466866]\n",
      " [ 98.39867468]\n",
      " [ 96.3171474 ]\n",
      " [ 95.26866104]\n",
      " [ 96.46361013]\n",
      " [ 97.08805882]\n",
      " [ 98.01320315]\n",
      " [ 98.23677284]\n",
      " [ 97.54293674]\n",
      " [ 97.95922322]\n",
      " [ 98.27532   ]\n",
      " [ 98.84582672]\n",
      " [ 99.07710964]\n",
      " [ 99.41630814]\n",
      " [ 98.99230844]\n",
      " [100.47251405]\n",
      " [100.46478817]\n",
      " [101.27427206]\n",
      " [101.30509966]\n",
      " [101.37449972]\n",
      " [100.96590116]\n",
      " [100.37229272]\n",
      " [ 99.35462763]\n",
      " [ 98.8381135 ]\n",
      " [103.67959037]\n",
      " [104.75119743]\n",
      " [104.65096977]\n",
      " [106.06950121]\n",
      " [104.85913199]\n",
      " [105.86904589]\n",
      " [106.37289236]\n",
      " [107.62082164]\n",
      " [108.31066509]\n",
      " [108.65171122]\n",
      " [108.02388364]\n",
      " [107.96961896]\n",
      " [108.16340509]\n",
      " [109.17106007]\n",
      " [109.09354183]\n",
      " [108.9695101 ]\n",
      " [108.86100606]\n",
      " [109.0780521 ]\n",
      " [108.41917545]\n",
      " [108.68270966]\n",
      " [108.04713088]\n",
      " [107.69058237]\n",
      " [107.2022636 ]\n",
      " [107.10924929]\n",
      " [106.47364521]\n",
      " [106.55114447]\n",
      " [107.03948223]\n",
      " [107.81460145]\n",
      " [107.79134154]\n",
      " [108.30290757]\n",
      " [106.10160064]\n",
      " [104.24906571]\n",
      " [106.03959743]\n",
      " [107.98512135]\n",
      " [110.94605777]\n",
      " [113.89149813]\n",
      " [113.38767064]\n",
      " [112.34902355]\n",
      " [112.34124704]\n",
      " [112.32575099]\n",
      " [113.1551412 ]\n",
      " [111.6746635 ]\n",
      " [111.80642744]\n",
      " [111.96921513]\n",
      " [112.63581766]\n",
      " [111.26385665]\n",
      " [111.93821036]\n",
      " [111.52738452]\n",
      " [111.89944807]\n",
      " [111.93821036]\n",
      " [112.58929785]\n",
      " [112.72107444]\n",
      " [114.26356168]\n",
      " [114.4573225 ]\n",
      " [115.26344649]\n",
      " [114.98440357]\n",
      " [115.4882184 ]\n",
      " [115.42622152]\n",
      " [115.36421198]\n",
      " [115.09292026]\n",
      " [115.04641311]\n",
      " [114.68986459]\n",
      " [115.50372711]\n",
      " [115.96879232]\n",
      " [113.90700051]\n",
      " [113.04662451]\n",
      " [112.45753391]\n",
      " [112.31800612]\n",
      " [110.72901806]\n",
      " [110.80652998]\n",
      " [109.8794178 ]\n",
      " [109.10810141]\n",
      " [110.33129015]\n",
      " [110.83770559]\n",
      " [110.69746913]\n",
      " [108.29006907]\n",
      " [108.78868902]\n",
      " [106.66955738]\n",
      " [107.76029248]\n",
      " [110.00407595]\n",
      " [109.97290034]\n",
      " [110.05860638]\n",
      " [111.35970567]\n",
      " [111.41422977]\n",
      " [110.9701529 ]\n",
      " [111.40644062]\n",
      " [111.23505385]\n",
      " [111.14933515]\n",
      " [110.41698354]\n",
      " [109.61452951]\n",
      " [109.93394822]\n",
      " [109.3184656 ]\n",
      " [109.97290034]\n",
      " [110.81433179]\n",
      " [111.66353342]\n",
      " [113.0892972 ]\n",
      " [112.5828691 ]\n",
      " [114.05536782]\n",
      " [114.05536782]\n",
      " [114.54618597]\n",
      " [114.66304863]\n",
      " [115.18504871]\n",
      " [115.42656953]\n",
      " [115.51226925]\n",
      " [114.91235228]\n",
      " [115.09154719]\n",
      " [115.66808403]\n",
      " [115.27854391]\n",
      " [115.25516378]\n",
      " [114.54618597]]\n"
     ]
    },
    {
     "ename": "ValueError",
     "evalue": "all the input arrays must have same number of dimensions, but the array at index 0 has 1 dimension(s) and the array at index 1 has 2 dimension(s)",
     "output_type": "error",
     "traceback": [
      "\u001b[0;31m---------------------------------------------------------------------------\u001b[0m",
      "\u001b[0;31mValueError\u001b[0m                                Traceback (most recent call last)",
      "\u001b[0;32m<ipython-input-17-9991fa27e7f0>\u001b[0m in \u001b[0;36m<module>\u001b[0;34m\u001b[0m\n\u001b[1;32m     15\u001b[0m \u001b[0mprint\u001b[0m\u001b[0;34m(\u001b[0m\u001b[0moriginal\u001b[0m\u001b[0;34m)\u001b[0m\u001b[0;34m\u001b[0m\u001b[0;34m\u001b[0m\u001b[0m\n\u001b[1;32m     16\u001b[0m \u001b[0mpredictions\u001b[0m \u001b[0;34m=\u001b[0m \u001b[0mnp\u001b[0m\u001b[0;34m.\u001b[0m\u001b[0mappend\u001b[0m\u001b[0;34m(\u001b[0m\u001b[0mtrainPredictPlot\u001b[0m\u001b[0;34m,\u001b[0m \u001b[0mtestPredictPlot\u001b[0m\u001b[0;34m,\u001b[0m \u001b[0maxis\u001b[0m\u001b[0;34m=\u001b[0m\u001b[0;36m0\u001b[0m\u001b[0;34m)\u001b[0m\u001b[0;34m\u001b[0m\u001b[0;34m\u001b[0m\u001b[0m\n\u001b[0;32m---> 17\u001b[0;31m \u001b[0mpredictions\u001b[0m \u001b[0;34m=\u001b[0m \u001b[0mnp\u001b[0m\u001b[0;34m.\u001b[0m\u001b[0mappend\u001b[0m\u001b[0;34m(\u001b[0m\u001b[0mpredictions\u001b[0m\u001b[0;34m,\u001b[0m \u001b[0moriginal\u001b[0m\u001b[0;34m,\u001b[0m \u001b[0maxis\u001b[0m\u001b[0;34m=\u001b[0m\u001b[0;36m0\u001b[0m\u001b[0;34m)\u001b[0m\u001b[0;34m\u001b[0m\u001b[0;34m\u001b[0m\u001b[0m\n\u001b[0m\u001b[1;32m     18\u001b[0m \u001b[0mresult\u001b[0m \u001b[0;34m=\u001b[0m \u001b[0mpd\u001b[0m\u001b[0;34m.\u001b[0m\u001b[0mDataFrame\u001b[0m\u001b[0;34m(\u001b[0m\u001b[0mpredictions\u001b[0m\u001b[0;34m)\u001b[0m\u001b[0;34m\u001b[0m\u001b[0;34m\u001b[0m\u001b[0m\n\u001b[1;32m     19\u001b[0m \u001b[0;34m\u001b[0m\u001b[0m\n",
      "\u001b[0;32m<__array_function__ internals>\u001b[0m in \u001b[0;36mappend\u001b[0;34m(*args, **kwargs)\u001b[0m\n",
      "\u001b[0;32m~/anaconda3/lib/python3.7/site-packages/numpy/lib/function_base.py\u001b[0m in \u001b[0;36mappend\u001b[0;34m(arr, values, axis)\u001b[0m\n\u001b[1;32m   4698\u001b[0m         \u001b[0mvalues\u001b[0m \u001b[0;34m=\u001b[0m \u001b[0mravel\u001b[0m\u001b[0;34m(\u001b[0m\u001b[0mvalues\u001b[0m\u001b[0;34m)\u001b[0m\u001b[0;34m\u001b[0m\u001b[0;34m\u001b[0m\u001b[0m\n\u001b[1;32m   4699\u001b[0m         \u001b[0maxis\u001b[0m \u001b[0;34m=\u001b[0m \u001b[0marr\u001b[0m\u001b[0;34m.\u001b[0m\u001b[0mndim\u001b[0m\u001b[0;34m-\u001b[0m\u001b[0;36m1\u001b[0m\u001b[0;34m\u001b[0m\u001b[0;34m\u001b[0m\u001b[0m\n\u001b[0;32m-> 4700\u001b[0;31m     \u001b[0;32mreturn\u001b[0m \u001b[0mconcatenate\u001b[0m\u001b[0;34m(\u001b[0m\u001b[0;34m(\u001b[0m\u001b[0marr\u001b[0m\u001b[0;34m,\u001b[0m \u001b[0mvalues\u001b[0m\u001b[0;34m)\u001b[0m\u001b[0;34m,\u001b[0m \u001b[0maxis\u001b[0m\u001b[0;34m=\u001b[0m\u001b[0maxis\u001b[0m\u001b[0;34m)\u001b[0m\u001b[0;34m\u001b[0m\u001b[0;34m\u001b[0m\u001b[0m\n\u001b[0m\u001b[1;32m   4701\u001b[0m \u001b[0;34m\u001b[0m\u001b[0m\n\u001b[1;32m   4702\u001b[0m \u001b[0;34m\u001b[0m\u001b[0m\n",
      "\u001b[0;32m<__array_function__ internals>\u001b[0m in \u001b[0;36mconcatenate\u001b[0;34m(*args, **kwargs)\u001b[0m\n",
      "\u001b[0;31mValueError\u001b[0m: all the input arrays must have same number of dimensions, but the array at index 0 has 1 dimension(s) and the array at index 1 has 2 dimension(s)"
     ]
    }
   ],
   "source": [
    "# shift train predictions for plotting\n",
    "\n",
    "trainPredictPlot = np.empty_like(price)\n",
    "trainPredictPlot[:] = np.nan\n",
    "trainPredictPlot[train_window:len(y_train_pred)+train_window] = y_train_pred[0]\n",
    "\n",
    "# shift test predictions for plotting\n",
    "testPredictPlot = np.empty_like(price)\n",
    "testPredictPlot[:] = np.nan\n",
    "testPredictPlot[len(y_train_pred)+train_window-1:len(price)-1] = y_test_pred[0]\n",
    "\n",
    "original = scaler.inverse_transform(price.values.reshape(-1,1))\n",
    "print(testPredictPlot.shape)\n",
    "print(trainPredictPlot.shape)\n",
    "print(original)\n",
    "predictions = np.append(trainPredictPlot, testPredictPlot, axis=0)\n",
    "predictions = np.append(predictions, original, axis=0)\n",
    "result = pd.DataFrame(predictions)\n",
    "\n",
    "fig = go.Figure()\n",
    "fig.add_trace(go.Scatter(go.Scatter(x=result.index, y=result[0],\n",
    "                    mode='lines',\n",
    "                    name='Train prediction')))\n",
    "fig.add_trace(go.Scatter(x=result.index, y=result[1],\n",
    "                    mode='lines',\n",
    "                    name='Test prediction'))\n",
    "fig.add_trace(go.Scatter(go.Scatter(x=result.index, y=result[2],\n",
    "                    mode='lines',\n",
    "                    name='Actual Value')))\n",
    "fig.show()"
   ]
  },
  {
   "cell_type": "code",
   "execution_count": null,
   "metadata": {},
   "outputs": [],
   "source": []
  }
 ],
 "metadata": {
  "kernelspec": {
   "display_name": "Python 3",
   "language": "python",
   "name": "python3"
  },
  "language_info": {
   "codemirror_mode": {
    "name": "ipython",
    "version": 3
   },
   "file_extension": ".py",
   "mimetype": "text/x-python",
   "name": "python",
   "nbconvert_exporter": "python",
   "pygments_lexer": "ipython3",
   "version": "3.7.4"
  }
 },
 "nbformat": 4,
 "nbformat_minor": 2
}

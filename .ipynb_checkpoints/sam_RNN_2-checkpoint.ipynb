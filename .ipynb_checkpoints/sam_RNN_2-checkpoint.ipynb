{
 "cells": [
  {
   "cell_type": "code",
   "execution_count": 21,
   "metadata": {},
   "outputs": [],
   "source": [
    "import yfinance as yf\n",
    "import numpy as np \n",
    "import pandas as pd\n",
    "import matplotlib\n",
    "import mplfinance as mpf\n",
    "import matplotlib.pylab as plt\n",
    "import matplotlib.dates as mdates\n",
    "import scipy.stats as stats\n",
    "from datetime import datetime, timedelta\n",
    "import math\n",
    "import pickle\n",
    "import gzip\n",
    "%matplotlib inline\n",
    "\n",
    "# Test PyTorch installation\n",
    "import torch \n",
    "import torch.nn as nn\n",
    "import pytorch_lightning as pl\n",
    "from sklearn.preprocessing import MinMaxScaler\n",
    "import seaborn as sns"
   ]
  },
  {
   "cell_type": "markdown",
   "metadata": {},
   "source": [
    "### Basic single-LSTM Layer RNN: "
   ]
  },
  {
   "cell_type": "markdown",
   "metadata": {},
   "source": [
    "Initializes device, enables GPU if available."
   ]
  },
  {
   "cell_type": "code",
   "execution_count": 22,
   "metadata": {},
   "outputs": [
    {
     "name": "stdout",
     "output_type": "stream",
     "text": [
      "GPU not available, CPU used\n"
     ]
    }
   ],
   "source": [
    "# torch.cuda.is_available() checks and returns a Boolean True if a GPU is available, else it'll return False\n",
    "is_cuda = torch.cuda.is_available()\n",
    "\n",
    "# If we have a GPU available, we'll set our device to GPU. We'll use this device variable later in our code.\n",
    "if is_cuda:\n",
    "    device = torch.device(\"cuda\")\n",
    "    print(\"GPU is available\")\n",
    "else:\n",
    "    device = torch.device(\"cpu\")\n",
    "    print(\"GPU not available, CPU used\")"
   ]
  },
  {
   "cell_type": "code",
   "execution_count": 23,
   "metadata": {},
   "outputs": [],
   "source": [
    "# Get data and define price\n",
    "ticker = 'AAPL'\n",
    "startDate = '2015-12-31'\n",
    "endDate = '2016-12-31'\n",
    "\n",
    "df = yf.Ticker(ticker).history(start=startDate, end=endDate)\n",
    "del df['Dividends']\n",
    "del df['Stock Splits']\n",
    "price = df[\"Close\"]"
   ]
  },
  {
   "cell_type": "code",
   "execution_count": 24,
   "metadata": {},
   "outputs": [],
   "source": [
    "# make scaler and normalize data\n",
    "scaler = MinMaxScaler(feature_range=(-1,1))\n",
    "data_normalized = scaler.fit_transform(price.values.reshape(-1,1))"
   ]
  },
  {
   "cell_type": "code",
   "execution_count": 25,
   "metadata": {},
   "outputs": [],
   "source": [
    "# put data into sliding window format\n",
    "train_window = 20 # 20 days\n",
    "\n",
    "def sliding_window(data, train_window):\n",
    "    \"\"\"\n",
    "    Split Data into sliding window segemnts\n",
    "    \"\"\"\n",
    "    data_window = []\n",
    "    for i in range(len(data) - train_window):\n",
    "        data_window.append(data[i: i+ train_window])\n",
    "    return data_window\n",
    "sliding_data = sliding_window(data_normalized, train_window)"
   ]
  },
  {
   "cell_type": "code",
   "execution_count": 26,
   "metadata": {},
   "outputs": [],
   "source": [
    "# take sliding window and split it up into train/test data\n",
    "def split_data(data):\n",
    "    data = np.array(data) # convert to handle data nicer for splitting up training and testing\n",
    "    train_size = int(0.7*len(data))\n",
    "    test_size = int(0.3*len(data))\n",
    "    # print(data[:train_size,:-1])\n",
    "    \n",
    "    x_train = data[:train_size,:-1] # training data and x data\n",
    "    y_train = data[:train_size,-1] # training data and y label\n",
    "    \n",
    "    x_test = data[train_size:,:-1]\n",
    "    y_test = data[train_size:,-1]\n",
    "    \n",
    "    x_train = torch.from_numpy(x_train).type(torch.Tensor)\n",
    "    y_train = torch.from_numpy(y_train).type(torch.Tensor)\n",
    "    x_test = torch.from_numpy(x_test).type(torch.Tensor)\n",
    "    y_test = torch.from_numpy(y_test).type(torch.Tensor)\n",
    "    return x_train, y_train, x_test, y_test\n",
    "\n",
    "x_train, y_train, x_test, y_test = split_data(sliding_data)"
   ]
  },
  {
   "cell_type": "code",
   "execution_count": 27,
   "metadata": {},
   "outputs": [],
   "source": [
    "class LSTM(nn.Module):\n",
    "    ''' input_size: one price at a day\n",
    "        hidden_layer_size: # of hidden layers along w number of neurons in each layer\n",
    "        output_size: number of items in output (price at day)\n",
    "    '''\n",
    "    def __init__(self, input_layer_size = 1, hidden_layer_size = 10, num_layers = 3, output_layer_size = 1):\n",
    "        super(LSTM, self).__init__()\n",
    "        self.input_layer_size = input_layer_size\n",
    "        self.hidden_layer_size = hidden_layer_size\n",
    "        self.num_layers = num_layers\n",
    "        \n",
    "        self.lstm = nn.LSTM(input_layer_size, hidden_layer_size, num_layers,  batch_first = True)\n",
    "\n",
    "        self.linear = nn.Linear(hidden_layer_size, output_layer_size)\n",
    "\n",
    "#         self.hidden_cell = (torch.zeros(1,1,self.hidden_layer_size),\n",
    "#                             torch.zeros(1,1,self.hidden_layer_size))\n",
    "\n",
    "    def forward(self, input_data):\n",
    "        \"\"\"\n",
    "        h0 = inital hidden state, size of num of layers, a tenor of zeros with gradients\n",
    "        c0 = inital cell state of lstm, size of num of layers, a tensor of zeros with gradients\n",
    "        .requires_grad() = allows gradients and calculation of new gradients using backward()\n",
    "        \"\"\"\n",
    "        hidden_state = torch.zeros(self.num_layers, input_data.size(0), self.hidden_layer_size).requires_grad_()# inital hidden state\n",
    "        cell_state = torch.zeros(self.num_layers, input_data.size(0), self.hidden_layer_size).requires_grad_()# inital cell state\n",
    "        lstm_out, (hidden, cell) = self.lstm(input_data, (hidden_state.detach(), cell_state.detach()))\n",
    "        return self.linear(lstm_out[:, -1, :])"
   ]
  },
  {
   "cell_type": "code",
   "execution_count": 28,
   "metadata": {},
   "outputs": [],
   "source": [
    "\"\"\"\n",
    "Create model, loss function, optimization function\n",
    "\"\"\"\n",
    "model = LSTM(input_layer_size = 1, hidden_layer_size = 30, output_layer_size = 1,num_layers = 3)\n",
    "loss_function = nn.MSELoss()\n",
    "optimizer = torch.optim.Adam(model.parameters(), lr=0.01)"
   ]
  },
  {
   "cell_type": "code",
   "execution_count": 29,
   "metadata": {},
   "outputs": [
    {
     "name": "stdout",
     "output_type": "stream",
     "text": [
      "LSTM(\n",
      "  (lstm): LSTM(1, 30, num_layers=3, batch_first=True)\n",
      "  (linear): Linear(in_features=30, out_features=1, bias=True)\n",
      ")\n"
     ]
    }
   ],
   "source": [
    "print(model)"
   ]
  },
  {
   "cell_type": "code",
   "execution_count": 30,
   "metadata": {},
   "outputs": [
    {
     "name": "stdout",
     "output_type": "stream",
     "text": [
      "[0.27582228 0.20325986 0.19537702 0.19152121 0.17886361 0.17199162\n",
      " 0.16062176 0.13507012 0.12386069 0.10175637 0.09037943 0.0856467\n",
      " 0.07348969 0.07556532 0.06225456 0.05939294 0.04940503 0.04254463\n",
      " 0.04171474 0.03664119 0.03325877 0.03236854 0.02720326 0.02728287\n",
      " 0.02698835 0.02728234 0.0269431  0.02439811 0.02524714 0.0242892\n",
      " 0.023462   0.02295843 0.02166313 0.02158535 0.02145868 0.02028579\n",
      " 0.01993458 0.01949976 0.01878339 0.01880173 0.01830903 0.01787504\n",
      " 0.01776821 0.01716237 0.0170943  0.0166179  0.01629026 0.01589815\n",
      " 0.01536827 0.01511    0.01460371 0.01440391 0.01391551 0.01363793\n",
      " 0.01316573 0.01288411 0.01246512 0.01219725 0.01177383 0.01151503\n",
      " 0.01109162 0.01080486 0.01045095 0.01010066 0.00989348 0.00966195\n",
      " 0.00945767 0.00937947 0.00942909 0.00968942 0.01051699 0.01267142\n",
      " 0.01442654 0.01090226 0.00979873 0.01159007 0.00907943 0.01063433\n",
      " 0.00929807 0.00992368 0.00924771 0.00963648 0.00915038 0.00954601\n",
      " 0.00898462 0.00945424 0.00886845 0.00931025 0.00877461 0.00915328\n",
      " 0.0087204  0.00898699 0.00868976 0.00883327 0.00864543 0.00870085\n",
      " 0.00860609 0.00858882 0.00855633 0.00850286]\n",
      "epoch:  99 loss: 0.0085028559\n"
     ]
    }
   ],
   "source": [
    "epochs = 100\n",
    "loss_arr = []\n",
    "\n",
    "for i in range(epochs):\n",
    "    # model.hidden_cell = (torch.zeros(1, 1, model.hidden_layer_size), torch.zeros(1, 1, model.hidden_layer_size))\n",
    "    y_pred = model(x_train)\n",
    "\n",
    "    single_loss = loss_function(y_pred, y_train)\n",
    "    loss_arr.append(single_loss.item())\n",
    "    optimizer.zero_grad() # zero out gradients for new backprop \n",
    "    single_loss.backward()\n",
    "    optimizer.step()\n",
    "\n",
    "    #print(f'epoch: {i:3} loss: {single_loss.item():10.8f}')\n",
    "loss_arr = np.array(loss_arr)\n",
    "print(loss_arr)\n",
    "print(f'epoch: {i:3} loss: {single_loss.item():10.10f}')"
   ]
  },
  {
   "cell_type": "code",
   "execution_count": 31,
   "metadata": {},
   "outputs": [],
   "source": [
    "predict = pd.DataFrame(scaler.inverse_transform(y_pred.detach().numpy()), columns=['Predict'])\n",
    "original = pd.DataFrame(scaler.inverse_transform(y_train.detach().numpy()), columns=['Original'])"
   ]
  },
  {
   "cell_type": "code",
   "execution_count": 32,
   "metadata": {},
   "outputs": [
    {
     "data": {
      "application/vnd.plotly.v1+json": {
       "config": {
        "plotlyServerURL": "https://plotly.com"
       },
       "data": [
        {
         "hovertemplate": "index=%{x}<br>y=%{y}<extra></extra>",
         "legendgroup": "",
         "line": {
          "color": "#636efa",
          "dash": "solid"
         },
         "mode": "lines",
         "name": "",
         "orientation": "v",
         "showlegend": false,
         "type": "scatter",
         "x": [
          0,
          1,
          2,
          3,
          4,
          5,
          6,
          7,
          8,
          9,
          10,
          11,
          12,
          13,
          14,
          15,
          16,
          17,
          18,
          19,
          20,
          21,
          22,
          23,
          24,
          25,
          26,
          27,
          28,
          29,
          30,
          31,
          32,
          33,
          34,
          35,
          36,
          37,
          38,
          39,
          40,
          41,
          42,
          43,
          44,
          45,
          46,
          47,
          48,
          49,
          50,
          51,
          52,
          53,
          54,
          55,
          56,
          57,
          58,
          59,
          60,
          61,
          62,
          63,
          64,
          65,
          66,
          67,
          68,
          69,
          70,
          71,
          72,
          73,
          74,
          75,
          76,
          77,
          78,
          79,
          80,
          81,
          82,
          83,
          84,
          85,
          86,
          87,
          88,
          89,
          90,
          91,
          92,
          93,
          94,
          95,
          96,
          97,
          98,
          99
         ],
         "xaxis": "x",
         "y": [
          0.2758222818374634,
          0.20325985550880432,
          0.19537702202796936,
          0.19152121245861053,
          0.17886361479759216,
          0.17199161648750305,
          0.1606217622756958,
          0.13507011532783508,
          0.12386069446802139,
          0.10175637155771255,
          0.09037943184375763,
          0.08564670383930206,
          0.07348968833684921,
          0.07556531578302383,
          0.06225455552339554,
          0.059392936527729034,
          0.04940502718091011,
          0.04254462569952011,
          0.04171474277973175,
          0.0366411916911602,
          0.033258773386478424,
          0.03236854448914528,
          0.027203263714909554,
          0.027282867580652237,
          0.026988353580236435,
          0.027282344177365303,
          0.02694309875369072,
          0.02439810521900654,
          0.02524714358150959,
          0.0242892038077116,
          0.023461999371647835,
          0.02295842580497265,
          0.021663127467036247,
          0.02158534526824951,
          0.02145867608487606,
          0.020285794511437416,
          0.019934583455324173,
          0.0194997601211071,
          0.018783388659358025,
          0.018801728263497353,
          0.01830902509391308,
          0.01787503995001316,
          0.01776820980012417,
          0.017162369564175606,
          0.017094295471906662,
          0.016617901623249054,
          0.01629026047885418,
          0.015898145735263824,
          0.015368274413049221,
          0.015110003761947155,
          0.014603711664676666,
          0.014403912238776684,
          0.013915509916841984,
          0.013637925498187542,
          0.013165727257728577,
          0.012884106487035751,
          0.012465124018490314,
          0.012197245843708515,
          0.011773831211030483,
          0.011515033431351185,
          0.011091620661318302,
          0.010804864577949047,
          0.01045095082372427,
          0.010100658982992172,
          0.00989348441362381,
          0.00966194923967123,
          0.009457669220864773,
          0.009379470720887184,
          0.009429089725017548,
          0.00968941766768694,
          0.010516992770135403,
          0.012671424075961113,
          0.014426535926759243,
          0.010902263224124908,
          0.009798732586205006,
          0.011590073816478252,
          0.00907942932099104,
          0.010634328238666058,
          0.009298071265220642,
          0.009923679754137993,
          0.009247706271708012,
          0.00963648036122322,
          0.009150384925305843,
          0.009546011686325073,
          0.008984618820250034,
          0.009454241953790188,
          0.008868454024195671,
          0.009310245513916016,
          0.008774606510996819,
          0.009153277613222599,
          0.008720395155251026,
          0.008986987173557281,
          0.008689756505191326,
          0.008833270519971848,
          0.008645427413284779,
          0.008700850419700146,
          0.008606094866991043,
          0.008588818833231926,
          0.008556325919926167,
          0.008502855896949768
         ],
         "yaxis": "y"
        }
       ],
       "layout": {
        "legend": {
         "tracegroupgap": 0
        },
        "template": {
         "data": {
          "bar": [
           {
            "error_x": {
             "color": "#2a3f5f"
            },
            "error_y": {
             "color": "#2a3f5f"
            },
            "marker": {
             "line": {
              "color": "#E5ECF6",
              "width": 0.5
             }
            },
            "type": "bar"
           }
          ],
          "barpolar": [
           {
            "marker": {
             "line": {
              "color": "#E5ECF6",
              "width": 0.5
             }
            },
            "type": "barpolar"
           }
          ],
          "carpet": [
           {
            "aaxis": {
             "endlinecolor": "#2a3f5f",
             "gridcolor": "white",
             "linecolor": "white",
             "minorgridcolor": "white",
             "startlinecolor": "#2a3f5f"
            },
            "baxis": {
             "endlinecolor": "#2a3f5f",
             "gridcolor": "white",
             "linecolor": "white",
             "minorgridcolor": "white",
             "startlinecolor": "#2a3f5f"
            },
            "type": "carpet"
           }
          ],
          "choropleth": [
           {
            "colorbar": {
             "outlinewidth": 0,
             "ticks": ""
            },
            "type": "choropleth"
           }
          ],
          "contour": [
           {
            "colorbar": {
             "outlinewidth": 0,
             "ticks": ""
            },
            "colorscale": [
             [
              0,
              "#0d0887"
             ],
             [
              0.1111111111111111,
              "#46039f"
             ],
             [
              0.2222222222222222,
              "#7201a8"
             ],
             [
              0.3333333333333333,
              "#9c179e"
             ],
             [
              0.4444444444444444,
              "#bd3786"
             ],
             [
              0.5555555555555556,
              "#d8576b"
             ],
             [
              0.6666666666666666,
              "#ed7953"
             ],
             [
              0.7777777777777778,
              "#fb9f3a"
             ],
             [
              0.8888888888888888,
              "#fdca26"
             ],
             [
              1,
              "#f0f921"
             ]
            ],
            "type": "contour"
           }
          ],
          "contourcarpet": [
           {
            "colorbar": {
             "outlinewidth": 0,
             "ticks": ""
            },
            "type": "contourcarpet"
           }
          ],
          "heatmap": [
           {
            "colorbar": {
             "outlinewidth": 0,
             "ticks": ""
            },
            "colorscale": [
             [
              0,
              "#0d0887"
             ],
             [
              0.1111111111111111,
              "#46039f"
             ],
             [
              0.2222222222222222,
              "#7201a8"
             ],
             [
              0.3333333333333333,
              "#9c179e"
             ],
             [
              0.4444444444444444,
              "#bd3786"
             ],
             [
              0.5555555555555556,
              "#d8576b"
             ],
             [
              0.6666666666666666,
              "#ed7953"
             ],
             [
              0.7777777777777778,
              "#fb9f3a"
             ],
             [
              0.8888888888888888,
              "#fdca26"
             ],
             [
              1,
              "#f0f921"
             ]
            ],
            "type": "heatmap"
           }
          ],
          "heatmapgl": [
           {
            "colorbar": {
             "outlinewidth": 0,
             "ticks": ""
            },
            "colorscale": [
             [
              0,
              "#0d0887"
             ],
             [
              0.1111111111111111,
              "#46039f"
             ],
             [
              0.2222222222222222,
              "#7201a8"
             ],
             [
              0.3333333333333333,
              "#9c179e"
             ],
             [
              0.4444444444444444,
              "#bd3786"
             ],
             [
              0.5555555555555556,
              "#d8576b"
             ],
             [
              0.6666666666666666,
              "#ed7953"
             ],
             [
              0.7777777777777778,
              "#fb9f3a"
             ],
             [
              0.8888888888888888,
              "#fdca26"
             ],
             [
              1,
              "#f0f921"
             ]
            ],
            "type": "heatmapgl"
           }
          ],
          "histogram": [
           {
            "marker": {
             "colorbar": {
              "outlinewidth": 0,
              "ticks": ""
             }
            },
            "type": "histogram"
           }
          ],
          "histogram2d": [
           {
            "colorbar": {
             "outlinewidth": 0,
             "ticks": ""
            },
            "colorscale": [
             [
              0,
              "#0d0887"
             ],
             [
              0.1111111111111111,
              "#46039f"
             ],
             [
              0.2222222222222222,
              "#7201a8"
             ],
             [
              0.3333333333333333,
              "#9c179e"
             ],
             [
              0.4444444444444444,
              "#bd3786"
             ],
             [
              0.5555555555555556,
              "#d8576b"
             ],
             [
              0.6666666666666666,
              "#ed7953"
             ],
             [
              0.7777777777777778,
              "#fb9f3a"
             ],
             [
              0.8888888888888888,
              "#fdca26"
             ],
             [
              1,
              "#f0f921"
             ]
            ],
            "type": "histogram2d"
           }
          ],
          "histogram2dcontour": [
           {
            "colorbar": {
             "outlinewidth": 0,
             "ticks": ""
            },
            "colorscale": [
             [
              0,
              "#0d0887"
             ],
             [
              0.1111111111111111,
              "#46039f"
             ],
             [
              0.2222222222222222,
              "#7201a8"
             ],
             [
              0.3333333333333333,
              "#9c179e"
             ],
             [
              0.4444444444444444,
              "#bd3786"
             ],
             [
              0.5555555555555556,
              "#d8576b"
             ],
             [
              0.6666666666666666,
              "#ed7953"
             ],
             [
              0.7777777777777778,
              "#fb9f3a"
             ],
             [
              0.8888888888888888,
              "#fdca26"
             ],
             [
              1,
              "#f0f921"
             ]
            ],
            "type": "histogram2dcontour"
           }
          ],
          "mesh3d": [
           {
            "colorbar": {
             "outlinewidth": 0,
             "ticks": ""
            },
            "type": "mesh3d"
           }
          ],
          "parcoords": [
           {
            "line": {
             "colorbar": {
              "outlinewidth": 0,
              "ticks": ""
             }
            },
            "type": "parcoords"
           }
          ],
          "pie": [
           {
            "automargin": true,
            "type": "pie"
           }
          ],
          "scatter": [
           {
            "marker": {
             "colorbar": {
              "outlinewidth": 0,
              "ticks": ""
             }
            },
            "type": "scatter"
           }
          ],
          "scatter3d": [
           {
            "line": {
             "colorbar": {
              "outlinewidth": 0,
              "ticks": ""
             }
            },
            "marker": {
             "colorbar": {
              "outlinewidth": 0,
              "ticks": ""
             }
            },
            "type": "scatter3d"
           }
          ],
          "scattercarpet": [
           {
            "marker": {
             "colorbar": {
              "outlinewidth": 0,
              "ticks": ""
             }
            },
            "type": "scattercarpet"
           }
          ],
          "scattergeo": [
           {
            "marker": {
             "colorbar": {
              "outlinewidth": 0,
              "ticks": ""
             }
            },
            "type": "scattergeo"
           }
          ],
          "scattergl": [
           {
            "marker": {
             "colorbar": {
              "outlinewidth": 0,
              "ticks": ""
             }
            },
            "type": "scattergl"
           }
          ],
          "scattermapbox": [
           {
            "marker": {
             "colorbar": {
              "outlinewidth": 0,
              "ticks": ""
             }
            },
            "type": "scattermapbox"
           }
          ],
          "scatterpolar": [
           {
            "marker": {
             "colorbar": {
              "outlinewidth": 0,
              "ticks": ""
             }
            },
            "type": "scatterpolar"
           }
          ],
          "scatterpolargl": [
           {
            "marker": {
             "colorbar": {
              "outlinewidth": 0,
              "ticks": ""
             }
            },
            "type": "scatterpolargl"
           }
          ],
          "scatterternary": [
           {
            "marker": {
             "colorbar": {
              "outlinewidth": 0,
              "ticks": ""
             }
            },
            "type": "scatterternary"
           }
          ],
          "surface": [
           {
            "colorbar": {
             "outlinewidth": 0,
             "ticks": ""
            },
            "colorscale": [
             [
              0,
              "#0d0887"
             ],
             [
              0.1111111111111111,
              "#46039f"
             ],
             [
              0.2222222222222222,
              "#7201a8"
             ],
             [
              0.3333333333333333,
              "#9c179e"
             ],
             [
              0.4444444444444444,
              "#bd3786"
             ],
             [
              0.5555555555555556,
              "#d8576b"
             ],
             [
              0.6666666666666666,
              "#ed7953"
             ],
             [
              0.7777777777777778,
              "#fb9f3a"
             ],
             [
              0.8888888888888888,
              "#fdca26"
             ],
             [
              1,
              "#f0f921"
             ]
            ],
            "type": "surface"
           }
          ],
          "table": [
           {
            "cells": {
             "fill": {
              "color": "#EBF0F8"
             },
             "line": {
              "color": "white"
             }
            },
            "header": {
             "fill": {
              "color": "#C8D4E3"
             },
             "line": {
              "color": "white"
             }
            },
            "type": "table"
           }
          ]
         },
         "layout": {
          "annotationdefaults": {
           "arrowcolor": "#2a3f5f",
           "arrowhead": 0,
           "arrowwidth": 1
          },
          "coloraxis": {
           "colorbar": {
            "outlinewidth": 0,
            "ticks": ""
           }
          },
          "colorscale": {
           "diverging": [
            [
             0,
             "#8e0152"
            ],
            [
             0.1,
             "#c51b7d"
            ],
            [
             0.2,
             "#de77ae"
            ],
            [
             0.3,
             "#f1b6da"
            ],
            [
             0.4,
             "#fde0ef"
            ],
            [
             0.5,
             "#f7f7f7"
            ],
            [
             0.6,
             "#e6f5d0"
            ],
            [
             0.7,
             "#b8e186"
            ],
            [
             0.8,
             "#7fbc41"
            ],
            [
             0.9,
             "#4d9221"
            ],
            [
             1,
             "#276419"
            ]
           ],
           "sequential": [
            [
             0,
             "#0d0887"
            ],
            [
             0.1111111111111111,
             "#46039f"
            ],
            [
             0.2222222222222222,
             "#7201a8"
            ],
            [
             0.3333333333333333,
             "#9c179e"
            ],
            [
             0.4444444444444444,
             "#bd3786"
            ],
            [
             0.5555555555555556,
             "#d8576b"
            ],
            [
             0.6666666666666666,
             "#ed7953"
            ],
            [
             0.7777777777777778,
             "#fb9f3a"
            ],
            [
             0.8888888888888888,
             "#fdca26"
            ],
            [
             1,
             "#f0f921"
            ]
           ],
           "sequentialminus": [
            [
             0,
             "#0d0887"
            ],
            [
             0.1111111111111111,
             "#46039f"
            ],
            [
             0.2222222222222222,
             "#7201a8"
            ],
            [
             0.3333333333333333,
             "#9c179e"
            ],
            [
             0.4444444444444444,
             "#bd3786"
            ],
            [
             0.5555555555555556,
             "#d8576b"
            ],
            [
             0.6666666666666666,
             "#ed7953"
            ],
            [
             0.7777777777777778,
             "#fb9f3a"
            ],
            [
             0.8888888888888888,
             "#fdca26"
            ],
            [
             1,
             "#f0f921"
            ]
           ]
          },
          "colorway": [
           "#636efa",
           "#EF553B",
           "#00cc96",
           "#ab63fa",
           "#FFA15A",
           "#19d3f3",
           "#FF6692",
           "#B6E880",
           "#FF97FF",
           "#FECB52"
          ],
          "font": {
           "color": "#2a3f5f"
          },
          "geo": {
           "bgcolor": "white",
           "lakecolor": "white",
           "landcolor": "#E5ECF6",
           "showlakes": true,
           "showland": true,
           "subunitcolor": "white"
          },
          "hoverlabel": {
           "align": "left"
          },
          "hovermode": "closest",
          "mapbox": {
           "style": "light"
          },
          "paper_bgcolor": "white",
          "plot_bgcolor": "#E5ECF6",
          "polar": {
           "angularaxis": {
            "gridcolor": "white",
            "linecolor": "white",
            "ticks": ""
           },
           "bgcolor": "#E5ECF6",
           "radialaxis": {
            "gridcolor": "white",
            "linecolor": "white",
            "ticks": ""
           }
          },
          "scene": {
           "xaxis": {
            "backgroundcolor": "#E5ECF6",
            "gridcolor": "white",
            "gridwidth": 2,
            "linecolor": "white",
            "showbackground": true,
            "ticks": "",
            "zerolinecolor": "white"
           },
           "yaxis": {
            "backgroundcolor": "#E5ECF6",
            "gridcolor": "white",
            "gridwidth": 2,
            "linecolor": "white",
            "showbackground": true,
            "ticks": "",
            "zerolinecolor": "white"
           },
           "zaxis": {
            "backgroundcolor": "#E5ECF6",
            "gridcolor": "white",
            "gridwidth": 2,
            "linecolor": "white",
            "showbackground": true,
            "ticks": "",
            "zerolinecolor": "white"
           }
          },
          "shapedefaults": {
           "line": {
            "color": "#2a3f5f"
           }
          },
          "ternary": {
           "aaxis": {
            "gridcolor": "white",
            "linecolor": "white",
            "ticks": ""
           },
           "baxis": {
            "gridcolor": "white",
            "linecolor": "white",
            "ticks": ""
           },
           "bgcolor": "#E5ECF6",
           "caxis": {
            "gridcolor": "white",
            "linecolor": "white",
            "ticks": ""
           }
          },
          "title": {
           "x": 0.05
          },
          "xaxis": {
           "automargin": true,
           "gridcolor": "white",
           "linecolor": "white",
           "ticks": "",
           "title": {
            "standoff": 15
           },
           "zerolinecolor": "white",
           "zerolinewidth": 2
          },
          "yaxis": {
           "automargin": true,
           "gridcolor": "white",
           "linecolor": "white",
           "ticks": "",
           "title": {
            "standoff": 15
           },
           "zerolinecolor": "white",
           "zerolinewidth": 2
          }
         }
        },
        "title": {
         "text": "Loss"
        },
        "xaxis": {
         "anchor": "y",
         "domain": [
          0,
          1
         ],
         "title": {
          "text": "Epoch"
         }
        },
        "yaxis": {
         "anchor": "x",
         "domain": [
          0,
          1
         ],
         "title": {
          "text": "Loss"
         }
        }
       }
      },
      "text/html": [
       "<div>                            <div id=\"675eae56-3760-4f69-8802-784eb60d8c1b\" class=\"plotly-graph-div\" style=\"height:525px; width:100%;\"></div>            <script type=\"text/javascript\">                require([\"plotly\"], function(Plotly) {                    window.PLOTLYENV=window.PLOTLYENV || {};                                    if (document.getElementById(\"675eae56-3760-4f69-8802-784eb60d8c1b\")) {                    Plotly.newPlot(                        \"675eae56-3760-4f69-8802-784eb60d8c1b\",                        [{\"hovertemplate\": \"index=%{x}<br>y=%{y}<extra></extra>\", \"legendgroup\": \"\", \"line\": {\"color\": \"#636efa\", \"dash\": \"solid\"}, \"mode\": \"lines\", \"name\": \"\", \"orientation\": \"v\", \"showlegend\": false, \"type\": \"scatter\", \"x\": [0, 1, 2, 3, 4, 5, 6, 7, 8, 9, 10, 11, 12, 13, 14, 15, 16, 17, 18, 19, 20, 21, 22, 23, 24, 25, 26, 27, 28, 29, 30, 31, 32, 33, 34, 35, 36, 37, 38, 39, 40, 41, 42, 43, 44, 45, 46, 47, 48, 49, 50, 51, 52, 53, 54, 55, 56, 57, 58, 59, 60, 61, 62, 63, 64, 65, 66, 67, 68, 69, 70, 71, 72, 73, 74, 75, 76, 77, 78, 79, 80, 81, 82, 83, 84, 85, 86, 87, 88, 89, 90, 91, 92, 93, 94, 95, 96, 97, 98, 99], \"xaxis\": \"x\", \"y\": [0.2758222818374634, 0.20325985550880432, 0.19537702202796936, 0.19152121245861053, 0.17886361479759216, 0.17199161648750305, 0.1606217622756958, 0.13507011532783508, 0.12386069446802139, 0.10175637155771255, 0.09037943184375763, 0.08564670383930206, 0.07348968833684921, 0.07556531578302383, 0.06225455552339554, 0.059392936527729034, 0.04940502718091011, 0.04254462569952011, 0.04171474277973175, 0.0366411916911602, 0.033258773386478424, 0.03236854448914528, 0.027203263714909554, 0.027282867580652237, 0.026988353580236435, 0.027282344177365303, 0.02694309875369072, 0.02439810521900654, 0.02524714358150959, 0.0242892038077116, 0.023461999371647835, 0.02295842580497265, 0.021663127467036247, 0.02158534526824951, 0.02145867608487606, 0.020285794511437416, 0.019934583455324173, 0.0194997601211071, 0.018783388659358025, 0.018801728263497353, 0.01830902509391308, 0.01787503995001316, 0.01776820980012417, 0.017162369564175606, 0.017094295471906662, 0.016617901623249054, 0.01629026047885418, 0.015898145735263824, 0.015368274413049221, 0.015110003761947155, 0.014603711664676666, 0.014403912238776684, 0.013915509916841984, 0.013637925498187542, 0.013165727257728577, 0.012884106487035751, 0.012465124018490314, 0.012197245843708515, 0.011773831211030483, 0.011515033431351185, 0.011091620661318302, 0.010804864577949047, 0.01045095082372427, 0.010100658982992172, 0.00989348441362381, 0.00966194923967123, 0.009457669220864773, 0.009379470720887184, 0.009429089725017548, 0.00968941766768694, 0.010516992770135403, 0.012671424075961113, 0.014426535926759243, 0.010902263224124908, 0.009798732586205006, 0.011590073816478252, 0.00907942932099104, 0.010634328238666058, 0.009298071265220642, 0.009923679754137993, 0.009247706271708012, 0.00963648036122322, 0.009150384925305843, 0.009546011686325073, 0.008984618820250034, 0.009454241953790188, 0.008868454024195671, 0.009310245513916016, 0.008774606510996819, 0.009153277613222599, 0.008720395155251026, 0.008986987173557281, 0.008689756505191326, 0.008833270519971848, 0.008645427413284779, 0.008700850419700146, 0.008606094866991043, 0.008588818833231926, 0.008556325919926167, 0.008502855896949768], \"yaxis\": \"y\"}],                        {\"legend\": {\"tracegroupgap\": 0}, \"template\": {\"data\": {\"bar\": [{\"error_x\": {\"color\": \"#2a3f5f\"}, \"error_y\": {\"color\": \"#2a3f5f\"}, \"marker\": {\"line\": {\"color\": \"#E5ECF6\", \"width\": 0.5}}, \"type\": \"bar\"}], \"barpolar\": [{\"marker\": {\"line\": {\"color\": \"#E5ECF6\", \"width\": 0.5}}, \"type\": \"barpolar\"}], \"carpet\": [{\"aaxis\": {\"endlinecolor\": \"#2a3f5f\", \"gridcolor\": \"white\", \"linecolor\": \"white\", \"minorgridcolor\": \"white\", \"startlinecolor\": \"#2a3f5f\"}, \"baxis\": {\"endlinecolor\": \"#2a3f5f\", \"gridcolor\": \"white\", \"linecolor\": \"white\", \"minorgridcolor\": \"white\", \"startlinecolor\": \"#2a3f5f\"}, \"type\": \"carpet\"}], \"choropleth\": [{\"colorbar\": {\"outlinewidth\": 0, \"ticks\": \"\"}, \"type\": \"choropleth\"}], \"contour\": [{\"colorbar\": {\"outlinewidth\": 0, \"ticks\": \"\"}, \"colorscale\": [[0.0, \"#0d0887\"], [0.1111111111111111, \"#46039f\"], [0.2222222222222222, \"#7201a8\"], [0.3333333333333333, \"#9c179e\"], [0.4444444444444444, \"#bd3786\"], [0.5555555555555556, \"#d8576b\"], [0.6666666666666666, \"#ed7953\"], [0.7777777777777778, \"#fb9f3a\"], [0.8888888888888888, \"#fdca26\"], [1.0, \"#f0f921\"]], \"type\": \"contour\"}], \"contourcarpet\": [{\"colorbar\": {\"outlinewidth\": 0, \"ticks\": \"\"}, \"type\": \"contourcarpet\"}], \"heatmap\": [{\"colorbar\": {\"outlinewidth\": 0, \"ticks\": \"\"}, \"colorscale\": [[0.0, \"#0d0887\"], [0.1111111111111111, \"#46039f\"], [0.2222222222222222, \"#7201a8\"], [0.3333333333333333, \"#9c179e\"], [0.4444444444444444, \"#bd3786\"], [0.5555555555555556, \"#d8576b\"], [0.6666666666666666, \"#ed7953\"], [0.7777777777777778, \"#fb9f3a\"], [0.8888888888888888, \"#fdca26\"], [1.0, \"#f0f921\"]], \"type\": \"heatmap\"}], \"heatmapgl\": [{\"colorbar\": {\"outlinewidth\": 0, \"ticks\": \"\"}, \"colorscale\": [[0.0, \"#0d0887\"], [0.1111111111111111, \"#46039f\"], [0.2222222222222222, \"#7201a8\"], [0.3333333333333333, \"#9c179e\"], [0.4444444444444444, \"#bd3786\"], [0.5555555555555556, \"#d8576b\"], [0.6666666666666666, \"#ed7953\"], [0.7777777777777778, \"#fb9f3a\"], [0.8888888888888888, \"#fdca26\"], [1.0, \"#f0f921\"]], \"type\": \"heatmapgl\"}], \"histogram\": [{\"marker\": {\"colorbar\": {\"outlinewidth\": 0, \"ticks\": \"\"}}, \"type\": \"histogram\"}], \"histogram2d\": [{\"colorbar\": {\"outlinewidth\": 0, \"ticks\": \"\"}, \"colorscale\": [[0.0, \"#0d0887\"], [0.1111111111111111, \"#46039f\"], [0.2222222222222222, \"#7201a8\"], [0.3333333333333333, \"#9c179e\"], [0.4444444444444444, \"#bd3786\"], [0.5555555555555556, \"#d8576b\"], [0.6666666666666666, \"#ed7953\"], [0.7777777777777778, \"#fb9f3a\"], [0.8888888888888888, \"#fdca26\"], [1.0, \"#f0f921\"]], \"type\": \"histogram2d\"}], \"histogram2dcontour\": [{\"colorbar\": {\"outlinewidth\": 0, \"ticks\": \"\"}, \"colorscale\": [[0.0, \"#0d0887\"], [0.1111111111111111, \"#46039f\"], [0.2222222222222222, \"#7201a8\"], [0.3333333333333333, \"#9c179e\"], [0.4444444444444444, \"#bd3786\"], [0.5555555555555556, \"#d8576b\"], [0.6666666666666666, \"#ed7953\"], [0.7777777777777778, \"#fb9f3a\"], [0.8888888888888888, \"#fdca26\"], [1.0, \"#f0f921\"]], \"type\": \"histogram2dcontour\"}], \"mesh3d\": [{\"colorbar\": {\"outlinewidth\": 0, \"ticks\": \"\"}, \"type\": \"mesh3d\"}], \"parcoords\": [{\"line\": {\"colorbar\": {\"outlinewidth\": 0, \"ticks\": \"\"}}, \"type\": \"parcoords\"}], \"pie\": [{\"automargin\": true, \"type\": \"pie\"}], \"scatter\": [{\"marker\": {\"colorbar\": {\"outlinewidth\": 0, \"ticks\": \"\"}}, \"type\": \"scatter\"}], \"scatter3d\": [{\"line\": {\"colorbar\": {\"outlinewidth\": 0, \"ticks\": \"\"}}, \"marker\": {\"colorbar\": {\"outlinewidth\": 0, \"ticks\": \"\"}}, \"type\": \"scatter3d\"}], \"scattercarpet\": [{\"marker\": {\"colorbar\": {\"outlinewidth\": 0, \"ticks\": \"\"}}, \"type\": \"scattercarpet\"}], \"scattergeo\": [{\"marker\": {\"colorbar\": {\"outlinewidth\": 0, \"ticks\": \"\"}}, \"type\": \"scattergeo\"}], \"scattergl\": [{\"marker\": {\"colorbar\": {\"outlinewidth\": 0, \"ticks\": \"\"}}, \"type\": \"scattergl\"}], \"scattermapbox\": [{\"marker\": {\"colorbar\": {\"outlinewidth\": 0, \"ticks\": \"\"}}, \"type\": \"scattermapbox\"}], \"scatterpolar\": [{\"marker\": {\"colorbar\": {\"outlinewidth\": 0, \"ticks\": \"\"}}, \"type\": \"scatterpolar\"}], \"scatterpolargl\": [{\"marker\": {\"colorbar\": {\"outlinewidth\": 0, \"ticks\": \"\"}}, \"type\": \"scatterpolargl\"}], \"scatterternary\": [{\"marker\": {\"colorbar\": {\"outlinewidth\": 0, \"ticks\": \"\"}}, \"type\": \"scatterternary\"}], \"surface\": [{\"colorbar\": {\"outlinewidth\": 0, \"ticks\": \"\"}, \"colorscale\": [[0.0, \"#0d0887\"], [0.1111111111111111, \"#46039f\"], [0.2222222222222222, \"#7201a8\"], [0.3333333333333333, \"#9c179e\"], [0.4444444444444444, \"#bd3786\"], [0.5555555555555556, \"#d8576b\"], [0.6666666666666666, \"#ed7953\"], [0.7777777777777778, \"#fb9f3a\"], [0.8888888888888888, \"#fdca26\"], [1.0, \"#f0f921\"]], \"type\": \"surface\"}], \"table\": [{\"cells\": {\"fill\": {\"color\": \"#EBF0F8\"}, \"line\": {\"color\": \"white\"}}, \"header\": {\"fill\": {\"color\": \"#C8D4E3\"}, \"line\": {\"color\": \"white\"}}, \"type\": \"table\"}]}, \"layout\": {\"annotationdefaults\": {\"arrowcolor\": \"#2a3f5f\", \"arrowhead\": 0, \"arrowwidth\": 1}, \"coloraxis\": {\"colorbar\": {\"outlinewidth\": 0, \"ticks\": \"\"}}, \"colorscale\": {\"diverging\": [[0, \"#8e0152\"], [0.1, \"#c51b7d\"], [0.2, \"#de77ae\"], [0.3, \"#f1b6da\"], [0.4, \"#fde0ef\"], [0.5, \"#f7f7f7\"], [0.6, \"#e6f5d0\"], [0.7, \"#b8e186\"], [0.8, \"#7fbc41\"], [0.9, \"#4d9221\"], [1, \"#276419\"]], \"sequential\": [[0.0, \"#0d0887\"], [0.1111111111111111, \"#46039f\"], [0.2222222222222222, \"#7201a8\"], [0.3333333333333333, \"#9c179e\"], [0.4444444444444444, \"#bd3786\"], [0.5555555555555556, \"#d8576b\"], [0.6666666666666666, \"#ed7953\"], [0.7777777777777778, \"#fb9f3a\"], [0.8888888888888888, \"#fdca26\"], [1.0, \"#f0f921\"]], \"sequentialminus\": [[0.0, \"#0d0887\"], [0.1111111111111111, \"#46039f\"], [0.2222222222222222, \"#7201a8\"], [0.3333333333333333, \"#9c179e\"], [0.4444444444444444, \"#bd3786\"], [0.5555555555555556, \"#d8576b\"], [0.6666666666666666, \"#ed7953\"], [0.7777777777777778, \"#fb9f3a\"], [0.8888888888888888, \"#fdca26\"], [1.0, \"#f0f921\"]]}, \"colorway\": [\"#636efa\", \"#EF553B\", \"#00cc96\", \"#ab63fa\", \"#FFA15A\", \"#19d3f3\", \"#FF6692\", \"#B6E880\", \"#FF97FF\", \"#FECB52\"], \"font\": {\"color\": \"#2a3f5f\"}, \"geo\": {\"bgcolor\": \"white\", \"lakecolor\": \"white\", \"landcolor\": \"#E5ECF6\", \"showlakes\": true, \"showland\": true, \"subunitcolor\": \"white\"}, \"hoverlabel\": {\"align\": \"left\"}, \"hovermode\": \"closest\", \"mapbox\": {\"style\": \"light\"}, \"paper_bgcolor\": \"white\", \"plot_bgcolor\": \"#E5ECF6\", \"polar\": {\"angularaxis\": {\"gridcolor\": \"white\", \"linecolor\": \"white\", \"ticks\": \"\"}, \"bgcolor\": \"#E5ECF6\", \"radialaxis\": {\"gridcolor\": \"white\", \"linecolor\": \"white\", \"ticks\": \"\"}}, \"scene\": {\"xaxis\": {\"backgroundcolor\": \"#E5ECF6\", \"gridcolor\": \"white\", \"gridwidth\": 2, \"linecolor\": \"white\", \"showbackground\": true, \"ticks\": \"\", \"zerolinecolor\": \"white\"}, \"yaxis\": {\"backgroundcolor\": \"#E5ECF6\", \"gridcolor\": \"white\", \"gridwidth\": 2, \"linecolor\": \"white\", \"showbackground\": true, \"ticks\": \"\", \"zerolinecolor\": \"white\"}, \"zaxis\": {\"backgroundcolor\": \"#E5ECF6\", \"gridcolor\": \"white\", \"gridwidth\": 2, \"linecolor\": \"white\", \"showbackground\": true, \"ticks\": \"\", \"zerolinecolor\": \"white\"}}, \"shapedefaults\": {\"line\": {\"color\": \"#2a3f5f\"}}, \"ternary\": {\"aaxis\": {\"gridcolor\": \"white\", \"linecolor\": \"white\", \"ticks\": \"\"}, \"baxis\": {\"gridcolor\": \"white\", \"linecolor\": \"white\", \"ticks\": \"\"}, \"bgcolor\": \"#E5ECF6\", \"caxis\": {\"gridcolor\": \"white\", \"linecolor\": \"white\", \"ticks\": \"\"}}, \"title\": {\"x\": 0.05}, \"xaxis\": {\"automargin\": true, \"gridcolor\": \"white\", \"linecolor\": \"white\", \"ticks\": \"\", \"title\": {\"standoff\": 15}, \"zerolinecolor\": \"white\", \"zerolinewidth\": 2}, \"yaxis\": {\"automargin\": true, \"gridcolor\": \"white\", \"linecolor\": \"white\", \"ticks\": \"\", \"title\": {\"standoff\": 15}, \"zerolinecolor\": \"white\", \"zerolinewidth\": 2}}}, \"title\": {\"text\": \"Loss\"}, \"xaxis\": {\"anchor\": \"y\", \"domain\": [0.0, 1.0], \"title\": {\"text\": \"Epoch\"}}, \"yaxis\": {\"anchor\": \"x\", \"domain\": [0.0, 1.0], \"title\": {\"text\": \"Loss\"}}},                        {\"responsive\": true}                    ).then(function(){\n",
       "                            \n",
       "var gd = document.getElementById('675eae56-3760-4f69-8802-784eb60d8c1b');\n",
       "var x = new MutationObserver(function (mutations, observer) {{\n",
       "        var display = window.getComputedStyle(gd).display;\n",
       "        if (!display || display === 'none') {{\n",
       "            console.log([gd, 'removed!']);\n",
       "            Plotly.purge(gd);\n",
       "            observer.disconnect();\n",
       "        }}\n",
       "}});\n",
       "\n",
       "// Listen for the removal of the full notebook cells\n",
       "var notebookContainer = gd.closest('#notebook-container');\n",
       "if (notebookContainer) {{\n",
       "    x.observe(notebookContainer, {childList: true});\n",
       "}}\n",
       "\n",
       "// Listen for the clearing of the current output cell\n",
       "var outputEl = gd.closest('.output');\n",
       "if (outputEl) {{\n",
       "    x.observe(outputEl, {childList: true});\n",
       "}}\n",
       "\n",
       "                        })                };                });            </script>        </div>"
      ]
     },
     "metadata": {},
     "output_type": "display_data"
    }
   ],
   "source": [
    "# Plot regular data and training data over epochs\n",
    "# plt.figure(1)\n",
    "# plt.plot(original.index, original.values, color = \"blue\", linewidth = 0.7)\n",
    "# plt.plot(predict.index, predict.values, color = \"red\", linewidth = 0.7)\n",
    "# plt.title(\"Stock vs Epochs\")\n",
    "\n",
    "# # Plot loss over epochs \n",
    "# plt.figure(2)\n",
    "# plt.plot(loss_arr)\n",
    "# plt.title(\"Loss\")\n",
    "\n",
    "# Interactive Plots\n",
    "import plotly.express as px\n",
    "import plotly.graph_objects as go\n",
    "#print(original)\n",
    "df = original\n",
    "df1 = predict\n",
    "new_df = pd.concat([df, df1], axis=1, sort=False)\n",
    "#print(new_df)\n",
    "loss_df = pd.DataFrame(loss_arr, columns=['Loss'])\n",
    "fig = px.line(loss_df, y=loss_arr, title = \"Loss\")\n",
    "fig.update_layout(title='Loss',\n",
    "                   xaxis_title='Epoch',\n",
    "                   yaxis_title='Loss')\n",
    "fig.show()\n"
   ]
  },
  {
   "cell_type": "code",
   "execution_count": 33,
   "metadata": {},
   "outputs": [
    {
     "data": {
      "application/vnd.plotly.v1+json": {
       "config": {
        "plotlyServerURL": "https://plotly.com"
       },
       "data": [
        {
         "mode": "lines",
         "name": "Original",
         "type": "scatter",
         "x": [
          0,
          1,
          2,
          3,
          4,
          5,
          6,
          7,
          8,
          9,
          10,
          11,
          12,
          13,
          14,
          15,
          16,
          17,
          18,
          19,
          20,
          21,
          22,
          23,
          24,
          25,
          26,
          27,
          28,
          29,
          30,
          31,
          32,
          33,
          34,
          35,
          36,
          37,
          38,
          39,
          40,
          41,
          42,
          43,
          44,
          45,
          46,
          47,
          48,
          49,
          50,
          51,
          52,
          53,
          54,
          55,
          56,
          57,
          58,
          59,
          60,
          61,
          62,
          63,
          64,
          65,
          66,
          67,
          68,
          69,
          70,
          71,
          72,
          73,
          74,
          75,
          76,
          77,
          78,
          79,
          80,
          81,
          82,
          83,
          84,
          85,
          86,
          87,
          88,
          89,
          90,
          91,
          92,
          93,
          94,
          95,
          96,
          97,
          98,
          99,
          100,
          101,
          102,
          103,
          104,
          105,
          106,
          107,
          108,
          109,
          110,
          111,
          112,
          113,
          114,
          115,
          116,
          117,
          118,
          119,
          120,
          121,
          122,
          123,
          124,
          125,
          126,
          127,
          128,
          129,
          130,
          131,
          132,
          133,
          134,
          135,
          136,
          137,
          138,
          139,
          140,
          141,
          142,
          143,
          144,
          145,
          146,
          147,
          148,
          149,
          150,
          151,
          152,
          153,
          154,
          155,
          156,
          157,
          158,
          159,
          160,
          161,
          162
         ],
         "y": [
          22.36258888244629,
          22.15353012084961,
          21.70554542541504,
          22.135150909423828,
          22.313005447387695,
          21.71706771850586,
          21.945741653442383,
          21.941125869750977,
          21.774816513061523,
          21.643157958984375,
          21.71014404296875,
          22.322242736816406,
          22.664104461669922,
          22.23447036743164,
          22.18365478515625,
          22.377683639526367,
          21.871828079223633,
          22.1975154876709,
          22.349964141845703,
          22.38460922241211,
          22.333799362182617,
          23.22077751159668,
          23.271589279174805,
          23.44482421875,
          23.793609619140625,
          23.53029441833496,
          23.33626365661621,
          23.357053756713867,
          23.368602752685547,
          23.62037467956543,
          23.68042755126953,
          24.1562557220459,
          24.477323532104492,
          24.438053131103516,
          24.465770721435547,
          24.46346664428711,
          24.65056037902832,
          24.514280319213867,
          24.40802764892578,
          24.297149658203125,
          24.87230110168457,
          25.306554794311523,
          25.174894332885742,
          25.405874252319336,
          25.666887283325195,
          25.364299774169922,
          25.629934310913086,
          25.07094955444336,
          25.09866714477539,
          25.181821823120117,
          25.509822845458984,
          25.87939453125,
          25.89324951171875,
          25.3735408782959,
          24.826107025146484,
          24.694446563720703,
          24.74526023864746,
          24.477323532104492,
          24.410341262817383,
          24.271747589111328,
          24.103124618530273,
          22.594804763793945,
          21.90416717529297,
          21.652395248413086,
          21.629297256469727,
          21.985010147094727,
          21.756336212158203,
          21.668031692504883,
          21.547183990478516,
          21.563451766967773,
          21.709856033325195,
          21.498384475708008,
          20.99409294128418,
          21.035926818847656,
          21.816757202148438,
          21.72612762451172,
          21.974781036376953,
          21.8911190032959,
          22.128158569335938,
          22.409351348876953,
          22.750967025756836,
          23.150678634643555,
          23.33426284790039,
          23.32032012939453,
          23.206449508666992,
          22.881107330322266,
          22.709138870239258,
          22.755613327026367,
          22.92060661315918,
          23.013566970825195,
          22.99264907836914,
          23.157649993896484,
          22.967090606689453,
          22.620824813842773,
          22.648712158203125,
          22.574350357055664,
          22.669633865356445,
          22.153724670410156,
          22.10027503967285,
          22.28850746154785,
          22.204853057861328,
          22.332664489746094,
          21.70521354675293,
          21.38916015625,
          21.74936294555664,
          21.93759536743164,
          22.216468811035156,
          22.28386116027832,
          22.0747127532959,
          22.200197219848633,
          22.295480728149414,
          22.467453002929688,
          22.53717041015625,
          22.63941764831543,
          22.511608123779297,
          22.95779800415039,
          22.955469131469727,
          23.199478149414062,
          23.208770751953125,
          23.229690551757812,
          23.106523513793945,
          22.927587509155273,
          22.620824813842773,
          22.46512794494629,
          23.924531936645508,
          24.247554779052734,
          24.217342376708984,
          24.644941329956055,
          24.28009033203125,
          24.584516525268555,
          24.73639488220215,
          25.112567901611328,
          25.320512771606445,
          25.423316955566406,
          25.234066009521484,
          25.217708587646484,
          25.276123046875,
          25.57986831665039,
          25.556501388549805,
          25.519113540649414,
          25.486406326293945,
          25.55183219909668,
          25.353221893310547,
          25.432661056518555,
          25.241073608398438,
          25.133596420288086,
          24.986398696899414,
          24.95836067199707,
          24.766765594482422,
          24.79012680053711,
          24.93733024597168,
          25.17098045349121,
          25.163969039916992,
          25.318174362182617,
          24.654617309570312,
          24.096193313598633,
          24.635927200317383,
          25.222381591796875,
          26.114919662475586,
          27.00278663635254,
          26.850914001464844,
          26.537826538085938,
          26.53548240661621
         ]
        },
        {
         "mode": "lines",
         "name": "RNN",
         "type": "scatter",
         "x": [
          0,
          1,
          2,
          3,
          4,
          5,
          6,
          7,
          8,
          9,
          10,
          11,
          12,
          13,
          14,
          15,
          16,
          17,
          18,
          19,
          20,
          21,
          22,
          23,
          24,
          25,
          26,
          27,
          28,
          29,
          30,
          31,
          32,
          33,
          34,
          35,
          36,
          37,
          38,
          39,
          40,
          41,
          42,
          43,
          44,
          45,
          46,
          47,
          48,
          49,
          50,
          51,
          52,
          53,
          54,
          55,
          56,
          57,
          58,
          59,
          60,
          61,
          62,
          63,
          64,
          65,
          66,
          67,
          68,
          69,
          70,
          71,
          72,
          73,
          74,
          75,
          76,
          77,
          78,
          79,
          80,
          81,
          82,
          83,
          84,
          85,
          86,
          87,
          88,
          89,
          90,
          91,
          92,
          93,
          94,
          95,
          96,
          97,
          98,
          99,
          100,
          101,
          102,
          103,
          104,
          105,
          106,
          107,
          108,
          109,
          110,
          111,
          112,
          113,
          114,
          115,
          116,
          117,
          118,
          119,
          120,
          121,
          122,
          123,
          124,
          125,
          126,
          127,
          128,
          129,
          130,
          131,
          132,
          133,
          134,
          135,
          136,
          137,
          138,
          139,
          140,
          141,
          142,
          143,
          144,
          145,
          146,
          147,
          148,
          149,
          150,
          151,
          152,
          153,
          154,
          155,
          156,
          157,
          158,
          159,
          160,
          161,
          162
         ],
         "y": [
          22.14054298400879,
          22.373828887939453,
          22.13112449645996,
          21.857229232788086,
          22.305049896240234,
          22.2917537689209,
          21.807462692260742,
          22.18181610107422,
          21.984561920166016,
          21.93655014038086,
          21.8211612701416,
          21.89327049255371,
          22.408493041992188,
          22.622026443481445,
          22.21507453918457,
          22.35721206665039,
          22.463008880615234,
          21.950443267822266,
          22.428478240966797,
          22.35298728942871,
          22.459823608398438,
          22.385738372802734,
          23.376239776611328,
          23.17238998413086,
          23.54238510131836,
          23.896705627441406,
          23.511857986450195,
          23.428380966186523,
          23.48274040222168,
          23.466896057128906,
          23.769418716430664,
          23.745872497558594,
          24.36366844177246,
          24.62959861755371,
          24.495128631591797,
          24.57012367248535,
          24.586408615112305,
          24.840091705322266,
          24.60025405883789,
          24.502464294433594,
          24.402883529663086,
          25.191967010498047,
          25.560945510864258,
          25.171302795410156,
          25.4724063873291,
          25.77419662475586,
          25.308422088623047,
          25.65618133544922,
          24.99655532836914,
          25.12578773498535,
          25.30502700805664,
          25.658876419067383,
          25.96605110168457,
          25.818111419677734,
          25.160552978515625,
          24.637590408325195,
          24.666669845581055,
          24.79213523864746,
          24.366724014282227,
          24.223173141479492,
          24.03880500793457,
          23.834285736083984,
          21.89784812927246,
          21.806774139404297,
          21.589937210083008,
          21.63932228088379,
          21.920589447021484,
          21.6624755859375,
          21.756975173950195,
          21.630107879638672,
          21.71280288696289,
          21.811059951782227,
          21.632444381713867,
          21.33837127685547,
          21.427953720092773,
          21.93890953063965,
          21.729537963867188,
          22.121156692504883,
          21.92992401123047,
          22.273334503173828,
          22.439855575561523,
          22.801069259643555,
          23.19024085998535,
          23.358570098876953,
          23.35888671875,
          23.267839431762695,
          22.9389705657959,
          22.840444564819336,
          22.872587203979492,
          23.00616455078125,
          23.054828643798828,
          23.020994186401367,
          23.232683181762695,
          22.947864532470703,
          22.66925811767578,
          22.76441764831543,
          22.606351852416992,
          22.750091552734375,
          22.146209716796875,
          22.292236328125,
          22.344528198242188,
          22.23982048034668,
          22.41329574584961,
          21.762714385986328,
          21.722265243530273,
          21.927610397338867,
          21.991971969604492,
          22.27198600769043,
          22.284849166870117,
          22.1404972076416,
          22.33022117614746,
          22.35064697265625,
          22.54461669921875,
          22.57301139831543,
          22.70499038696289,
          22.546306610107422,
          23.099088668823242,
          22.924928665161133,
          23.31594467163086,
          23.220651626586914,
          23.3104305267334,
          23.147979736328125,
          22.997215270996094,
          22.683208465576172,
          22.58083724975586,
          24.22258949279785,
          24.25291633605957,
          24.233551025390625,
          24.81644630432129,
          24.256776809692383,
          24.7928466796875,
          24.926095962524414,
          25.328231811523438,
          25.46515655517578,
          25.48836898803711,
          25.228296279907227,
          25.268482208251953,
          25.381792068481445,
          25.712787628173828,
          25.578662872314453,
          25.476919174194336,
          25.46183967590332,
          25.555837631225586,
          25.302217483520508,
          25.421449661254883,
          25.204906463623047,
          25.08783531188965,
          24.94443130493164,
          24.90963363647461,
          24.6582088470459,
          24.655887603759766,
          24.8757266998291,
          25.20524787902832,
          25.19081687927246,
          25.361801147460938,
          24.512849807739258,
          23.850725173950195,
          24.873519897460938,
          25.59853744506836,
          26.41383171081543,
          26.919292449951172,
          26.449663162231445,
          25.976049423217773
         ]
        }
       ],
       "layout": {
        "template": {
         "data": {
          "bar": [
           {
            "error_x": {
             "color": "#2a3f5f"
            },
            "error_y": {
             "color": "#2a3f5f"
            },
            "marker": {
             "line": {
              "color": "#E5ECF6",
              "width": 0.5
             }
            },
            "type": "bar"
           }
          ],
          "barpolar": [
           {
            "marker": {
             "line": {
              "color": "#E5ECF6",
              "width": 0.5
             }
            },
            "type": "barpolar"
           }
          ],
          "carpet": [
           {
            "aaxis": {
             "endlinecolor": "#2a3f5f",
             "gridcolor": "white",
             "linecolor": "white",
             "minorgridcolor": "white",
             "startlinecolor": "#2a3f5f"
            },
            "baxis": {
             "endlinecolor": "#2a3f5f",
             "gridcolor": "white",
             "linecolor": "white",
             "minorgridcolor": "white",
             "startlinecolor": "#2a3f5f"
            },
            "type": "carpet"
           }
          ],
          "choropleth": [
           {
            "colorbar": {
             "outlinewidth": 0,
             "ticks": ""
            },
            "type": "choropleth"
           }
          ],
          "contour": [
           {
            "colorbar": {
             "outlinewidth": 0,
             "ticks": ""
            },
            "colorscale": [
             [
              0,
              "#0d0887"
             ],
             [
              0.1111111111111111,
              "#46039f"
             ],
             [
              0.2222222222222222,
              "#7201a8"
             ],
             [
              0.3333333333333333,
              "#9c179e"
             ],
             [
              0.4444444444444444,
              "#bd3786"
             ],
             [
              0.5555555555555556,
              "#d8576b"
             ],
             [
              0.6666666666666666,
              "#ed7953"
             ],
             [
              0.7777777777777778,
              "#fb9f3a"
             ],
             [
              0.8888888888888888,
              "#fdca26"
             ],
             [
              1,
              "#f0f921"
             ]
            ],
            "type": "contour"
           }
          ],
          "contourcarpet": [
           {
            "colorbar": {
             "outlinewidth": 0,
             "ticks": ""
            },
            "type": "contourcarpet"
           }
          ],
          "heatmap": [
           {
            "colorbar": {
             "outlinewidth": 0,
             "ticks": ""
            },
            "colorscale": [
             [
              0,
              "#0d0887"
             ],
             [
              0.1111111111111111,
              "#46039f"
             ],
             [
              0.2222222222222222,
              "#7201a8"
             ],
             [
              0.3333333333333333,
              "#9c179e"
             ],
             [
              0.4444444444444444,
              "#bd3786"
             ],
             [
              0.5555555555555556,
              "#d8576b"
             ],
             [
              0.6666666666666666,
              "#ed7953"
             ],
             [
              0.7777777777777778,
              "#fb9f3a"
             ],
             [
              0.8888888888888888,
              "#fdca26"
             ],
             [
              1,
              "#f0f921"
             ]
            ],
            "type": "heatmap"
           }
          ],
          "heatmapgl": [
           {
            "colorbar": {
             "outlinewidth": 0,
             "ticks": ""
            },
            "colorscale": [
             [
              0,
              "#0d0887"
             ],
             [
              0.1111111111111111,
              "#46039f"
             ],
             [
              0.2222222222222222,
              "#7201a8"
             ],
             [
              0.3333333333333333,
              "#9c179e"
             ],
             [
              0.4444444444444444,
              "#bd3786"
             ],
             [
              0.5555555555555556,
              "#d8576b"
             ],
             [
              0.6666666666666666,
              "#ed7953"
             ],
             [
              0.7777777777777778,
              "#fb9f3a"
             ],
             [
              0.8888888888888888,
              "#fdca26"
             ],
             [
              1,
              "#f0f921"
             ]
            ],
            "type": "heatmapgl"
           }
          ],
          "histogram": [
           {
            "marker": {
             "colorbar": {
              "outlinewidth": 0,
              "ticks": ""
             }
            },
            "type": "histogram"
           }
          ],
          "histogram2d": [
           {
            "colorbar": {
             "outlinewidth": 0,
             "ticks": ""
            },
            "colorscale": [
             [
              0,
              "#0d0887"
             ],
             [
              0.1111111111111111,
              "#46039f"
             ],
             [
              0.2222222222222222,
              "#7201a8"
             ],
             [
              0.3333333333333333,
              "#9c179e"
             ],
             [
              0.4444444444444444,
              "#bd3786"
             ],
             [
              0.5555555555555556,
              "#d8576b"
             ],
             [
              0.6666666666666666,
              "#ed7953"
             ],
             [
              0.7777777777777778,
              "#fb9f3a"
             ],
             [
              0.8888888888888888,
              "#fdca26"
             ],
             [
              1,
              "#f0f921"
             ]
            ],
            "type": "histogram2d"
           }
          ],
          "histogram2dcontour": [
           {
            "colorbar": {
             "outlinewidth": 0,
             "ticks": ""
            },
            "colorscale": [
             [
              0,
              "#0d0887"
             ],
             [
              0.1111111111111111,
              "#46039f"
             ],
             [
              0.2222222222222222,
              "#7201a8"
             ],
             [
              0.3333333333333333,
              "#9c179e"
             ],
             [
              0.4444444444444444,
              "#bd3786"
             ],
             [
              0.5555555555555556,
              "#d8576b"
             ],
             [
              0.6666666666666666,
              "#ed7953"
             ],
             [
              0.7777777777777778,
              "#fb9f3a"
             ],
             [
              0.8888888888888888,
              "#fdca26"
             ],
             [
              1,
              "#f0f921"
             ]
            ],
            "type": "histogram2dcontour"
           }
          ],
          "mesh3d": [
           {
            "colorbar": {
             "outlinewidth": 0,
             "ticks": ""
            },
            "type": "mesh3d"
           }
          ],
          "parcoords": [
           {
            "line": {
             "colorbar": {
              "outlinewidth": 0,
              "ticks": ""
             }
            },
            "type": "parcoords"
           }
          ],
          "pie": [
           {
            "automargin": true,
            "type": "pie"
           }
          ],
          "scatter": [
           {
            "marker": {
             "colorbar": {
              "outlinewidth": 0,
              "ticks": ""
             }
            },
            "type": "scatter"
           }
          ],
          "scatter3d": [
           {
            "line": {
             "colorbar": {
              "outlinewidth": 0,
              "ticks": ""
             }
            },
            "marker": {
             "colorbar": {
              "outlinewidth": 0,
              "ticks": ""
             }
            },
            "type": "scatter3d"
           }
          ],
          "scattercarpet": [
           {
            "marker": {
             "colorbar": {
              "outlinewidth": 0,
              "ticks": ""
             }
            },
            "type": "scattercarpet"
           }
          ],
          "scattergeo": [
           {
            "marker": {
             "colorbar": {
              "outlinewidth": 0,
              "ticks": ""
             }
            },
            "type": "scattergeo"
           }
          ],
          "scattergl": [
           {
            "marker": {
             "colorbar": {
              "outlinewidth": 0,
              "ticks": ""
             }
            },
            "type": "scattergl"
           }
          ],
          "scattermapbox": [
           {
            "marker": {
             "colorbar": {
              "outlinewidth": 0,
              "ticks": ""
             }
            },
            "type": "scattermapbox"
           }
          ],
          "scatterpolar": [
           {
            "marker": {
             "colorbar": {
              "outlinewidth": 0,
              "ticks": ""
             }
            },
            "type": "scatterpolar"
           }
          ],
          "scatterpolargl": [
           {
            "marker": {
             "colorbar": {
              "outlinewidth": 0,
              "ticks": ""
             }
            },
            "type": "scatterpolargl"
           }
          ],
          "scatterternary": [
           {
            "marker": {
             "colorbar": {
              "outlinewidth": 0,
              "ticks": ""
             }
            },
            "type": "scatterternary"
           }
          ],
          "surface": [
           {
            "colorbar": {
             "outlinewidth": 0,
             "ticks": ""
            },
            "colorscale": [
             [
              0,
              "#0d0887"
             ],
             [
              0.1111111111111111,
              "#46039f"
             ],
             [
              0.2222222222222222,
              "#7201a8"
             ],
             [
              0.3333333333333333,
              "#9c179e"
             ],
             [
              0.4444444444444444,
              "#bd3786"
             ],
             [
              0.5555555555555556,
              "#d8576b"
             ],
             [
              0.6666666666666666,
              "#ed7953"
             ],
             [
              0.7777777777777778,
              "#fb9f3a"
             ],
             [
              0.8888888888888888,
              "#fdca26"
             ],
             [
              1,
              "#f0f921"
             ]
            ],
            "type": "surface"
           }
          ],
          "table": [
           {
            "cells": {
             "fill": {
              "color": "#EBF0F8"
             },
             "line": {
              "color": "white"
             }
            },
            "header": {
             "fill": {
              "color": "#C8D4E3"
             },
             "line": {
              "color": "white"
             }
            },
            "type": "table"
           }
          ]
         },
         "layout": {
          "annotationdefaults": {
           "arrowcolor": "#2a3f5f",
           "arrowhead": 0,
           "arrowwidth": 1
          },
          "coloraxis": {
           "colorbar": {
            "outlinewidth": 0,
            "ticks": ""
           }
          },
          "colorscale": {
           "diverging": [
            [
             0,
             "#8e0152"
            ],
            [
             0.1,
             "#c51b7d"
            ],
            [
             0.2,
             "#de77ae"
            ],
            [
             0.3,
             "#f1b6da"
            ],
            [
             0.4,
             "#fde0ef"
            ],
            [
             0.5,
             "#f7f7f7"
            ],
            [
             0.6,
             "#e6f5d0"
            ],
            [
             0.7,
             "#b8e186"
            ],
            [
             0.8,
             "#7fbc41"
            ],
            [
             0.9,
             "#4d9221"
            ],
            [
             1,
             "#276419"
            ]
           ],
           "sequential": [
            [
             0,
             "#0d0887"
            ],
            [
             0.1111111111111111,
             "#46039f"
            ],
            [
             0.2222222222222222,
             "#7201a8"
            ],
            [
             0.3333333333333333,
             "#9c179e"
            ],
            [
             0.4444444444444444,
             "#bd3786"
            ],
            [
             0.5555555555555556,
             "#d8576b"
            ],
            [
             0.6666666666666666,
             "#ed7953"
            ],
            [
             0.7777777777777778,
             "#fb9f3a"
            ],
            [
             0.8888888888888888,
             "#fdca26"
            ],
            [
             1,
             "#f0f921"
            ]
           ],
           "sequentialminus": [
            [
             0,
             "#0d0887"
            ],
            [
             0.1111111111111111,
             "#46039f"
            ],
            [
             0.2222222222222222,
             "#7201a8"
            ],
            [
             0.3333333333333333,
             "#9c179e"
            ],
            [
             0.4444444444444444,
             "#bd3786"
            ],
            [
             0.5555555555555556,
             "#d8576b"
            ],
            [
             0.6666666666666666,
             "#ed7953"
            ],
            [
             0.7777777777777778,
             "#fb9f3a"
            ],
            [
             0.8888888888888888,
             "#fdca26"
            ],
            [
             1,
             "#f0f921"
            ]
           ]
          },
          "colorway": [
           "#636efa",
           "#EF553B",
           "#00cc96",
           "#ab63fa",
           "#FFA15A",
           "#19d3f3",
           "#FF6692",
           "#B6E880",
           "#FF97FF",
           "#FECB52"
          ],
          "font": {
           "color": "#2a3f5f"
          },
          "geo": {
           "bgcolor": "white",
           "lakecolor": "white",
           "landcolor": "#E5ECF6",
           "showlakes": true,
           "showland": true,
           "subunitcolor": "white"
          },
          "hoverlabel": {
           "align": "left"
          },
          "hovermode": "closest",
          "mapbox": {
           "style": "light"
          },
          "paper_bgcolor": "white",
          "plot_bgcolor": "#E5ECF6",
          "polar": {
           "angularaxis": {
            "gridcolor": "white",
            "linecolor": "white",
            "ticks": ""
           },
           "bgcolor": "#E5ECF6",
           "radialaxis": {
            "gridcolor": "white",
            "linecolor": "white",
            "ticks": ""
           }
          },
          "scene": {
           "xaxis": {
            "backgroundcolor": "#E5ECF6",
            "gridcolor": "white",
            "gridwidth": 2,
            "linecolor": "white",
            "showbackground": true,
            "ticks": "",
            "zerolinecolor": "white"
           },
           "yaxis": {
            "backgroundcolor": "#E5ECF6",
            "gridcolor": "white",
            "gridwidth": 2,
            "linecolor": "white",
            "showbackground": true,
            "ticks": "",
            "zerolinecolor": "white"
           },
           "zaxis": {
            "backgroundcolor": "#E5ECF6",
            "gridcolor": "white",
            "gridwidth": 2,
            "linecolor": "white",
            "showbackground": true,
            "ticks": "",
            "zerolinecolor": "white"
           }
          },
          "shapedefaults": {
           "line": {
            "color": "#2a3f5f"
           }
          },
          "ternary": {
           "aaxis": {
            "gridcolor": "white",
            "linecolor": "white",
            "ticks": ""
           },
           "baxis": {
            "gridcolor": "white",
            "linecolor": "white",
            "ticks": ""
           },
           "bgcolor": "#E5ECF6",
           "caxis": {
            "gridcolor": "white",
            "linecolor": "white",
            "ticks": ""
           }
          },
          "title": {
           "x": 0.05
          },
          "xaxis": {
           "automargin": true,
           "gridcolor": "white",
           "linecolor": "white",
           "ticks": "",
           "title": {
            "standoff": 15
           },
           "zerolinecolor": "white",
           "zerolinewidth": 2
          },
          "yaxis": {
           "automargin": true,
           "gridcolor": "white",
           "linecolor": "white",
           "ticks": "",
           "title": {
            "standoff": 15
           },
           "zerolinecolor": "white",
           "zerolinewidth": 2
          }
         }
        },
        "title": {
         "text": "Original Data vs. RNN"
        },
        "xaxis": {
         "title": {
          "text": "Epoch"
         }
        },
        "yaxis": {
         "title": {
          "text": "Stock"
         }
        }
       }
      },
      "text/html": [
       "<div>                            <div id=\"cb42114d-c9be-43e4-8077-f2b9a44aeae2\" class=\"plotly-graph-div\" style=\"height:525px; width:100%;\"></div>            <script type=\"text/javascript\">                require([\"plotly\"], function(Plotly) {                    window.PLOTLYENV=window.PLOTLYENV || {};                                    if (document.getElementById(\"cb42114d-c9be-43e4-8077-f2b9a44aeae2\")) {                    Plotly.newPlot(                        \"cb42114d-c9be-43e4-8077-f2b9a44aeae2\",                        [{\"mode\": \"lines\", \"name\": \"Original\", \"type\": \"scatter\", \"x\": [0, 1, 2, 3, 4, 5, 6, 7, 8, 9, 10, 11, 12, 13, 14, 15, 16, 17, 18, 19, 20, 21, 22, 23, 24, 25, 26, 27, 28, 29, 30, 31, 32, 33, 34, 35, 36, 37, 38, 39, 40, 41, 42, 43, 44, 45, 46, 47, 48, 49, 50, 51, 52, 53, 54, 55, 56, 57, 58, 59, 60, 61, 62, 63, 64, 65, 66, 67, 68, 69, 70, 71, 72, 73, 74, 75, 76, 77, 78, 79, 80, 81, 82, 83, 84, 85, 86, 87, 88, 89, 90, 91, 92, 93, 94, 95, 96, 97, 98, 99, 100, 101, 102, 103, 104, 105, 106, 107, 108, 109, 110, 111, 112, 113, 114, 115, 116, 117, 118, 119, 120, 121, 122, 123, 124, 125, 126, 127, 128, 129, 130, 131, 132, 133, 134, 135, 136, 137, 138, 139, 140, 141, 142, 143, 144, 145, 146, 147, 148, 149, 150, 151, 152, 153, 154, 155, 156, 157, 158, 159, 160, 161, 162], \"y\": [22.36258888244629, 22.15353012084961, 21.70554542541504, 22.135150909423828, 22.313005447387695, 21.71706771850586, 21.945741653442383, 21.941125869750977, 21.774816513061523, 21.643157958984375, 21.71014404296875, 22.322242736816406, 22.664104461669922, 22.23447036743164, 22.18365478515625, 22.377683639526367, 21.871828079223633, 22.1975154876709, 22.349964141845703, 22.38460922241211, 22.333799362182617, 23.22077751159668, 23.271589279174805, 23.44482421875, 23.793609619140625, 23.53029441833496, 23.33626365661621, 23.357053756713867, 23.368602752685547, 23.62037467956543, 23.68042755126953, 24.1562557220459, 24.477323532104492, 24.438053131103516, 24.465770721435547, 24.46346664428711, 24.65056037902832, 24.514280319213867, 24.40802764892578, 24.297149658203125, 24.87230110168457, 25.306554794311523, 25.174894332885742, 25.405874252319336, 25.666887283325195, 25.364299774169922, 25.629934310913086, 25.07094955444336, 25.09866714477539, 25.181821823120117, 25.509822845458984, 25.87939453125, 25.89324951171875, 25.3735408782959, 24.826107025146484, 24.694446563720703, 24.74526023864746, 24.477323532104492, 24.410341262817383, 24.271747589111328, 24.103124618530273, 22.594804763793945, 21.90416717529297, 21.652395248413086, 21.629297256469727, 21.985010147094727, 21.756336212158203, 21.668031692504883, 21.547183990478516, 21.563451766967773, 21.709856033325195, 21.498384475708008, 20.99409294128418, 21.035926818847656, 21.816757202148438, 21.72612762451172, 21.974781036376953, 21.8911190032959, 22.128158569335938, 22.409351348876953, 22.750967025756836, 23.150678634643555, 23.33426284790039, 23.32032012939453, 23.206449508666992, 22.881107330322266, 22.709138870239258, 22.755613327026367, 22.92060661315918, 23.013566970825195, 22.99264907836914, 23.157649993896484, 22.967090606689453, 22.620824813842773, 22.648712158203125, 22.574350357055664, 22.669633865356445, 22.153724670410156, 22.10027503967285, 22.28850746154785, 22.204853057861328, 22.332664489746094, 21.70521354675293, 21.38916015625, 21.74936294555664, 21.93759536743164, 22.216468811035156, 22.28386116027832, 22.0747127532959, 22.200197219848633, 22.295480728149414, 22.467453002929688, 22.53717041015625, 22.63941764831543, 22.511608123779297, 22.95779800415039, 22.955469131469727, 23.199478149414062, 23.208770751953125, 23.229690551757812, 23.106523513793945, 22.927587509155273, 22.620824813842773, 22.46512794494629, 23.924531936645508, 24.247554779052734, 24.217342376708984, 24.644941329956055, 24.28009033203125, 24.584516525268555, 24.73639488220215, 25.112567901611328, 25.320512771606445, 25.423316955566406, 25.234066009521484, 25.217708587646484, 25.276123046875, 25.57986831665039, 25.556501388549805, 25.519113540649414, 25.486406326293945, 25.55183219909668, 25.353221893310547, 25.432661056518555, 25.241073608398438, 25.133596420288086, 24.986398696899414, 24.95836067199707, 24.766765594482422, 24.79012680053711, 24.93733024597168, 25.17098045349121, 25.163969039916992, 25.318174362182617, 24.654617309570312, 24.096193313598633, 24.635927200317383, 25.222381591796875, 26.114919662475586, 27.00278663635254, 26.850914001464844, 26.537826538085938, 26.53548240661621]}, {\"mode\": \"lines\", \"name\": \"RNN\", \"type\": \"scatter\", \"x\": [0, 1, 2, 3, 4, 5, 6, 7, 8, 9, 10, 11, 12, 13, 14, 15, 16, 17, 18, 19, 20, 21, 22, 23, 24, 25, 26, 27, 28, 29, 30, 31, 32, 33, 34, 35, 36, 37, 38, 39, 40, 41, 42, 43, 44, 45, 46, 47, 48, 49, 50, 51, 52, 53, 54, 55, 56, 57, 58, 59, 60, 61, 62, 63, 64, 65, 66, 67, 68, 69, 70, 71, 72, 73, 74, 75, 76, 77, 78, 79, 80, 81, 82, 83, 84, 85, 86, 87, 88, 89, 90, 91, 92, 93, 94, 95, 96, 97, 98, 99, 100, 101, 102, 103, 104, 105, 106, 107, 108, 109, 110, 111, 112, 113, 114, 115, 116, 117, 118, 119, 120, 121, 122, 123, 124, 125, 126, 127, 128, 129, 130, 131, 132, 133, 134, 135, 136, 137, 138, 139, 140, 141, 142, 143, 144, 145, 146, 147, 148, 149, 150, 151, 152, 153, 154, 155, 156, 157, 158, 159, 160, 161, 162], \"y\": [22.14054298400879, 22.373828887939453, 22.13112449645996, 21.857229232788086, 22.305049896240234, 22.2917537689209, 21.807462692260742, 22.18181610107422, 21.984561920166016, 21.93655014038086, 21.8211612701416, 21.89327049255371, 22.408493041992188, 22.622026443481445, 22.21507453918457, 22.35721206665039, 22.463008880615234, 21.950443267822266, 22.428478240966797, 22.35298728942871, 22.459823608398438, 22.385738372802734, 23.376239776611328, 23.17238998413086, 23.54238510131836, 23.896705627441406, 23.511857986450195, 23.428380966186523, 23.48274040222168, 23.466896057128906, 23.769418716430664, 23.745872497558594, 24.36366844177246, 24.62959861755371, 24.495128631591797, 24.57012367248535, 24.586408615112305, 24.840091705322266, 24.60025405883789, 24.502464294433594, 24.402883529663086, 25.191967010498047, 25.560945510864258, 25.171302795410156, 25.4724063873291, 25.77419662475586, 25.308422088623047, 25.65618133544922, 24.99655532836914, 25.12578773498535, 25.30502700805664, 25.658876419067383, 25.96605110168457, 25.818111419677734, 25.160552978515625, 24.637590408325195, 24.666669845581055, 24.79213523864746, 24.366724014282227, 24.223173141479492, 24.03880500793457, 23.834285736083984, 21.89784812927246, 21.806774139404297, 21.589937210083008, 21.63932228088379, 21.920589447021484, 21.6624755859375, 21.756975173950195, 21.630107879638672, 21.71280288696289, 21.811059951782227, 21.632444381713867, 21.33837127685547, 21.427953720092773, 21.93890953063965, 21.729537963867188, 22.121156692504883, 21.92992401123047, 22.273334503173828, 22.439855575561523, 22.801069259643555, 23.19024085998535, 23.358570098876953, 23.35888671875, 23.267839431762695, 22.9389705657959, 22.840444564819336, 22.872587203979492, 23.00616455078125, 23.054828643798828, 23.020994186401367, 23.232683181762695, 22.947864532470703, 22.66925811767578, 22.76441764831543, 22.606351852416992, 22.750091552734375, 22.146209716796875, 22.292236328125, 22.344528198242188, 22.23982048034668, 22.41329574584961, 21.762714385986328, 21.722265243530273, 21.927610397338867, 21.991971969604492, 22.27198600769043, 22.284849166870117, 22.1404972076416, 22.33022117614746, 22.35064697265625, 22.54461669921875, 22.57301139831543, 22.70499038696289, 22.546306610107422, 23.099088668823242, 22.924928665161133, 23.31594467163086, 23.220651626586914, 23.3104305267334, 23.147979736328125, 22.997215270996094, 22.683208465576172, 22.58083724975586, 24.22258949279785, 24.25291633605957, 24.233551025390625, 24.81644630432129, 24.256776809692383, 24.7928466796875, 24.926095962524414, 25.328231811523438, 25.46515655517578, 25.48836898803711, 25.228296279907227, 25.268482208251953, 25.381792068481445, 25.712787628173828, 25.578662872314453, 25.476919174194336, 25.46183967590332, 25.555837631225586, 25.302217483520508, 25.421449661254883, 25.204906463623047, 25.08783531188965, 24.94443130493164, 24.90963363647461, 24.6582088470459, 24.655887603759766, 24.8757266998291, 25.20524787902832, 25.19081687927246, 25.361801147460938, 24.512849807739258, 23.850725173950195, 24.873519897460938, 25.59853744506836, 26.41383171081543, 26.919292449951172, 26.449663162231445, 25.976049423217773]}],                        {\"template\": {\"data\": {\"bar\": [{\"error_x\": {\"color\": \"#2a3f5f\"}, \"error_y\": {\"color\": \"#2a3f5f\"}, \"marker\": {\"line\": {\"color\": \"#E5ECF6\", \"width\": 0.5}}, \"type\": \"bar\"}], \"barpolar\": [{\"marker\": {\"line\": {\"color\": \"#E5ECF6\", \"width\": 0.5}}, \"type\": \"barpolar\"}], \"carpet\": [{\"aaxis\": {\"endlinecolor\": \"#2a3f5f\", \"gridcolor\": \"white\", \"linecolor\": \"white\", \"minorgridcolor\": \"white\", \"startlinecolor\": \"#2a3f5f\"}, \"baxis\": {\"endlinecolor\": \"#2a3f5f\", \"gridcolor\": \"white\", \"linecolor\": \"white\", \"minorgridcolor\": \"white\", \"startlinecolor\": \"#2a3f5f\"}, \"type\": \"carpet\"}], \"choropleth\": [{\"colorbar\": {\"outlinewidth\": 0, \"ticks\": \"\"}, \"type\": \"choropleth\"}], \"contour\": [{\"colorbar\": {\"outlinewidth\": 0, \"ticks\": \"\"}, \"colorscale\": [[0.0, \"#0d0887\"], [0.1111111111111111, \"#46039f\"], [0.2222222222222222, \"#7201a8\"], [0.3333333333333333, \"#9c179e\"], [0.4444444444444444, \"#bd3786\"], [0.5555555555555556, \"#d8576b\"], [0.6666666666666666, \"#ed7953\"], [0.7777777777777778, \"#fb9f3a\"], [0.8888888888888888, \"#fdca26\"], [1.0, \"#f0f921\"]], \"type\": \"contour\"}], \"contourcarpet\": [{\"colorbar\": {\"outlinewidth\": 0, \"ticks\": \"\"}, \"type\": \"contourcarpet\"}], \"heatmap\": [{\"colorbar\": {\"outlinewidth\": 0, \"ticks\": \"\"}, \"colorscale\": [[0.0, \"#0d0887\"], [0.1111111111111111, \"#46039f\"], [0.2222222222222222, \"#7201a8\"], [0.3333333333333333, \"#9c179e\"], [0.4444444444444444, \"#bd3786\"], [0.5555555555555556, \"#d8576b\"], [0.6666666666666666, \"#ed7953\"], [0.7777777777777778, \"#fb9f3a\"], [0.8888888888888888, \"#fdca26\"], [1.0, \"#f0f921\"]], \"type\": \"heatmap\"}], \"heatmapgl\": [{\"colorbar\": {\"outlinewidth\": 0, \"ticks\": \"\"}, \"colorscale\": [[0.0, \"#0d0887\"], [0.1111111111111111, \"#46039f\"], [0.2222222222222222, \"#7201a8\"], [0.3333333333333333, \"#9c179e\"], [0.4444444444444444, \"#bd3786\"], [0.5555555555555556, \"#d8576b\"], [0.6666666666666666, \"#ed7953\"], [0.7777777777777778, \"#fb9f3a\"], [0.8888888888888888, \"#fdca26\"], [1.0, \"#f0f921\"]], \"type\": \"heatmapgl\"}], \"histogram\": [{\"marker\": {\"colorbar\": {\"outlinewidth\": 0, \"ticks\": \"\"}}, \"type\": \"histogram\"}], \"histogram2d\": [{\"colorbar\": {\"outlinewidth\": 0, \"ticks\": \"\"}, \"colorscale\": [[0.0, \"#0d0887\"], [0.1111111111111111, \"#46039f\"], [0.2222222222222222, \"#7201a8\"], [0.3333333333333333, \"#9c179e\"], [0.4444444444444444, \"#bd3786\"], [0.5555555555555556, \"#d8576b\"], [0.6666666666666666, \"#ed7953\"], [0.7777777777777778, \"#fb9f3a\"], [0.8888888888888888, \"#fdca26\"], [1.0, \"#f0f921\"]], \"type\": \"histogram2d\"}], \"histogram2dcontour\": [{\"colorbar\": {\"outlinewidth\": 0, \"ticks\": \"\"}, \"colorscale\": [[0.0, \"#0d0887\"], [0.1111111111111111, \"#46039f\"], [0.2222222222222222, \"#7201a8\"], [0.3333333333333333, \"#9c179e\"], [0.4444444444444444, \"#bd3786\"], [0.5555555555555556, \"#d8576b\"], [0.6666666666666666, \"#ed7953\"], [0.7777777777777778, \"#fb9f3a\"], [0.8888888888888888, \"#fdca26\"], [1.0, \"#f0f921\"]], \"type\": \"histogram2dcontour\"}], \"mesh3d\": [{\"colorbar\": {\"outlinewidth\": 0, \"ticks\": \"\"}, \"type\": \"mesh3d\"}], \"parcoords\": [{\"line\": {\"colorbar\": {\"outlinewidth\": 0, \"ticks\": \"\"}}, \"type\": \"parcoords\"}], \"pie\": [{\"automargin\": true, \"type\": \"pie\"}], \"scatter\": [{\"marker\": {\"colorbar\": {\"outlinewidth\": 0, \"ticks\": \"\"}}, \"type\": \"scatter\"}], \"scatter3d\": [{\"line\": {\"colorbar\": {\"outlinewidth\": 0, \"ticks\": \"\"}}, \"marker\": {\"colorbar\": {\"outlinewidth\": 0, \"ticks\": \"\"}}, \"type\": \"scatter3d\"}], \"scattercarpet\": [{\"marker\": {\"colorbar\": {\"outlinewidth\": 0, \"ticks\": \"\"}}, \"type\": \"scattercarpet\"}], \"scattergeo\": [{\"marker\": {\"colorbar\": {\"outlinewidth\": 0, \"ticks\": \"\"}}, \"type\": \"scattergeo\"}], \"scattergl\": [{\"marker\": {\"colorbar\": {\"outlinewidth\": 0, \"ticks\": \"\"}}, \"type\": \"scattergl\"}], \"scattermapbox\": [{\"marker\": {\"colorbar\": {\"outlinewidth\": 0, \"ticks\": \"\"}}, \"type\": \"scattermapbox\"}], \"scatterpolar\": [{\"marker\": {\"colorbar\": {\"outlinewidth\": 0, \"ticks\": \"\"}}, \"type\": \"scatterpolar\"}], \"scatterpolargl\": [{\"marker\": {\"colorbar\": {\"outlinewidth\": 0, \"ticks\": \"\"}}, \"type\": \"scatterpolargl\"}], \"scatterternary\": [{\"marker\": {\"colorbar\": {\"outlinewidth\": 0, \"ticks\": \"\"}}, \"type\": \"scatterternary\"}], \"surface\": [{\"colorbar\": {\"outlinewidth\": 0, \"ticks\": \"\"}, \"colorscale\": [[0.0, \"#0d0887\"], [0.1111111111111111, \"#46039f\"], [0.2222222222222222, \"#7201a8\"], [0.3333333333333333, \"#9c179e\"], [0.4444444444444444, \"#bd3786\"], [0.5555555555555556, \"#d8576b\"], [0.6666666666666666, \"#ed7953\"], [0.7777777777777778, \"#fb9f3a\"], [0.8888888888888888, \"#fdca26\"], [1.0, \"#f0f921\"]], \"type\": \"surface\"}], \"table\": [{\"cells\": {\"fill\": {\"color\": \"#EBF0F8\"}, \"line\": {\"color\": \"white\"}}, \"header\": {\"fill\": {\"color\": \"#C8D4E3\"}, \"line\": {\"color\": \"white\"}}, \"type\": \"table\"}]}, \"layout\": {\"annotationdefaults\": {\"arrowcolor\": \"#2a3f5f\", \"arrowhead\": 0, \"arrowwidth\": 1}, \"coloraxis\": {\"colorbar\": {\"outlinewidth\": 0, \"ticks\": \"\"}}, \"colorscale\": {\"diverging\": [[0, \"#8e0152\"], [0.1, \"#c51b7d\"], [0.2, \"#de77ae\"], [0.3, \"#f1b6da\"], [0.4, \"#fde0ef\"], [0.5, \"#f7f7f7\"], [0.6, \"#e6f5d0\"], [0.7, \"#b8e186\"], [0.8, \"#7fbc41\"], [0.9, \"#4d9221\"], [1, \"#276419\"]], \"sequential\": [[0.0, \"#0d0887\"], [0.1111111111111111, \"#46039f\"], [0.2222222222222222, \"#7201a8\"], [0.3333333333333333, \"#9c179e\"], [0.4444444444444444, \"#bd3786\"], [0.5555555555555556, \"#d8576b\"], [0.6666666666666666, \"#ed7953\"], [0.7777777777777778, \"#fb9f3a\"], [0.8888888888888888, \"#fdca26\"], [1.0, \"#f0f921\"]], \"sequentialminus\": [[0.0, \"#0d0887\"], [0.1111111111111111, \"#46039f\"], [0.2222222222222222, \"#7201a8\"], [0.3333333333333333, \"#9c179e\"], [0.4444444444444444, \"#bd3786\"], [0.5555555555555556, \"#d8576b\"], [0.6666666666666666, \"#ed7953\"], [0.7777777777777778, \"#fb9f3a\"], [0.8888888888888888, \"#fdca26\"], [1.0, \"#f0f921\"]]}, \"colorway\": [\"#636efa\", \"#EF553B\", \"#00cc96\", \"#ab63fa\", \"#FFA15A\", \"#19d3f3\", \"#FF6692\", \"#B6E880\", \"#FF97FF\", \"#FECB52\"], \"font\": {\"color\": \"#2a3f5f\"}, \"geo\": {\"bgcolor\": \"white\", \"lakecolor\": \"white\", \"landcolor\": \"#E5ECF6\", \"showlakes\": true, \"showland\": true, \"subunitcolor\": \"white\"}, \"hoverlabel\": {\"align\": \"left\"}, \"hovermode\": \"closest\", \"mapbox\": {\"style\": \"light\"}, \"paper_bgcolor\": \"white\", \"plot_bgcolor\": \"#E5ECF6\", \"polar\": {\"angularaxis\": {\"gridcolor\": \"white\", \"linecolor\": \"white\", \"ticks\": \"\"}, \"bgcolor\": \"#E5ECF6\", \"radialaxis\": {\"gridcolor\": \"white\", \"linecolor\": \"white\", \"ticks\": \"\"}}, \"scene\": {\"xaxis\": {\"backgroundcolor\": \"#E5ECF6\", \"gridcolor\": \"white\", \"gridwidth\": 2, \"linecolor\": \"white\", \"showbackground\": true, \"ticks\": \"\", \"zerolinecolor\": \"white\"}, \"yaxis\": {\"backgroundcolor\": \"#E5ECF6\", \"gridcolor\": \"white\", \"gridwidth\": 2, \"linecolor\": \"white\", \"showbackground\": true, \"ticks\": \"\", \"zerolinecolor\": \"white\"}, \"zaxis\": {\"backgroundcolor\": \"#E5ECF6\", \"gridcolor\": \"white\", \"gridwidth\": 2, \"linecolor\": \"white\", \"showbackground\": true, \"ticks\": \"\", \"zerolinecolor\": \"white\"}}, \"shapedefaults\": {\"line\": {\"color\": \"#2a3f5f\"}}, \"ternary\": {\"aaxis\": {\"gridcolor\": \"white\", \"linecolor\": \"white\", \"ticks\": \"\"}, \"baxis\": {\"gridcolor\": \"white\", \"linecolor\": \"white\", \"ticks\": \"\"}, \"bgcolor\": \"#E5ECF6\", \"caxis\": {\"gridcolor\": \"white\", \"linecolor\": \"white\", \"ticks\": \"\"}}, \"title\": {\"x\": 0.05}, \"xaxis\": {\"automargin\": true, \"gridcolor\": \"white\", \"linecolor\": \"white\", \"ticks\": \"\", \"title\": {\"standoff\": 15}, \"zerolinecolor\": \"white\", \"zerolinewidth\": 2}, \"yaxis\": {\"automargin\": true, \"gridcolor\": \"white\", \"linecolor\": \"white\", \"ticks\": \"\", \"title\": {\"standoff\": 15}, \"zerolinecolor\": \"white\", \"zerolinewidth\": 2}}}, \"title\": {\"text\": \"Original Data vs. RNN\"}, \"xaxis\": {\"title\": {\"text\": \"Epoch\"}}, \"yaxis\": {\"title\": {\"text\": \"Stock\"}}},                        {\"responsive\": true}                    ).then(function(){\n",
       "                            \n",
       "var gd = document.getElementById('cb42114d-c9be-43e4-8077-f2b9a44aeae2');\n",
       "var x = new MutationObserver(function (mutations, observer) {{\n",
       "        var display = window.getComputedStyle(gd).display;\n",
       "        if (!display || display === 'none') {{\n",
       "            console.log([gd, 'removed!']);\n",
       "            Plotly.purge(gd);\n",
       "            observer.disconnect();\n",
       "        }}\n",
       "}});\n",
       "\n",
       "// Listen for the removal of the full notebook cells\n",
       "var notebookContainer = gd.closest('#notebook-container');\n",
       "if (notebookContainer) {{\n",
       "    x.observe(notebookContainer, {childList: true});\n",
       "}}\n",
       "\n",
       "// Listen for the clearing of the current output cell\n",
       "var outputEl = gd.closest('.output');\n",
       "if (outputEl) {{\n",
       "    x.observe(outputEl, {childList: true});\n",
       "}}\n",
       "\n",
       "                        })                };                });            </script>        </div>"
      ]
     },
     "metadata": {},
     "output_type": "display_data"
    }
   ],
   "source": [
    "import plotly.graph_objects as go\n",
    "\n",
    "# Create random data with numpy\n",
    "import numpy as np\n",
    "np.random.seed(1)\n",
    "\n",
    "new_original = []\n",
    "new_pred = []\n",
    "for i in range(len(original.values)):\n",
    "    new_original.append(original.values[i][0])\n",
    "for i in range(len(original.values)):\n",
    "    new_pred.append(predict.values[i][0])\n",
    "new_original = np.array(new_original)\n",
    "new_pred = np.array(new_pred)\n",
    "\n",
    "# Create traces\n",
    "fig = go.Figure()\n",
    "fig.add_trace(go.Scatter(x=original.index, y=new_original,\n",
    "                    mode='lines',\n",
    "                    name='Original'))\n",
    "fig.add_trace(go.Scatter(x=original.index, y=new_pred,\n",
    "                    mode='lines',\n",
    "                    name='RNN'))\n",
    "fig.update_layout(title='Original Data vs. RNN',\n",
    "                   xaxis_title='Epoch',\n",
    "                   yaxis_title='Stock')\n",
    "\n",
    "fig.show()"
   ]
  },
  {
   "cell_type": "code",
   "execution_count": 14,
   "metadata": {},
   "outputs": [
    {
     "name": "stdout",
     "output_type": "stream",
     "text": [
      "<class 'torch.Tensor'>\n"
     ]
    }
   ],
   "source": [
    "from sklearn.metrics import mean_squared_error\n",
    "import plotly.express as px\n",
    "import plotly.graph_objects as go\n",
    "\n",
    "# make predictions\n",
    "y_test_pred = model(x_test)\n",
    "#\n",
    "print(type(y_train))\n",
    "#\n",
    "# invert predictions\n",
    "y_train_pred = scaler.inverse_transform(y_pred.detach().numpy())\n",
    "y_train = scaler.inverse_transform(y_train.detach().numpy())\n",
    "y_test_pred = scaler.inverse_transform(y_test_pred.detach().numpy())\n",
    "y_test = scaler.inverse_transform(y_test.detach().numpy())"
   ]
  },
  {
   "cell_type": "code",
   "execution_count": null,
   "metadata": {},
   "outputs": [],
   "source": [
    "model.eval()\n",
    "\n",
    "for i in range(fut_pred):\n",
    "    seq = torch.FloatTensor(test_inputs[-train_window:])\n",
    "    with torch.no_grad():\n",
    "        model.hidden = (torch.zeros(1, 1, model.hidden_layer_size),\n",
    "                        torch.zeros(1, 1, model.hidden_layer_size))\n",
    "        test_inputs.append(model(seq).item())"
   ]
  },
  {
   "cell_type": "code",
   "execution_count": null,
   "metadata": {},
   "outputs": [],
   "source": [
    "actual_predictions = scaler.inverse_transform(np.array(test_inputs).reshape(-1, 1))"
   ]
  },
  {
   "cell_type": "code",
   "execution_count": null,
   "metadata": {},
   "outputs": [],
   "source": [
    "x = np.arange(split-train_window, split+train_window, 1)\n",
    "\n",
    "fig, ax = plt.subplots(figsize=[20,12])\n",
    "plt.plot(mid_prices)\n",
    "plt.plot(x,actual_predictions, ls='--')"
   ]
  },
  {
   "cell_type": "code",
   "execution_count": null,
   "metadata": {},
   "outputs": [],
   "source": [
    "# shift train predictions for plotting\n",
    "\n",
    "trainPredictPlot = np.empty_like(price)\n",
    "trainPredictPlot[:] = np.nan\n",
    "trainPredictPlot[train_window:len(y_train_pred)+train_window] = y_train_pred[0]\n",
    "\n",
    "# shift test predictions for plotting\n",
    "testPredictPlot = np.empty_like(price)\n",
    "testPredictPlot[:] = np.nan\n",
    "testPredictPlot[len(y_train_pred)+train_window-1:len(price)-1] = y_test_pred[0]\n",
    "\n",
    "original = scaler.inverse_transform(price.values.reshape(-1,1))\n",
    "print(testPredictPlot.shape)\n",
    "print(trainPredictPlot.shape)\n",
    "print(original)\n",
    "predictions = np.append(trainPredictPlot, testPredictPlot, axis=0)\n",
    "predictions = np.append(predictions, original, axis=0)\n",
    "result = pd.DataFrame(predictions)\n",
    "\n",
    "fig = go.Figure()\n",
    "fig.add_trace(go.Scatter(go.Scatter(x=result.index, y=result[0],\n",
    "                    mode='lines',\n",
    "                    name='Train prediction')))\n",
    "fig.add_trace(go.Scatter(x=result.index, y=result[1],\n",
    "                    mode='lines',\n",
    "                    name='Test prediction'))\n",
    "fig.add_trace(go.Scatter(go.Scatter(x=result.index, y=result[2],\n",
    "                    mode='lines',\n",
    "                    name='Actual Value')))\n",
    "fig.show()"
   ]
  }
 ],
 "metadata": {
  "kernelspec": {
   "display_name": "Python 3",
   "language": "python",
   "name": "python3"
  },
  "language_info": {
   "codemirror_mode": {
    "name": "ipython",
    "version": 3
   },
   "file_extension": ".py",
   "mimetype": "text/x-python",
   "name": "python",
   "nbconvert_exporter": "python",
   "pygments_lexer": "ipython3",
   "version": "3.7.4"
  }
 },
 "nbformat": 4,
 "nbformat_minor": 2
}
